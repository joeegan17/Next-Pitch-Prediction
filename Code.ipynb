{
 "cells": [
  {
   "cell_type": "code",
   "execution_count": 55,
   "metadata": {},
   "outputs": [],
   "source": [
    "import os\n",
    "from tqdm import tqdm\n",
    "import pickle\n",
    "import numpy as np\n",
    "import pandas as pd\n",
    "import matplotlib.pyplot as plt\n",
    "import seaborn as sns"
   ]
  },
  {
   "cell_type": "code",
   "execution_count": 56,
   "metadata": {},
   "outputs": [],
   "source": [
    "import torch"
   ]
  },
  {
   "attachments": {},
   "cell_type": "markdown",
   "metadata": {},
   "source": [
    "Please review the dataset and start outlining the way you would go about the model-building process with the goal of predicting the probability that the next thrown pitch will be a fastball, slider, change-up, etc.\n",
    "\n",
    "We would like to see you assess the data, build a predictive model, and then evaluate that model and the success of its predictions,  with the understanding that delivering predictions with any degree of accuracy is unlikely in this short time span. Please provide any associated data analysis (plots, graphs, etc..), feature engineering, and code assembled in the form of a python notebook (or similar). Please include markup text to explain your analysis, graphs, etc. If you include a notebook, please also add an HTML version of that notebook, to facilitate review.\n",
    "\n",
    "We would like you to spend no more than 4-6 hours on this project so please provide some details around future steps you would take if you had more time to finalize this project.  This is meant to be an open-ended/creative project, so focus your time where you see best. Let me know if you have any questions along the way. We aim to have a turnaround time to return the project in a week. We also understand that this isn't always possible, so if you need additional time, please let me know so I can keep the Hiring Team in the loop. "
   ]
  },
  {
   "cell_type": "code",
   "execution_count": 58,
   "metadata": {},
   "outputs": [
    {
     "name": "stderr",
     "output_type": "stream",
     "text": [
      "C:\\Users\\Joe\\AppData\\Local\\Temp\\ipykernel_17484\\3472053155.py:1: DtypeWarning: Columns (29,30) have mixed types. Specify dtype option on import or set low_memory=False.\n",
      "  data_df = pd.read_csv('pitches')\n"
     ]
    }
   ],
   "source": [
    "data_df = pd.read_csv('pitches')\n",
    "\n",
    "#Need to check out columns 29 and 30"
   ]
  },
  {
   "cell_type": "code",
   "execution_count": 15,
   "metadata": {},
   "outputs": [
    {
     "name": "stderr",
     "output_type": "stream",
     "text": [
      "100%|██████████| 718961/718961 [02:52<00:00, 4165.15it/s]\n"
     ]
    }
   ],
   "source": [
    "#Checking to make sure everything was split properly\n",
    "for i in tqdm(range(len(data_df))):\n",
    "    if len(data_df.loc[i]) != 125:\n",
    "        print('Broken at index: ', i)\n"
   ]
  },
  {
   "cell_type": "code",
   "execution_count": 59,
   "metadata": {},
   "outputs": [
    {
     "data": {
      "text/html": [
       "<div>\n",
       "<style scoped>\n",
       "    .dataframe tbody tr th:only-of-type {\n",
       "        vertical-align: middle;\n",
       "    }\n",
       "\n",
       "    .dataframe tbody tr th {\n",
       "        vertical-align: top;\n",
       "    }\n",
       "\n",
       "    .dataframe thead th {\n",
       "        text-align: right;\n",
       "    }\n",
       "</style>\n",
       "<table border=\"1\" class=\"dataframe\">\n",
       "  <thead>\n",
       "    <tr style=\"text-align: right;\">\n",
       "      <th></th>\n",
       "      <th>uid</th>\n",
       "      <th>game_pk</th>\n",
       "      <th>year</th>\n",
       "      <th>date</th>\n",
       "      <th>team_id_b</th>\n",
       "      <th>team_id_p</th>\n",
       "      <th>inning</th>\n",
       "      <th>top</th>\n",
       "      <th>at_bat_num</th>\n",
       "      <th>pcount_at_bat</th>\n",
       "      <th>...</th>\n",
       "      <th>runner7_start</th>\n",
       "      <th>runner7_end</th>\n",
       "      <th>runner7_event</th>\n",
       "      <th>runner7_score</th>\n",
       "      <th>runner7_rbi</th>\n",
       "      <th>runner7_earned</th>\n",
       "      <th>created_at</th>\n",
       "      <th>added_at</th>\n",
       "      <th>modified_at</th>\n",
       "      <th>modified_by</th>\n",
       "    </tr>\n",
       "  </thead>\n",
       "  <tbody>\n",
       "    <tr>\n",
       "      <th>0</th>\n",
       "      <td>14143226</td>\n",
       "      <td>286874</td>\n",
       "      <td>2011</td>\n",
       "      <td>2011-03-31</td>\n",
       "      <td>108</td>\n",
       "      <td>118</td>\n",
       "      <td>1</td>\n",
       "      <td>1</td>\n",
       "      <td>1</td>\n",
       "      <td>1</td>\n",
       "      <td>...</td>\n",
       "      <td>NaN</td>\n",
       "      <td>NaN</td>\n",
       "      <td>NaN</td>\n",
       "      <td>NaN</td>\n",
       "      <td>NaN</td>\n",
       "      <td>NaN</td>\n",
       "      <td>2016-03-03 21:33:20</td>\n",
       "      <td>2016-03-03 21:33:20</td>\n",
       "      <td>2016-03-03 21:33:20</td>\n",
       "      <td>1</td>\n",
       "    </tr>\n",
       "    <tr>\n",
       "      <th>1</th>\n",
       "      <td>14143227</td>\n",
       "      <td>286874</td>\n",
       "      <td>2011</td>\n",
       "      <td>2011-03-31</td>\n",
       "      <td>108</td>\n",
       "      <td>118</td>\n",
       "      <td>1</td>\n",
       "      <td>1</td>\n",
       "      <td>1</td>\n",
       "      <td>2</td>\n",
       "      <td>...</td>\n",
       "      <td>NaN</td>\n",
       "      <td>NaN</td>\n",
       "      <td>NaN</td>\n",
       "      <td>NaN</td>\n",
       "      <td>NaN</td>\n",
       "      <td>NaN</td>\n",
       "      <td>2016-03-03 21:33:20</td>\n",
       "      <td>2016-03-03 21:33:20</td>\n",
       "      <td>2016-03-03 21:33:20</td>\n",
       "      <td>1</td>\n",
       "    </tr>\n",
       "    <tr>\n",
       "      <th>2</th>\n",
       "      <td>14143228</td>\n",
       "      <td>286874</td>\n",
       "      <td>2011</td>\n",
       "      <td>2011-03-31</td>\n",
       "      <td>108</td>\n",
       "      <td>118</td>\n",
       "      <td>1</td>\n",
       "      <td>1</td>\n",
       "      <td>1</td>\n",
       "      <td>3</td>\n",
       "      <td>...</td>\n",
       "      <td>NaN</td>\n",
       "      <td>NaN</td>\n",
       "      <td>NaN</td>\n",
       "      <td>NaN</td>\n",
       "      <td>NaN</td>\n",
       "      <td>NaN</td>\n",
       "      <td>2016-03-03 21:33:20</td>\n",
       "      <td>2016-03-03 21:33:20</td>\n",
       "      <td>2016-03-03 21:33:20</td>\n",
       "      <td>1</td>\n",
       "    </tr>\n",
       "    <tr>\n",
       "      <th>3</th>\n",
       "      <td>14143229</td>\n",
       "      <td>286874</td>\n",
       "      <td>2011</td>\n",
       "      <td>2011-03-31</td>\n",
       "      <td>108</td>\n",
       "      <td>118</td>\n",
       "      <td>1</td>\n",
       "      <td>1</td>\n",
       "      <td>1</td>\n",
       "      <td>4</td>\n",
       "      <td>...</td>\n",
       "      <td>NaN</td>\n",
       "      <td>NaN</td>\n",
       "      <td>NaN</td>\n",
       "      <td>NaN</td>\n",
       "      <td>NaN</td>\n",
       "      <td>NaN</td>\n",
       "      <td>2016-03-03 21:33:20</td>\n",
       "      <td>2016-03-03 21:33:20</td>\n",
       "      <td>2016-03-03 21:33:20</td>\n",
       "      <td>1</td>\n",
       "    </tr>\n",
       "    <tr>\n",
       "      <th>4</th>\n",
       "      <td>14143230</td>\n",
       "      <td>286874</td>\n",
       "      <td>2011</td>\n",
       "      <td>2011-03-31</td>\n",
       "      <td>108</td>\n",
       "      <td>118</td>\n",
       "      <td>1</td>\n",
       "      <td>1</td>\n",
       "      <td>2</td>\n",
       "      <td>1</td>\n",
       "      <td>...</td>\n",
       "      <td>NaN</td>\n",
       "      <td>NaN</td>\n",
       "      <td>NaN</td>\n",
       "      <td>NaN</td>\n",
       "      <td>NaN</td>\n",
       "      <td>NaN</td>\n",
       "      <td>2016-03-03 21:33:20</td>\n",
       "      <td>2016-03-03 21:33:20</td>\n",
       "      <td>2016-03-03 21:33:20</td>\n",
       "      <td>1</td>\n",
       "    </tr>\n",
       "  </tbody>\n",
       "</table>\n",
       "<p>5 rows × 125 columns</p>\n",
       "</div>"
      ],
      "text/plain": [
       "        uid  game_pk  year        date  team_id_b  team_id_p  inning  top  \\\n",
       "0  14143226   286874  2011  2011-03-31        108        118       1    1   \n",
       "1  14143227   286874  2011  2011-03-31        108        118       1    1   \n",
       "2  14143228   286874  2011  2011-03-31        108        118       1    1   \n",
       "3  14143229   286874  2011  2011-03-31        108        118       1    1   \n",
       "4  14143230   286874  2011  2011-03-31        108        118       1    1   \n",
       "\n",
       "   at_bat_num  pcount_at_bat  ...  runner7_start  runner7_end  runner7_event  \\\n",
       "0           1              1  ...            NaN          NaN            NaN   \n",
       "1           1              2  ...            NaN          NaN            NaN   \n",
       "2           1              3  ...            NaN          NaN            NaN   \n",
       "3           1              4  ...            NaN          NaN            NaN   \n",
       "4           2              1  ...            NaN          NaN            NaN   \n",
       "\n",
       "   runner7_score  runner7_rbi  runner7_earned           created_at  \\\n",
       "0            NaN          NaN             NaN  2016-03-03 21:33:20   \n",
       "1            NaN          NaN             NaN  2016-03-03 21:33:20   \n",
       "2            NaN          NaN             NaN  2016-03-03 21:33:20   \n",
       "3            NaN          NaN             NaN  2016-03-03 21:33:20   \n",
       "4            NaN          NaN             NaN  2016-03-03 21:33:20   \n",
       "\n",
       "              added_at          modified_at  modified_by  \n",
       "0  2016-03-03 21:33:20  2016-03-03 21:33:20            1  \n",
       "1  2016-03-03 21:33:20  2016-03-03 21:33:20            1  \n",
       "2  2016-03-03 21:33:20  2016-03-03 21:33:20            1  \n",
       "3  2016-03-03 21:33:20  2016-03-03 21:33:20            1  \n",
       "4  2016-03-03 21:33:20  2016-03-03 21:33:20            1  \n",
       "\n",
       "[5 rows x 125 columns]"
      ]
     },
     "execution_count": 59,
     "metadata": {},
     "output_type": "execute_result"
    }
   ],
   "source": [
    "data_df.head()"
   ]
  },
  {
   "cell_type": "code",
   "execution_count": 60,
   "metadata": {},
   "outputs": [
    {
     "name": "stdout",
     "output_type": "stream",
     "text": [
      "Index(['event3', 'event4'], dtype='object')\n",
      "count       334\n",
      "unique        5\n",
      "top       Error\n",
      "freq        158\n",
      "Name: event3, dtype: object\n",
      "count        23\n",
      "unique        1\n",
      "top       Error\n",
      "freq         23\n",
      "Name: event4, dtype: object\n"
     ]
    }
   ],
   "source": [
    "#looking at columns 29 and 30\n",
    "\n",
    "columns = data_df.columns\n",
    "print(data_df.columns[29:31])\n",
    "print(data_df[columns[29]].describe())\n",
    "print(data_df[columns[30]].describe())"
   ]
  },
  {
   "cell_type": "code",
   "execution_count": 61,
   "metadata": {},
   "outputs": [
    {
     "data": {
      "text/plain": [
       "Error    23\n",
       "Name: event4, dtype: int64"
      ]
     },
     "execution_count": 61,
     "metadata": {},
     "output_type": "execute_result"
    }
   ],
   "source": [
    "data_df[columns[30]][data_df[columns[30]].isna() == False].value_counts()"
   ]
  },
  {
   "cell_type": "code",
   "execution_count": 62,
   "metadata": {},
   "outputs": [],
   "source": [
    "###Just remove event4 since its basically the same value always\n",
    "data_df = data_df.drop(columns[30], axis=1)"
   ]
  },
  {
   "cell_type": "code",
   "execution_count": 63,
   "metadata": {},
   "outputs": [
    {
     "data": {
      "text/plain": [
       "Error             158\n",
       "Stolen Base 2B    128\n",
       "Runner Out         27\n",
       "Wild Pitch         15\n",
       "Passed Ball         6\n",
       "Name: event3, dtype: int64"
      ]
     },
     "execution_count": 63,
     "metadata": {},
     "output_type": "execute_result"
    }
   ],
   "source": [
    "data_df[columns[29]][data_df[columns[29]].isna() == False].value_counts() ### this might be useful, but I want to start getting rid of columns that we definitely don't need"
   ]
  },
  {
   "cell_type": "code",
   "execution_count": 64,
   "metadata": {},
   "outputs": [],
   "source": [
    "data_df = data_df.drop(columns[-4:], axis=1) ###Remove created, added, modified, etc...\n",
    "columns=data_df.columns"
   ]
  },
  {
   "cell_type": "code",
   "execution_count": 65,
   "metadata": {},
   "outputs": [
    {
     "data": {
      "text/html": [
       "<div>\n",
       "<style scoped>\n",
       "    .dataframe tbody tr th:only-of-type {\n",
       "        vertical-align: middle;\n",
       "    }\n",
       "\n",
       "    .dataframe tbody tr th {\n",
       "        vertical-align: top;\n",
       "    }\n",
       "\n",
       "    .dataframe thead th {\n",
       "        text-align: right;\n",
       "    }\n",
       "</style>\n",
       "<table border=\"1\" class=\"dataframe\">\n",
       "  <thead>\n",
       "    <tr style=\"text-align: right;\">\n",
       "      <th></th>\n",
       "      <th>uid</th>\n",
       "      <th>game_pk</th>\n",
       "      <th>year</th>\n",
       "      <th>date</th>\n",
       "      <th>team_id_b</th>\n",
       "      <th>team_id_p</th>\n",
       "      <th>inning</th>\n",
       "      <th>top</th>\n",
       "      <th>at_bat_num</th>\n",
       "      <th>pcount_at_bat</th>\n",
       "      <th>...</th>\n",
       "      <th>runner6_score</th>\n",
       "      <th>runner6_rbi</th>\n",
       "      <th>runner6_earned</th>\n",
       "      <th>runner7_id</th>\n",
       "      <th>runner7_start</th>\n",
       "      <th>runner7_end</th>\n",
       "      <th>runner7_event</th>\n",
       "      <th>runner7_score</th>\n",
       "      <th>runner7_rbi</th>\n",
       "      <th>runner7_earned</th>\n",
       "    </tr>\n",
       "  </thead>\n",
       "  <tbody>\n",
       "    <tr>\n",
       "      <th>0</th>\n",
       "      <td>14143226</td>\n",
       "      <td>286874</td>\n",
       "      <td>2011</td>\n",
       "      <td>2011-03-31</td>\n",
       "      <td>108</td>\n",
       "      <td>118</td>\n",
       "      <td>1</td>\n",
       "      <td>1</td>\n",
       "      <td>1</td>\n",
       "      <td>1</td>\n",
       "      <td>...</td>\n",
       "      <td>NaN</td>\n",
       "      <td>NaN</td>\n",
       "      <td>NaN</td>\n",
       "      <td>NaN</td>\n",
       "      <td>NaN</td>\n",
       "      <td>NaN</td>\n",
       "      <td>NaN</td>\n",
       "      <td>NaN</td>\n",
       "      <td>NaN</td>\n",
       "      <td>NaN</td>\n",
       "    </tr>\n",
       "    <tr>\n",
       "      <th>1</th>\n",
       "      <td>14143227</td>\n",
       "      <td>286874</td>\n",
       "      <td>2011</td>\n",
       "      <td>2011-03-31</td>\n",
       "      <td>108</td>\n",
       "      <td>118</td>\n",
       "      <td>1</td>\n",
       "      <td>1</td>\n",
       "      <td>1</td>\n",
       "      <td>2</td>\n",
       "      <td>...</td>\n",
       "      <td>NaN</td>\n",
       "      <td>NaN</td>\n",
       "      <td>NaN</td>\n",
       "      <td>NaN</td>\n",
       "      <td>NaN</td>\n",
       "      <td>NaN</td>\n",
       "      <td>NaN</td>\n",
       "      <td>NaN</td>\n",
       "      <td>NaN</td>\n",
       "      <td>NaN</td>\n",
       "    </tr>\n",
       "    <tr>\n",
       "      <th>2</th>\n",
       "      <td>14143228</td>\n",
       "      <td>286874</td>\n",
       "      <td>2011</td>\n",
       "      <td>2011-03-31</td>\n",
       "      <td>108</td>\n",
       "      <td>118</td>\n",
       "      <td>1</td>\n",
       "      <td>1</td>\n",
       "      <td>1</td>\n",
       "      <td>3</td>\n",
       "      <td>...</td>\n",
       "      <td>NaN</td>\n",
       "      <td>NaN</td>\n",
       "      <td>NaN</td>\n",
       "      <td>NaN</td>\n",
       "      <td>NaN</td>\n",
       "      <td>NaN</td>\n",
       "      <td>NaN</td>\n",
       "      <td>NaN</td>\n",
       "      <td>NaN</td>\n",
       "      <td>NaN</td>\n",
       "    </tr>\n",
       "    <tr>\n",
       "      <th>3</th>\n",
       "      <td>14143229</td>\n",
       "      <td>286874</td>\n",
       "      <td>2011</td>\n",
       "      <td>2011-03-31</td>\n",
       "      <td>108</td>\n",
       "      <td>118</td>\n",
       "      <td>1</td>\n",
       "      <td>1</td>\n",
       "      <td>1</td>\n",
       "      <td>4</td>\n",
       "      <td>...</td>\n",
       "      <td>NaN</td>\n",
       "      <td>NaN</td>\n",
       "      <td>NaN</td>\n",
       "      <td>NaN</td>\n",
       "      <td>NaN</td>\n",
       "      <td>NaN</td>\n",
       "      <td>NaN</td>\n",
       "      <td>NaN</td>\n",
       "      <td>NaN</td>\n",
       "      <td>NaN</td>\n",
       "    </tr>\n",
       "    <tr>\n",
       "      <th>4</th>\n",
       "      <td>14143230</td>\n",
       "      <td>286874</td>\n",
       "      <td>2011</td>\n",
       "      <td>2011-03-31</td>\n",
       "      <td>108</td>\n",
       "      <td>118</td>\n",
       "      <td>1</td>\n",
       "      <td>1</td>\n",
       "      <td>2</td>\n",
       "      <td>1</td>\n",
       "      <td>...</td>\n",
       "      <td>NaN</td>\n",
       "      <td>NaN</td>\n",
       "      <td>NaN</td>\n",
       "      <td>NaN</td>\n",
       "      <td>NaN</td>\n",
       "      <td>NaN</td>\n",
       "      <td>NaN</td>\n",
       "      <td>NaN</td>\n",
       "      <td>NaN</td>\n",
       "      <td>NaN</td>\n",
       "    </tr>\n",
       "  </tbody>\n",
       "</table>\n",
       "<p>5 rows × 120 columns</p>\n",
       "</div>"
      ],
      "text/plain": [
       "        uid  game_pk  year        date  team_id_b  team_id_p  inning  top  \\\n",
       "0  14143226   286874  2011  2011-03-31        108        118       1    1   \n",
       "1  14143227   286874  2011  2011-03-31        108        118       1    1   \n",
       "2  14143228   286874  2011  2011-03-31        108        118       1    1   \n",
       "3  14143229   286874  2011  2011-03-31        108        118       1    1   \n",
       "4  14143230   286874  2011  2011-03-31        108        118       1    1   \n",
       "\n",
       "   at_bat_num  pcount_at_bat  ...  runner6_score  runner6_rbi  runner6_earned  \\\n",
       "0           1              1  ...            NaN          NaN             NaN   \n",
       "1           1              2  ...            NaN          NaN             NaN   \n",
       "2           1              3  ...            NaN          NaN             NaN   \n",
       "3           1              4  ...            NaN          NaN             NaN   \n",
       "4           2              1  ...            NaN          NaN             NaN   \n",
       "\n",
       "   runner7_id  runner7_start  runner7_end  runner7_event  runner7_score  \\\n",
       "0         NaN            NaN          NaN            NaN            NaN   \n",
       "1         NaN            NaN          NaN            NaN            NaN   \n",
       "2         NaN            NaN          NaN            NaN            NaN   \n",
       "3         NaN            NaN          NaN            NaN            NaN   \n",
       "4         NaN            NaN          NaN            NaN            NaN   \n",
       "\n",
       "   runner7_rbi  runner7_earned  \n",
       "0          NaN             NaN  \n",
       "1          NaN             NaN  \n",
       "2          NaN             NaN  \n",
       "3          NaN             NaN  \n",
       "4          NaN             NaN  \n",
       "\n",
       "[5 rows x 120 columns]"
      ]
     },
     "execution_count": 65,
     "metadata": {},
     "output_type": "execute_result"
    }
   ],
   "source": [
    "data_df.head()### Now I want to look at these 'runner' columns"
   ]
  },
  {
   "cell_type": "code",
   "execution_count": 66,
   "metadata": {},
   "outputs": [
    {
     "data": {
      "text/plain": [
       "Index(['runner1_id', 'runner1_start', 'runner1_end', 'runner1_event',\n",
       "       'runner1_score', 'runner1_rbi', 'runner1_earned', 'runner2_id',\n",
       "       'runner2_start', 'runner2_end', 'runner2_event', 'runner2_score',\n",
       "       'runner2_rbi', 'runner2_earned', 'runner3_id', 'runner3_start',\n",
       "       'runner3_end', 'runner3_event', 'runner3_score', 'runner3_rbi',\n",
       "       'runner3_earned', 'runner4_id', 'runner4_start', 'runner4_end',\n",
       "       'runner4_event', 'runner4_score', 'runner4_rbi', 'runner4_earned',\n",
       "       'runner5_id', 'runner5_start', 'runner5_end', 'runner5_event',\n",
       "       'runner5_score', 'runner5_rbi', 'runner5_earned', 'runner6_id',\n",
       "       'runner6_start', 'runner6_end', 'runner6_event', 'runner6_score',\n",
       "       'runner6_rbi', 'runner6_earned', 'runner7_id', 'runner7_start',\n",
       "       'runner7_end', 'runner7_event', 'runner7_score', 'runner7_rbi',\n",
       "       'runner7_earned'],\n",
       "      dtype='object')"
      ]
     },
     "execution_count": 66,
     "metadata": {},
     "output_type": "execute_result"
    }
   ],
   "source": [
    "columns[-49:]"
   ]
  },
  {
   "cell_type": "code",
   "execution_count": 67,
   "metadata": {},
   "outputs": [
    {
     "data": {
      "text/plain": [
       "runner1_id        718961\n",
       "runner1_start     718961\n",
       "runner1_end       718961\n",
       "runner1_event     718961\n",
       "runner1_score     718961\n",
       "runner1_rbi       718961\n",
       "runner1_earned    718961\n",
       "runner2_id        718961\n",
       "runner2_start     718961\n",
       "runner2_end       718961\n",
       "runner2_event     718961\n",
       "runner2_score     718961\n",
       "runner2_rbi       718961\n",
       "runner2_earned    718961\n",
       "runner3_id        718961\n",
       "runner3_start     718961\n",
       "runner3_end       718961\n",
       "runner3_event     718961\n",
       "runner3_score     718961\n",
       "runner3_rbi       718961\n",
       "runner3_earned    718961\n",
       "runner4_id        718961\n",
       "runner4_start     718961\n",
       "runner4_end       718961\n",
       "runner4_event     718961\n",
       "runner4_score     718961\n",
       "runner4_rbi       718961\n",
       "runner4_earned    718961\n",
       "runner5_id        718961\n",
       "runner5_start     718961\n",
       "runner5_end       718961\n",
       "runner5_event     718961\n",
       "runner5_score     718961\n",
       "runner5_rbi       718961\n",
       "runner5_earned    718961\n",
       "runner6_id        718961\n",
       "runner6_start     718961\n",
       "runner6_end       718961\n",
       "runner6_event     718961\n",
       "runner6_score     718961\n",
       "runner6_rbi       718961\n",
       "runner6_earned    718961\n",
       "runner7_id        718961\n",
       "runner7_start     718961\n",
       "runner7_end       718961\n",
       "runner7_event     718961\n",
       "runner7_score     718961\n",
       "runner7_rbi       718961\n",
       "runner7_earned    718961\n",
       "dtype: int64"
      ]
     },
     "execution_count": 67,
     "metadata": {},
     "output_type": "execute_result"
    }
   ],
   "source": [
    "data_df[columns[-49:]].isna().sum() #### OK these are all NaNs..... so just remove them"
   ]
  },
  {
   "cell_type": "code",
   "execution_count": 68,
   "metadata": {},
   "outputs": [],
   "source": [
    "data_df = data_df.drop(columns[-49:], axis=1)\n",
    "columns=data_df.columns"
   ]
  },
  {
   "cell_type": "code",
   "execution_count": 69,
   "metadata": {},
   "outputs": [
    {
     "name": "stdout",
     "output_type": "stream",
     "text": [
      "71\n"
     ]
    }
   ],
   "source": [
    "print(len(columns)) #nice"
   ]
  },
  {
   "cell_type": "code",
   "execution_count": 70,
   "metadata": {},
   "outputs": [
    {
     "data": {
      "text/html": [
       "<div>\n",
       "<style scoped>\n",
       "    .dataframe tbody tr th:only-of-type {\n",
       "        vertical-align: middle;\n",
       "    }\n",
       "\n",
       "    .dataframe tbody tr th {\n",
       "        vertical-align: top;\n",
       "    }\n",
       "\n",
       "    .dataframe thead th {\n",
       "        text-align: right;\n",
       "    }\n",
       "</style>\n",
       "<table border=\"1\" class=\"dataframe\">\n",
       "  <thead>\n",
       "    <tr style=\"text-align: right;\">\n",
       "      <th></th>\n",
       "      <th>uid</th>\n",
       "      <th>game_pk</th>\n",
       "      <th>year</th>\n",
       "      <th>date</th>\n",
       "      <th>team_id_b</th>\n",
       "      <th>team_id_p</th>\n",
       "      <th>inning</th>\n",
       "      <th>top</th>\n",
       "      <th>at_bat_num</th>\n",
       "      <th>pcount_at_bat</th>\n",
       "      <th>...</th>\n",
       "      <th>pitch_type</th>\n",
       "      <th>type_confidence</th>\n",
       "      <th>zone</th>\n",
       "      <th>nasty</th>\n",
       "      <th>spin_dir</th>\n",
       "      <th>spin_rate</th>\n",
       "      <th>cc</th>\n",
       "      <th>on_1b</th>\n",
       "      <th>on_2b</th>\n",
       "      <th>on_3b</th>\n",
       "    </tr>\n",
       "  </thead>\n",
       "  <tbody>\n",
       "    <tr>\n",
       "      <th>0</th>\n",
       "      <td>14143226</td>\n",
       "      <td>286874</td>\n",
       "      <td>2011</td>\n",
       "      <td>2011-03-31</td>\n",
       "      <td>108</td>\n",
       "      <td>118</td>\n",
       "      <td>1</td>\n",
       "      <td>1</td>\n",
       "      <td>1</td>\n",
       "      <td>1</td>\n",
       "      <td>...</td>\n",
       "      <td>NaN</td>\n",
       "      <td>NaN</td>\n",
       "      <td>NaN</td>\n",
       "      <td>NaN</td>\n",
       "      <td>NaN</td>\n",
       "      <td>NaN</td>\n",
       "      <td>NaN</td>\n",
       "      <td>NaN</td>\n",
       "      <td>NaN</td>\n",
       "      <td>NaN</td>\n",
       "    </tr>\n",
       "    <tr>\n",
       "      <th>1</th>\n",
       "      <td>14143227</td>\n",
       "      <td>286874</td>\n",
       "      <td>2011</td>\n",
       "      <td>2011-03-31</td>\n",
       "      <td>108</td>\n",
       "      <td>118</td>\n",
       "      <td>1</td>\n",
       "      <td>1</td>\n",
       "      <td>1</td>\n",
       "      <td>2</td>\n",
       "      <td>...</td>\n",
       "      <td>NaN</td>\n",
       "      <td>NaN</td>\n",
       "      <td>NaN</td>\n",
       "      <td>NaN</td>\n",
       "      <td>NaN</td>\n",
       "      <td>NaN</td>\n",
       "      <td>NaN</td>\n",
       "      <td>NaN</td>\n",
       "      <td>NaN</td>\n",
       "      <td>NaN</td>\n",
       "    </tr>\n",
       "    <tr>\n",
       "      <th>2</th>\n",
       "      <td>14143228</td>\n",
       "      <td>286874</td>\n",
       "      <td>2011</td>\n",
       "      <td>2011-03-31</td>\n",
       "      <td>108</td>\n",
       "      <td>118</td>\n",
       "      <td>1</td>\n",
       "      <td>1</td>\n",
       "      <td>1</td>\n",
       "      <td>3</td>\n",
       "      <td>...</td>\n",
       "      <td>NaN</td>\n",
       "      <td>NaN</td>\n",
       "      <td>NaN</td>\n",
       "      <td>NaN</td>\n",
       "      <td>NaN</td>\n",
       "      <td>NaN</td>\n",
       "      <td>NaN</td>\n",
       "      <td>NaN</td>\n",
       "      <td>NaN</td>\n",
       "      <td>NaN</td>\n",
       "    </tr>\n",
       "    <tr>\n",
       "      <th>3</th>\n",
       "      <td>14143229</td>\n",
       "      <td>286874</td>\n",
       "      <td>2011</td>\n",
       "      <td>2011-03-31</td>\n",
       "      <td>108</td>\n",
       "      <td>118</td>\n",
       "      <td>1</td>\n",
       "      <td>1</td>\n",
       "      <td>1</td>\n",
       "      <td>4</td>\n",
       "      <td>...</td>\n",
       "      <td>NaN</td>\n",
       "      <td>NaN</td>\n",
       "      <td>NaN</td>\n",
       "      <td>NaN</td>\n",
       "      <td>NaN</td>\n",
       "      <td>NaN</td>\n",
       "      <td>NaN</td>\n",
       "      <td>NaN</td>\n",
       "      <td>NaN</td>\n",
       "      <td>NaN</td>\n",
       "    </tr>\n",
       "    <tr>\n",
       "      <th>4</th>\n",
       "      <td>14143230</td>\n",
       "      <td>286874</td>\n",
       "      <td>2011</td>\n",
       "      <td>2011-03-31</td>\n",
       "      <td>108</td>\n",
       "      <td>118</td>\n",
       "      <td>1</td>\n",
       "      <td>1</td>\n",
       "      <td>2</td>\n",
       "      <td>1</td>\n",
       "      <td>...</td>\n",
       "      <td>NaN</td>\n",
       "      <td>NaN</td>\n",
       "      <td>NaN</td>\n",
       "      <td>NaN</td>\n",
       "      <td>NaN</td>\n",
       "      <td>NaN</td>\n",
       "      <td>NaN</td>\n",
       "      <td>NaN</td>\n",
       "      <td>NaN</td>\n",
       "      <td>NaN</td>\n",
       "    </tr>\n",
       "  </tbody>\n",
       "</table>\n",
       "<p>5 rows × 71 columns</p>\n",
       "</div>"
      ],
      "text/plain": [
       "        uid  game_pk  year        date  team_id_b  team_id_p  inning  top  \\\n",
       "0  14143226   286874  2011  2011-03-31        108        118       1    1   \n",
       "1  14143227   286874  2011  2011-03-31        108        118       1    1   \n",
       "2  14143228   286874  2011  2011-03-31        108        118       1    1   \n",
       "3  14143229   286874  2011  2011-03-31        108        118       1    1   \n",
       "4  14143230   286874  2011  2011-03-31        108        118       1    1   \n",
       "\n",
       "   at_bat_num  pcount_at_bat  ...  pitch_type  type_confidence  zone  nasty  \\\n",
       "0           1              1  ...         NaN              NaN   NaN    NaN   \n",
       "1           1              2  ...         NaN              NaN   NaN    NaN   \n",
       "2           1              3  ...         NaN              NaN   NaN    NaN   \n",
       "3           1              4  ...         NaN              NaN   NaN    NaN   \n",
       "4           2              1  ...         NaN              NaN   NaN    NaN   \n",
       "\n",
       "   spin_dir  spin_rate   cc  on_1b  on_2b  on_3b  \n",
       "0       NaN        NaN  NaN    NaN    NaN    NaN  \n",
       "1       NaN        NaN  NaN    NaN    NaN    NaN  \n",
       "2       NaN        NaN  NaN    NaN    NaN    NaN  \n",
       "3       NaN        NaN  NaN    NaN    NaN    NaN  \n",
       "4       NaN        NaN  NaN    NaN    NaN    NaN  \n",
       "\n",
       "[5 rows x 71 columns]"
      ]
     },
     "execution_count": 70,
     "metadata": {},
     "output_type": "execute_result"
    }
   ],
   "source": [
    "data_df.head()"
   ]
  },
  {
   "cell_type": "code",
   "execution_count": 71,
   "metadata": {},
   "outputs": [
    {
     "name": "stdout",
     "output_type": "stream",
     "text": [
      "2280\n",
      "2280\n"
     ]
    }
   ],
   "source": [
    "print(data_df['pitch_type'].isna().sum())\n",
    "print(data_df['type_confidence'].isna().sum()) ### these are our y variables so we should remove rows where these are NaNs (save for end though so we don't lose too much data)"
   ]
  },
  {
   "cell_type": "code",
   "execution_count": 82,
   "metadata": {},
   "outputs": [],
   "source": [
    "#data_df = data_df[data_df['pitch_type'].isna() == False]"
   ]
  },
  {
   "cell_type": "code",
   "execution_count": 83,
   "metadata": {},
   "outputs": [
    {
     "data": {
      "text/plain": [
       "0"
      ]
     },
     "execution_count": 83,
     "metadata": {},
     "output_type": "execute_result"
    }
   ],
   "source": [
    "#data_df['type_confidence'].isna().sum()"
   ]
  },
  {
   "cell_type": "code",
   "execution_count": 72,
   "metadata": {},
   "outputs": [
    {
     "data": {
      "text/plain": [
       "FF    238541\n",
       "SL    109756\n",
       "SI     87740\n",
       "FT     81056\n",
       "CH     72641\n",
       "CU     56379\n",
       "FC     41702\n",
       "FS     10503\n",
       "KC      8490\n",
       "KN      4450\n",
       "IN      4058\n",
       "PO       559\n",
       "FO       329\n",
       "FA       204\n",
       "EP       134\n",
       "SC       120\n",
       "UN        17\n",
       "AB         2\n",
       "Name: pitch_type, dtype: int64"
      ]
     },
     "execution_count": 72,
     "metadata": {},
     "output_type": "execute_result"
    }
   ],
   "source": [
    "data_df['pitch_type'].value_counts()"
   ]
  },
  {
   "cell_type": "code",
   "execution_count": 73,
   "metadata": {},
   "outputs": [
    {
     "data": {
      "text/plain": [
       "count    716681.000000\n",
       "mean          1.404510\n",
       "std           0.660533\n",
       "min           0.000000\n",
       "25%           0.901000\n",
       "50%           2.000000\n",
       "75%           2.000000\n",
       "max           2.000000\n",
       "Name: type_confidence, dtype: float64"
      ]
     },
     "execution_count": 73,
     "metadata": {},
     "output_type": "execute_result"
    }
   ],
   "source": [
    "data_df['type_confidence'].describe()"
   ]
  },
  {
   "cell_type": "code",
   "execution_count": 74,
   "metadata": {},
   "outputs": [
    {
     "data": {
      "image/png": "[encoded data removed]",
      "text/plain": [
       "<Figure size 500x500 with 1 Axes>"
      ]
     },
     "metadata": {},
     "output_type": "display_data"
    }
   ],
   "source": [
    "sns.displot(data_df['type_confidence'])\n",
    "plt.show;"
   ]
  },
  {
   "cell_type": "code",
   "execution_count": 40,
   "metadata": {},
   "outputs": [],
   "source": [
    "### Seems like confidence is generally high, but there are some outliers\n",
    "### I don't think we should train on data where we have low confidence in the label... lets find a reasonable cutoff based on the above\n"
   ]
  },
  {
   "cell_type": "code",
   "execution_count": 75,
   "metadata": {},
   "outputs": [
    {
     "name": "stdout",
     "output_type": "stream",
     "text": [
      "Number of observations below cutoff 72492\n",
      "Number of observations above cutoff 644189\n"
     ]
    }
   ],
   "source": [
    "print('Number of observations below cutoff',len(data_df[data_df['type_confidence'] < 0.75]))\n",
    "print('Number of observations above cutoff',len(data_df[data_df['type_confidence'] >= 0.75]))"
   ]
  },
  {
   "cell_type": "code",
   "execution_count": 90,
   "metadata": {},
   "outputs": [
    {
     "data": {
      "text/plain": [
       "0.10114960491487844"
      ]
     },
     "execution_count": 90,
     "metadata": {},
     "output_type": "execute_result"
    }
   ],
   "source": [
    "72492/(72492+644189) ### cutting 10% of the data isn't great but it's not terrible either and I think it's worth it. SAVE this for later"
   ]
  },
  {
   "cell_type": "code",
   "execution_count": 91,
   "metadata": {},
   "outputs": [],
   "source": [
    "#data_df = data_df[data_df['type_confidence'] >= 0.75]\n",
    "###MISTAKE HERE -- so I'm leaving this in, but I realized that cutting pitches randomly messes up the lag numbers. I should have cut these after creating the lag variables so that the lag variables are still correct. \n",
    "# I'm leaving this in because I think it's important to show that I realized this and I'm not just trying to hide it. If I have time, I will try to fix this later on. \n",
    "\n",
    "##I ended up coming back and undoing this and redoing it correctly later on in the data processing :D"
   ]
  },
  {
   "cell_type": "code",
   "execution_count": 76,
   "metadata": {},
   "outputs": [
    {
     "name": "stdout",
     "output_type": "stream",
     "text": [
      "718961\n"
     ]
    },
    {
     "data": {
      "text/html": [
       "<div>\n",
       "<style scoped>\n",
       "    .dataframe tbody tr th:only-of-type {\n",
       "        vertical-align: middle;\n",
       "    }\n",
       "\n",
       "    .dataframe tbody tr th {\n",
       "        vertical-align: top;\n",
       "    }\n",
       "\n",
       "    .dataframe thead th {\n",
       "        text-align: right;\n",
       "    }\n",
       "</style>\n",
       "<table border=\"1\" class=\"dataframe\">\n",
       "  <thead>\n",
       "    <tr style=\"text-align: right;\">\n",
       "      <th></th>\n",
       "      <th>uid</th>\n",
       "      <th>game_pk</th>\n",
       "      <th>year</th>\n",
       "      <th>date</th>\n",
       "      <th>team_id_b</th>\n",
       "      <th>team_id_p</th>\n",
       "      <th>inning</th>\n",
       "      <th>top</th>\n",
       "      <th>at_bat_num</th>\n",
       "      <th>pcount_at_bat</th>\n",
       "      <th>...</th>\n",
       "      <th>pitch_type</th>\n",
       "      <th>type_confidence</th>\n",
       "      <th>zone</th>\n",
       "      <th>nasty</th>\n",
       "      <th>spin_dir</th>\n",
       "      <th>spin_rate</th>\n",
       "      <th>cc</th>\n",
       "      <th>on_1b</th>\n",
       "      <th>on_2b</th>\n",
       "      <th>on_3b</th>\n",
       "    </tr>\n",
       "  </thead>\n",
       "  <tbody>\n",
       "    <tr>\n",
       "      <th>0</th>\n",
       "      <td>14143226</td>\n",
       "      <td>286874</td>\n",
       "      <td>2011</td>\n",
       "      <td>2011-03-31</td>\n",
       "      <td>108</td>\n",
       "      <td>118</td>\n",
       "      <td>1</td>\n",
       "      <td>1</td>\n",
       "      <td>1</td>\n",
       "      <td>1</td>\n",
       "      <td>...</td>\n",
       "      <td>NaN</td>\n",
       "      <td>NaN</td>\n",
       "      <td>NaN</td>\n",
       "      <td>NaN</td>\n",
       "      <td>NaN</td>\n",
       "      <td>NaN</td>\n",
       "      <td>NaN</td>\n",
       "      <td>NaN</td>\n",
       "      <td>NaN</td>\n",
       "      <td>NaN</td>\n",
       "    </tr>\n",
       "    <tr>\n",
       "      <th>1</th>\n",
       "      <td>14143227</td>\n",
       "      <td>286874</td>\n",
       "      <td>2011</td>\n",
       "      <td>2011-03-31</td>\n",
       "      <td>108</td>\n",
       "      <td>118</td>\n",
       "      <td>1</td>\n",
       "      <td>1</td>\n",
       "      <td>1</td>\n",
       "      <td>2</td>\n",
       "      <td>...</td>\n",
       "      <td>NaN</td>\n",
       "      <td>NaN</td>\n",
       "      <td>NaN</td>\n",
       "      <td>NaN</td>\n",
       "      <td>NaN</td>\n",
       "      <td>NaN</td>\n",
       "      <td>NaN</td>\n",
       "      <td>NaN</td>\n",
       "      <td>NaN</td>\n",
       "      <td>NaN</td>\n",
       "    </tr>\n",
       "    <tr>\n",
       "      <th>2</th>\n",
       "      <td>14143228</td>\n",
       "      <td>286874</td>\n",
       "      <td>2011</td>\n",
       "      <td>2011-03-31</td>\n",
       "      <td>108</td>\n",
       "      <td>118</td>\n",
       "      <td>1</td>\n",
       "      <td>1</td>\n",
       "      <td>1</td>\n",
       "      <td>3</td>\n",
       "      <td>...</td>\n",
       "      <td>NaN</td>\n",
       "      <td>NaN</td>\n",
       "      <td>NaN</td>\n",
       "      <td>NaN</td>\n",
       "      <td>NaN</td>\n",
       "      <td>NaN</td>\n",
       "      <td>NaN</td>\n",
       "      <td>NaN</td>\n",
       "      <td>NaN</td>\n",
       "      <td>NaN</td>\n",
       "    </tr>\n",
       "    <tr>\n",
       "      <th>3</th>\n",
       "      <td>14143229</td>\n",
       "      <td>286874</td>\n",
       "      <td>2011</td>\n",
       "      <td>2011-03-31</td>\n",
       "      <td>108</td>\n",
       "      <td>118</td>\n",
       "      <td>1</td>\n",
       "      <td>1</td>\n",
       "      <td>1</td>\n",
       "      <td>4</td>\n",
       "      <td>...</td>\n",
       "      <td>NaN</td>\n",
       "      <td>NaN</td>\n",
       "      <td>NaN</td>\n",
       "      <td>NaN</td>\n",
       "      <td>NaN</td>\n",
       "      <td>NaN</td>\n",
       "      <td>NaN</td>\n",
       "      <td>NaN</td>\n",
       "      <td>NaN</td>\n",
       "      <td>NaN</td>\n",
       "    </tr>\n",
       "    <tr>\n",
       "      <th>4</th>\n",
       "      <td>14143230</td>\n",
       "      <td>286874</td>\n",
       "      <td>2011</td>\n",
       "      <td>2011-03-31</td>\n",
       "      <td>108</td>\n",
       "      <td>118</td>\n",
       "      <td>1</td>\n",
       "      <td>1</td>\n",
       "      <td>2</td>\n",
       "      <td>1</td>\n",
       "      <td>...</td>\n",
       "      <td>NaN</td>\n",
       "      <td>NaN</td>\n",
       "      <td>NaN</td>\n",
       "      <td>NaN</td>\n",
       "      <td>NaN</td>\n",
       "      <td>NaN</td>\n",
       "      <td>NaN</td>\n",
       "      <td>NaN</td>\n",
       "      <td>NaN</td>\n",
       "      <td>NaN</td>\n",
       "    </tr>\n",
       "  </tbody>\n",
       "</table>\n",
       "<p>5 rows × 71 columns</p>\n",
       "</div>"
      ],
      "text/plain": [
       "        uid  game_pk  year        date  team_id_b  team_id_p  inning  top  \\\n",
       "0  14143226   286874  2011  2011-03-31        108        118       1    1   \n",
       "1  14143227   286874  2011  2011-03-31        108        118       1    1   \n",
       "2  14143228   286874  2011  2011-03-31        108        118       1    1   \n",
       "3  14143229   286874  2011  2011-03-31        108        118       1    1   \n",
       "4  14143230   286874  2011  2011-03-31        108        118       1    1   \n",
       "\n",
       "   at_bat_num  pcount_at_bat  ...  pitch_type  type_confidence  zone  nasty  \\\n",
       "0           1              1  ...         NaN              NaN   NaN    NaN   \n",
       "1           1              2  ...         NaN              NaN   NaN    NaN   \n",
       "2           1              3  ...         NaN              NaN   NaN    NaN   \n",
       "3           1              4  ...         NaN              NaN   NaN    NaN   \n",
       "4           2              1  ...         NaN              NaN   NaN    NaN   \n",
       "\n",
       "   spin_dir  spin_rate   cc  on_1b  on_2b  on_3b  \n",
       "0       NaN        NaN  NaN    NaN    NaN    NaN  \n",
       "1       NaN        NaN  NaN    NaN    NaN    NaN  \n",
       "2       NaN        NaN  NaN    NaN    NaN    NaN  \n",
       "3       NaN        NaN  NaN    NaN    NaN    NaN  \n",
       "4       NaN        NaN  NaN    NaN    NaN    NaN  \n",
       "\n",
       "[5 rows x 71 columns]"
      ]
     },
     "execution_count": 76,
     "metadata": {},
     "output_type": "execute_result"
    }
   ],
   "source": [
    "print(len(data_df))\n",
    "data_df.head()"
   ]
  },
  {
   "cell_type": "code",
   "execution_count": 96,
   "metadata": {},
   "outputs": [],
   "source": [
    "data_df.isna().sum().to_csv('missing_values.csv') ##too long cant see\n"
   ]
  },
  {
   "cell_type": "code",
   "execution_count": 97,
   "metadata": {},
   "outputs": [
    {
     "data": {
      "text/plain": [
       "'uid'"
      ]
     },
     "execution_count": 97,
     "metadata": {},
     "output_type": "execute_result"
    }
   ],
   "source": [
    "columns[0]"
   ]
  },
  {
   "cell_type": "code",
   "execution_count": 98,
   "metadata": {},
   "outputs": [
    {
     "data": {
      "text/plain": [
       "\"'Column\\tNas\\nevent2\\t636739\\nevent3\\t643881\\nscore\\t593925\\npitch_tfs\\t275\\npitch_tfs_zulu\\t275\\ncc\\t619307\\non_1b\\t450154\\non_2b\\t520462\\non_3b\\t581554\\n\""
      ]
     },
     "execution_count": 98,
     "metadata": {},
     "output_type": "execute_result"
    }
   ],
   "source": [
    "''''Column\tNas\n",
    "event2\t636739\n",
    "event3\t643881\n",
    "score\t593925\n",
    "pitch_tfs\t275\n",
    "pitch_tfs_zulu\t275\n",
    "cc\t619307\n",
    "on_1b\t450154\n",
    "on_2b\t520462\n",
    "on_3b\t581554\n",
    "'''\n",
    "\n",
    "### I don't think we're gonna use pitch_tfs anyways so I'm just gonna drop the columns"
   ]
  },
  {
   "cell_type": "code",
   "execution_count": 77,
   "metadata": {},
   "outputs": [
    {
     "data": {
      "text/plain": [
       "37"
      ]
     },
     "execution_count": 77,
     "metadata": {},
     "output_type": "execute_result"
    }
   ],
   "source": [
    "list(columns).index('pitch_tfs_zulu')"
   ]
  },
  {
   "cell_type": "code",
   "execution_count": 78,
   "metadata": {},
   "outputs": [],
   "source": [
    "data_df = data_df.drop('pitch_tfs', axis=1)"
   ]
  },
  {
   "cell_type": "code",
   "execution_count": 79,
   "metadata": {},
   "outputs": [],
   "source": [
    "data_df = data_df.drop('pitch_tfs_zulu', axis=1)"
   ]
  },
  {
   "cell_type": "code",
   "execution_count": 80,
   "metadata": {},
   "outputs": [],
   "source": [
    "columns = data_df.columns"
   ]
  },
  {
   "cell_type": "code",
   "execution_count": 81,
   "metadata": {},
   "outputs": [
    {
     "data": {
      "text/plain": [
       "count                                                 27937\n",
       "unique                                                23292\n",
       "top       |pitcher| has his out pitch working today, rec...\n",
       "freq                                                     58\n",
       "Name: cc, dtype: object"
      ]
     },
     "execution_count": 81,
     "metadata": {},
     "output_type": "execute_result"
    }
   ],
   "source": [
    "##What is cc?\n",
    "\n",
    "data_df['cc'].describe()"
   ]
  },
  {
   "cell_type": "code",
   "execution_count": 82,
   "metadata": {},
   "outputs": [
    {
     "data": {
      "text/plain": [
       "|pitcher| has his out pitch working today, recording all 4 of his strikeouts with the slider so far.                                                      58\n",
       "Justin Masterson is having trouble locating his sinker, missing the strike zone with his last three.                                                      24\n",
       "Charlie Morton is having trouble locating his two-seam fastball, missing the strike zone with his last three.                                             23\n",
       "Ervin Santana is having trouble locating his four-seam fastball, missing the strike zone with his last three.                                             22\n",
       "Clayton Kershaw is having trouble locating his four-seam fastball, missing the strike zone with his last three.                                           21\n",
       "                                                                                                                                                          ..\n",
       "Clay Buchholz has thrown 83 pitches but has plenty left in the tank, with his fastball sitting at 92 over the past 10 pitches.                             1\n",
       "Clay Buchholz is taking a chance challenging Cliff Pennington in a location where he is hitting .615 for the season compared to .251 overall.              1\n",
       "Guillermo Moscoso is trying to tie up Mike Cameron with fastballs inside; Cameron is hitting .308 on pitches in that location compared to .183 overall     1\n",
       "Josh Outman is still attacking Kevin Youkilis with the four-seam fastball even though Youkilis hit one for a double last time up.                          1\n",
       "Mike Adams is really trying to keep Lance Berkman close; he is 2-for-8 in stolen base attempts this season.                                                1\n",
       "Name: cc, Length: 23292, dtype: int64"
      ]
     },
     "execution_count": 82,
     "metadata": {},
     "output_type": "execute_result"
    }
   ],
   "source": [
    "data_df['cc'].value_counts()"
   ]
  },
  {
   "cell_type": "code",
   "execution_count": 83,
   "metadata": {},
   "outputs": [],
   "source": [
    "### I think all this text is probably too much to manage for a short project like this. You could probably use NLP on a lot of these text columns to maybe get some more info but I can't do that in 4-6 hours so lets just drop"
   ]
  },
  {
   "cell_type": "code",
   "execution_count": 84,
   "metadata": {},
   "outputs": [],
   "source": [
    "data_df = data_df.drop('cc', axis=1)\n",
    "columns = data_df.columns"
   ]
  },
  {
   "cell_type": "code",
   "execution_count": 85,
   "metadata": {},
   "outputs": [
    {
     "data": {
      "text/plain": [
       "count     56096\n",
       "unique        1\n",
       "top           T\n",
       "freq      56096\n",
       "Name: score, dtype: object"
      ]
     },
     "execution_count": 85,
     "metadata": {},
     "output_type": "execute_result"
    }
   ],
   "source": [
    "data_df['score'].describe()"
   ]
  },
  {
   "cell_type": "code",
   "execution_count": 86,
   "metadata": {},
   "outputs": [],
   "source": [
    "## this is an indicator of whether runs were scored due to this at bat. We can't use this as a feature because it's a result of the pitch, not a feature of the pitch, \n",
    "#but we could use a lagged version of this as a feature to predict the next pitch, save it for now"
   ]
  },
  {
   "cell_type": "code",
   "execution_count": 87,
   "metadata": {},
   "outputs": [],
   "source": [
    "#the on_1b, 2, 3 are useful because we can use it to generate the number of runners on base, which is a useful feature, I think the NaNs are jsut when there are no runners on that base"
   ]
  },
  {
   "cell_type": "code",
   "execution_count": 88,
   "metadata": {},
   "outputs": [
    {
     "data": {
      "text/plain": [
       "\"'Column\\tNas\\nevent2\\t636739\\nevent3\\t643881\\n\""
      ]
     },
     "execution_count": 88,
     "metadata": {},
     "output_type": "execute_result"
    }
   ],
   "source": [
    "''''Column\tNas\n",
    "event2\t636739\n",
    "event3\t643881\n",
    "'''"
   ]
  },
  {
   "cell_type": "code",
   "execution_count": 89,
   "metadata": {},
   "outputs": [
    {
     "data": {
      "text/plain": [
       "Error                   2640\n",
       "Runner Out              2250\n",
       "Stolen Base 2B          1296\n",
       "Caught Stealing 2B       771\n",
       "Wild Pitch               705\n",
       "Stolen Base 3B           329\n",
       "Passed Ball              132\n",
       "Caught Stealing 3B       117\n",
       "Stolen Base Home          18\n",
       "Caught Stealing Home      11\n",
       "Pickoff 1B                11\n",
       "Pickoff 3B                10\n",
       "Pickoff Error 2B           5\n",
       "Pickoff Error 1B           4\n",
       "Name: event2, dtype: int64"
      ]
     },
     "execution_count": 89,
     "metadata": {},
     "output_type": "execute_result"
    }
   ],
   "source": [
    "## these events are mostly NaNs. Lets at least take a look\n",
    "\n",
    "data_df['event2'].value_counts()"
   ]
  },
  {
   "cell_type": "code",
   "execution_count": 90,
   "metadata": {},
   "outputs": [
    {
     "data": {
      "text/plain": [
       "Strikeout               168261\n",
       "Groundout               125901\n",
       "Single                   97499\n",
       "Flyout                   90591\n",
       "Walk                     79412\n",
       "Pop Out                  33656\n",
       "Double                   28568\n",
       "Lineout                  22342\n",
       "Home Run                 15797\n",
       "Forceout                 12393\n",
       "Grounded Into DP         11031\n",
       "Field Error               6023\n",
       "Intent Walk               5158\n",
       "Hit By Pitch              4918\n",
       "Sac Fly                   4039\n",
       "Triple                    3131\n",
       "Sac Bunt                  3081\n",
       "Double Play               1870\n",
       "Fielders Choice Out       1226\n",
       "Runner Out                1166\n",
       "Strikeout - DP             915\n",
       "Bunt Groundout             748\n",
       "Fielders Choice            445\n",
       "Bunt Pop Out               371\n",
       "Fan interference           141\n",
       "Catcher Interference       104\n",
       "Batter Interference         88\n",
       "Sac Fly DP                  66\n",
       "Bunt Lineout                13\n",
       "Triple Play                  7\n",
       "Name: event, dtype: int64"
      ]
     },
     "execution_count": 90,
     "metadata": {},
     "output_type": "execute_result"
    }
   ],
   "source": [
    "data_df['event'].value_counts()"
   ]
  },
  {
   "cell_type": "code",
   "execution_count": 91,
   "metadata": {},
   "outputs": [
    {
     "data": {
      "text/plain": [
       "Error             158\n",
       "Stolen Base 2B    128\n",
       "Runner Out         27\n",
       "Wild Pitch         15\n",
       "Passed Ball         6\n",
       "Name: event3, dtype: int64"
      ]
     },
     "execution_count": 91,
     "metadata": {},
     "output_type": "execute_result"
    }
   ],
   "source": [
    "data_df['event3'].value_counts()"
   ]
  },
  {
   "cell_type": "code",
   "execution_count": 92,
   "metadata": {},
   "outputs": [
    {
     "data": {
      "text/plain": [
       "184       Error\n",
       "185       Error\n",
       "186       Error\n",
       "763       Error\n",
       "764       Error\n",
       "          ...  \n",
       "718026    Error\n",
       "718027    Error\n",
       "718053    Error\n",
       "718054    Error\n",
       "718055    Error\n",
       "Name: event2, Length: 2640, dtype: object"
      ]
     },
     "execution_count": 92,
     "metadata": {},
     "output_type": "execute_result"
    }
   ],
   "source": [
    "data_df['event2'][data_df['event2'] == 'Error']"
   ]
  },
  {
   "cell_type": "code",
   "execution_count": 93,
   "metadata": {},
   "outputs": [],
   "source": [
    "###I'm going to assume that 'Error' for event2 and event3 are actual errors, and if there are Errors in both columns then there were two errors on the play?"
   ]
  },
  {
   "cell_type": "code",
   "execution_count": null,
   "metadata": {},
   "outputs": [],
   "source": [
    "#data_df[(data_df['event2'] == 'Error') & (data_df['event3'] == 'Error')].to_csv('double_errors.csv') "
   ]
  },
  {
   "cell_type": "code",
   "execution_count": 129,
   "metadata": {},
   "outputs": [],
   "source": [
    "## OK yeah that actually is in the description for each appearance"
   ]
  },
  {
   "cell_type": "code",
   "execution_count": 95,
   "metadata": {},
   "outputs": [],
   "source": [
    "data_df = data_df.drop('year', axis=1) ###DRop year since its always 2011\n",
    "columns = data_df.columns"
   ]
  },
  {
   "cell_type": "code",
   "execution_count": 96,
   "metadata": {},
   "outputs": [],
   "source": [
    "data_df = data_df.drop('at_bat_des', axis=1) ###Drop at_bat_des \n",
    "columns = data_df.columns"
   ]
  },
  {
   "cell_type": "code",
   "execution_count": 98,
   "metadata": {},
   "outputs": [
    {
     "data": {
      "text/html": [
       "<div>\n",
       "<style scoped>\n",
       "    .dataframe tbody tr th:only-of-type {\n",
       "        vertical-align: middle;\n",
       "    }\n",
       "\n",
       "    .dataframe tbody tr th {\n",
       "        vertical-align: top;\n",
       "    }\n",
       "\n",
       "    .dataframe thead th {\n",
       "        text-align: right;\n",
       "    }\n",
       "</style>\n",
       "<table border=\"1\" class=\"dataframe\">\n",
       "  <thead>\n",
       "    <tr style=\"text-align: right;\">\n",
       "      <th></th>\n",
       "      <th>uid</th>\n",
       "      <th>game_pk</th>\n",
       "      <th>date</th>\n",
       "      <th>team_id_b</th>\n",
       "      <th>team_id_p</th>\n",
       "      <th>inning</th>\n",
       "      <th>top</th>\n",
       "      <th>at_bat_num</th>\n",
       "      <th>pcount_at_bat</th>\n",
       "      <th>pcount_pitcher</th>\n",
       "      <th>...</th>\n",
       "      <th>break_angle</th>\n",
       "      <th>pitch_type</th>\n",
       "      <th>type_confidence</th>\n",
       "      <th>zone</th>\n",
       "      <th>nasty</th>\n",
       "      <th>spin_dir</th>\n",
       "      <th>spin_rate</th>\n",
       "      <th>on_1b</th>\n",
       "      <th>on_2b</th>\n",
       "      <th>on_3b</th>\n",
       "    </tr>\n",
       "  </thead>\n",
       "  <tbody>\n",
       "    <tr>\n",
       "      <th>0</th>\n",
       "      <td>14143226</td>\n",
       "      <td>286874</td>\n",
       "      <td>2011-03-31</td>\n",
       "      <td>108</td>\n",
       "      <td>118</td>\n",
       "      <td>1</td>\n",
       "      <td>1</td>\n",
       "      <td>1</td>\n",
       "      <td>1</td>\n",
       "      <td>1</td>\n",
       "      <td>...</td>\n",
       "      <td>NaN</td>\n",
       "      <td>NaN</td>\n",
       "      <td>NaN</td>\n",
       "      <td>NaN</td>\n",
       "      <td>NaN</td>\n",
       "      <td>NaN</td>\n",
       "      <td>NaN</td>\n",
       "      <td>NaN</td>\n",
       "      <td>NaN</td>\n",
       "      <td>NaN</td>\n",
       "    </tr>\n",
       "    <tr>\n",
       "      <th>1</th>\n",
       "      <td>14143227</td>\n",
       "      <td>286874</td>\n",
       "      <td>2011-03-31</td>\n",
       "      <td>108</td>\n",
       "      <td>118</td>\n",
       "      <td>1</td>\n",
       "      <td>1</td>\n",
       "      <td>1</td>\n",
       "      <td>2</td>\n",
       "      <td>2</td>\n",
       "      <td>...</td>\n",
       "      <td>NaN</td>\n",
       "      <td>NaN</td>\n",
       "      <td>NaN</td>\n",
       "      <td>NaN</td>\n",
       "      <td>NaN</td>\n",
       "      <td>NaN</td>\n",
       "      <td>NaN</td>\n",
       "      <td>NaN</td>\n",
       "      <td>NaN</td>\n",
       "      <td>NaN</td>\n",
       "    </tr>\n",
       "    <tr>\n",
       "      <th>2</th>\n",
       "      <td>14143228</td>\n",
       "      <td>286874</td>\n",
       "      <td>2011-03-31</td>\n",
       "      <td>108</td>\n",
       "      <td>118</td>\n",
       "      <td>1</td>\n",
       "      <td>1</td>\n",
       "      <td>1</td>\n",
       "      <td>3</td>\n",
       "      <td>3</td>\n",
       "      <td>...</td>\n",
       "      <td>NaN</td>\n",
       "      <td>NaN</td>\n",
       "      <td>NaN</td>\n",
       "      <td>NaN</td>\n",
       "      <td>NaN</td>\n",
       "      <td>NaN</td>\n",
       "      <td>NaN</td>\n",
       "      <td>NaN</td>\n",
       "      <td>NaN</td>\n",
       "      <td>NaN</td>\n",
       "    </tr>\n",
       "    <tr>\n",
       "      <th>3</th>\n",
       "      <td>14143229</td>\n",
       "      <td>286874</td>\n",
       "      <td>2011-03-31</td>\n",
       "      <td>108</td>\n",
       "      <td>118</td>\n",
       "      <td>1</td>\n",
       "      <td>1</td>\n",
       "      <td>1</td>\n",
       "      <td>4</td>\n",
       "      <td>4</td>\n",
       "      <td>...</td>\n",
       "      <td>NaN</td>\n",
       "      <td>NaN</td>\n",
       "      <td>NaN</td>\n",
       "      <td>NaN</td>\n",
       "      <td>NaN</td>\n",
       "      <td>NaN</td>\n",
       "      <td>NaN</td>\n",
       "      <td>NaN</td>\n",
       "      <td>NaN</td>\n",
       "      <td>NaN</td>\n",
       "    </tr>\n",
       "    <tr>\n",
       "      <th>4</th>\n",
       "      <td>14143230</td>\n",
       "      <td>286874</td>\n",
       "      <td>2011-03-31</td>\n",
       "      <td>108</td>\n",
       "      <td>118</td>\n",
       "      <td>1</td>\n",
       "      <td>1</td>\n",
       "      <td>2</td>\n",
       "      <td>1</td>\n",
       "      <td>5</td>\n",
       "      <td>...</td>\n",
       "      <td>NaN</td>\n",
       "      <td>NaN</td>\n",
       "      <td>NaN</td>\n",
       "      <td>NaN</td>\n",
       "      <td>NaN</td>\n",
       "      <td>NaN</td>\n",
       "      <td>NaN</td>\n",
       "      <td>NaN</td>\n",
       "      <td>NaN</td>\n",
       "      <td>NaN</td>\n",
       "    </tr>\n",
       "    <tr>\n",
       "      <th>...</th>\n",
       "      <td>...</td>\n",
       "      <td>...</td>\n",
       "      <td>...</td>\n",
       "      <td>...</td>\n",
       "      <td>...</td>\n",
       "      <td>...</td>\n",
       "      <td>...</td>\n",
       "      <td>...</td>\n",
       "      <td>...</td>\n",
       "      <td>...</td>\n",
       "      <td>...</td>\n",
       "      <td>...</td>\n",
       "      <td>...</td>\n",
       "      <td>...</td>\n",
       "      <td>...</td>\n",
       "      <td>...</td>\n",
       "      <td>...</td>\n",
       "      <td>...</td>\n",
       "      <td>...</td>\n",
       "      <td>...</td>\n",
       "      <td>...</td>\n",
       "    </tr>\n",
       "    <tr>\n",
       "      <th>718652</th>\n",
       "      <td>19836755</td>\n",
       "      <td>317072</td>\n",
       "      <td>2011-10-27</td>\n",
       "      <td>138</td>\n",
       "      <td>140</td>\n",
       "      <td>10</td>\n",
       "      <td>0</td>\n",
       "      <td>98</td>\n",
       "      <td>3</td>\n",
       "      <td>8</td>\n",
       "      <td>...</td>\n",
       "      <td>NaN</td>\n",
       "      <td>NaN</td>\n",
       "      <td>NaN</td>\n",
       "      <td>NaN</td>\n",
       "      <td>NaN</td>\n",
       "      <td>NaN</td>\n",
       "      <td>NaN</td>\n",
       "      <td>NaN</td>\n",
       "      <td>445055.0</td>\n",
       "      <td>NaN</td>\n",
       "    </tr>\n",
       "    <tr>\n",
       "      <th>718851</th>\n",
       "      <td>19838087</td>\n",
       "      <td>317073</td>\n",
       "      <td>2011-10-28</td>\n",
       "      <td>138</td>\n",
       "      <td>140</td>\n",
       "      <td>5</td>\n",
       "      <td>0</td>\n",
       "      <td>45</td>\n",
       "      <td>1</td>\n",
       "      <td>20</td>\n",
       "      <td>...</td>\n",
       "      <td>NaN</td>\n",
       "      <td>NaN</td>\n",
       "      <td>NaN</td>\n",
       "      <td>NaN</td>\n",
       "      <td>NaN</td>\n",
       "      <td>NaN</td>\n",
       "      <td>NaN</td>\n",
       "      <td>NaN</td>\n",
       "      <td>405395.0</td>\n",
       "      <td>501800.0</td>\n",
       "    </tr>\n",
       "    <tr>\n",
       "      <th>718852</th>\n",
       "      <td>19838088</td>\n",
       "      <td>317073</td>\n",
       "      <td>2011-10-28</td>\n",
       "      <td>138</td>\n",
       "      <td>140</td>\n",
       "      <td>5</td>\n",
       "      <td>0</td>\n",
       "      <td>45</td>\n",
       "      <td>2</td>\n",
       "      <td>21</td>\n",
       "      <td>...</td>\n",
       "      <td>NaN</td>\n",
       "      <td>NaN</td>\n",
       "      <td>NaN</td>\n",
       "      <td>NaN</td>\n",
       "      <td>NaN</td>\n",
       "      <td>NaN</td>\n",
       "      <td>NaN</td>\n",
       "      <td>NaN</td>\n",
       "      <td>405395.0</td>\n",
       "      <td>501800.0</td>\n",
       "    </tr>\n",
       "    <tr>\n",
       "      <th>718853</th>\n",
       "      <td>19838089</td>\n",
       "      <td>317073</td>\n",
       "      <td>2011-10-28</td>\n",
       "      <td>138</td>\n",
       "      <td>140</td>\n",
       "      <td>5</td>\n",
       "      <td>0</td>\n",
       "      <td>45</td>\n",
       "      <td>3</td>\n",
       "      <td>22</td>\n",
       "      <td>...</td>\n",
       "      <td>NaN</td>\n",
       "      <td>NaN</td>\n",
       "      <td>NaN</td>\n",
       "      <td>NaN</td>\n",
       "      <td>NaN</td>\n",
       "      <td>NaN</td>\n",
       "      <td>NaN</td>\n",
       "      <td>NaN</td>\n",
       "      <td>405395.0</td>\n",
       "      <td>501800.0</td>\n",
       "    </tr>\n",
       "    <tr>\n",
       "      <th>718854</th>\n",
       "      <td>19838090</td>\n",
       "      <td>317073</td>\n",
       "      <td>2011-10-28</td>\n",
       "      <td>138</td>\n",
       "      <td>140</td>\n",
       "      <td>5</td>\n",
       "      <td>0</td>\n",
       "      <td>45</td>\n",
       "      <td>4</td>\n",
       "      <td>23</td>\n",
       "      <td>...</td>\n",
       "      <td>NaN</td>\n",
       "      <td>NaN</td>\n",
       "      <td>NaN</td>\n",
       "      <td>NaN</td>\n",
       "      <td>NaN</td>\n",
       "      <td>NaN</td>\n",
       "      <td>NaN</td>\n",
       "      <td>NaN</td>\n",
       "      <td>405395.0</td>\n",
       "      <td>501800.0</td>\n",
       "    </tr>\n",
       "  </tbody>\n",
       "</table>\n",
       "<p>2280 rows × 66 columns</p>\n",
       "</div>"
      ],
      "text/plain": [
       "             uid  game_pk        date  team_id_b  team_id_p  inning  top  \\\n",
       "0       14143226   286874  2011-03-31        108        118       1    1   \n",
       "1       14143227   286874  2011-03-31        108        118       1    1   \n",
       "2       14143228   286874  2011-03-31        108        118       1    1   \n",
       "3       14143229   286874  2011-03-31        108        118       1    1   \n",
       "4       14143230   286874  2011-03-31        108        118       1    1   \n",
       "...          ...      ...         ...        ...        ...     ...  ...   \n",
       "718652  19836755   317072  2011-10-27        138        140      10    0   \n",
       "718851  19838087   317073  2011-10-28        138        140       5    0   \n",
       "718852  19838088   317073  2011-10-28        138        140       5    0   \n",
       "718853  19838089   317073  2011-10-28        138        140       5    0   \n",
       "718854  19838090   317073  2011-10-28        138        140       5    0   \n",
       "\n",
       "        at_bat_num  pcount_at_bat  pcount_pitcher  ...  break_angle  \\\n",
       "0                1              1               1  ...          NaN   \n",
       "1                1              2               2  ...          NaN   \n",
       "2                1              3               3  ...          NaN   \n",
       "3                1              4               4  ...          NaN   \n",
       "4                2              1               5  ...          NaN   \n",
       "...            ...            ...             ...  ...          ...   \n",
       "718652          98              3               8  ...          NaN   \n",
       "718851          45              1              20  ...          NaN   \n",
       "718852          45              2              21  ...          NaN   \n",
       "718853          45              3              22  ...          NaN   \n",
       "718854          45              4              23  ...          NaN   \n",
       "\n",
       "        pitch_type  type_confidence  zone  nasty  spin_dir  spin_rate  on_1b  \\\n",
       "0              NaN              NaN   NaN    NaN       NaN        NaN    NaN   \n",
       "1              NaN              NaN   NaN    NaN       NaN        NaN    NaN   \n",
       "2              NaN              NaN   NaN    NaN       NaN        NaN    NaN   \n",
       "3              NaN              NaN   NaN    NaN       NaN        NaN    NaN   \n",
       "4              NaN              NaN   NaN    NaN       NaN        NaN    NaN   \n",
       "...            ...              ...   ...    ...       ...        ...    ...   \n",
       "718652         NaN              NaN   NaN    NaN       NaN        NaN    NaN   \n",
       "718851         NaN              NaN   NaN    NaN       NaN        NaN    NaN   \n",
       "718852         NaN              NaN   NaN    NaN       NaN        NaN    NaN   \n",
       "718853         NaN              NaN   NaN    NaN       NaN        NaN    NaN   \n",
       "718854         NaN              NaN   NaN    NaN       NaN        NaN    NaN   \n",
       "\n",
       "           on_2b     on_3b  \n",
       "0            NaN       NaN  \n",
       "1            NaN       NaN  \n",
       "2            NaN       NaN  \n",
       "3            NaN       NaN  \n",
       "4            NaN       NaN  \n",
       "...          ...       ...  \n",
       "718652  445055.0       NaN  \n",
       "718851  405395.0  501800.0  \n",
       "718852  405395.0  501800.0  \n",
       "718853  405395.0  501800.0  \n",
       "718854  405395.0  501800.0  \n",
       "\n",
       "[2280 rows x 66 columns]"
      ]
     },
     "execution_count": 98,
     "metadata": {},
     "output_type": "execute_result"
    }
   ],
   "source": [
    "data_df[data_df['pitch_type'].isna()]"
   ]
  },
  {
   "cell_type": "code",
   "execution_count": 99,
   "metadata": {},
   "outputs": [
    {
     "data": {
      "image/png": "[encoded data removed]",
      "text/plain": [
       "<Figure size 500x500 with 1 Axes>"
      ]
     },
     "metadata": {},
     "output_type": "display_data"
    }
   ],
   "source": [
    "sns.displot(data_df['pitch_type']) ##start looking at how imbalanced the labels are gonna be....\n",
    "plt.show;"
   ]
  },
  {
   "attachments": {},
   "cell_type": "markdown",
   "metadata": {},
   "source": [
    "FF = Four Seam Fastball   SL = Slider   CU = Curveball  SI = Sinker    FC = Fastball/Cutter    FT = Two Seam Fastball\n",
    "\n",
    "KC = Knuckle-Curve  CH = Changeup   KN = Knuckleball   FS = Splitter   FA = Four Seam Fastball   FO = Forkball   EP = Eephus    SC = Screwball\n"
   ]
  },
  {
   "cell_type": "code",
   "execution_count": 100,
   "metadata": {},
   "outputs": [
    {
     "data": {
      "text/plain": [
       "FF    238541\n",
       "SL    109756\n",
       "SI     87740\n",
       "FT     81056\n",
       "CH     72641\n",
       "CU     56379\n",
       "FC     41702\n",
       "FS     10503\n",
       "KC      8490\n",
       "KN      4450\n",
       "IN      4058\n",
       "PO       559\n",
       "FO       329\n",
       "FA       204\n",
       "EP       134\n",
       "SC       120\n",
       "UN        17\n",
       "AB         2\n",
       "Name: pitch_type, dtype: int64"
      ]
     },
     "execution_count": 100,
     "metadata": {},
     "output_type": "execute_result"
    }
   ],
   "source": [
    "data_df['pitch_type'].value_counts() ### I think some of these will get cut anyways when I remove the low confidence labels but probably still very imbalanced"
   ]
  },
  {
   "cell_type": "code",
   "execution_count": 101,
   "metadata": {},
   "outputs": [
    {
     "name": "stderr",
     "output_type": "stream",
     "text": [
      "C:\\Users\\Joe\\AppData\\Local\\Temp\\ipykernel_17484\\915400684.py:1: SettingWithCopyWarning: \n",
      "A value is trying to be set on a copy of a slice from a DataFrame\n",
      "\n",
      "See the caveats in the documentation: https://pandas.pydata.org/pandas-docs/stable/user_guide/indexing.html#returning-a-view-versus-a-copy\n",
      "  data_df['pitch_type'][data_df['pitch_type'] == 'FA'] = 'FF'\n"
     ]
    }
   ],
   "source": [
    "data_df['pitch_type'][data_df['pitch_type'] == 'FA'] = 'FF' ###from what I read online FA is FF? There were hardly any FA anyways"
   ]
  },
  {
   "cell_type": "code",
   "execution_count": 102,
   "metadata": {},
   "outputs": [
    {
     "data": {
      "text/html": [
       "<div>\n",
       "<style scoped>\n",
       "    .dataframe tbody tr th:only-of-type {\n",
       "        vertical-align: middle;\n",
       "    }\n",
       "\n",
       "    .dataframe tbody tr th {\n",
       "        vertical-align: top;\n",
       "    }\n",
       "\n",
       "    .dataframe thead th {\n",
       "        text-align: right;\n",
       "    }\n",
       "</style>\n",
       "<table border=\"1\" class=\"dataframe\">\n",
       "  <thead>\n",
       "    <tr style=\"text-align: right;\">\n",
       "      <th></th>\n",
       "      <th>uid</th>\n",
       "      <th>game_pk</th>\n",
       "      <th>date</th>\n",
       "      <th>team_id_b</th>\n",
       "      <th>team_id_p</th>\n",
       "      <th>inning</th>\n",
       "      <th>top</th>\n",
       "      <th>at_bat_num</th>\n",
       "      <th>pcount_at_bat</th>\n",
       "      <th>pcount_pitcher</th>\n",
       "      <th>...</th>\n",
       "      <th>break_angle</th>\n",
       "      <th>pitch_type</th>\n",
       "      <th>type_confidence</th>\n",
       "      <th>zone</th>\n",
       "      <th>nasty</th>\n",
       "      <th>spin_dir</th>\n",
       "      <th>spin_rate</th>\n",
       "      <th>on_1b</th>\n",
       "      <th>on_2b</th>\n",
       "      <th>on_3b</th>\n",
       "    </tr>\n",
       "  </thead>\n",
       "  <tbody>\n",
       "    <tr>\n",
       "      <th>0</th>\n",
       "      <td>14143226</td>\n",
       "      <td>286874</td>\n",
       "      <td>2011-03-31</td>\n",
       "      <td>108</td>\n",
       "      <td>118</td>\n",
       "      <td>1</td>\n",
       "      <td>1</td>\n",
       "      <td>1</td>\n",
       "      <td>1</td>\n",
       "      <td>1</td>\n",
       "      <td>...</td>\n",
       "      <td>NaN</td>\n",
       "      <td>NaN</td>\n",
       "      <td>NaN</td>\n",
       "      <td>NaN</td>\n",
       "      <td>NaN</td>\n",
       "      <td>NaN</td>\n",
       "      <td>NaN</td>\n",
       "      <td>NaN</td>\n",
       "      <td>NaN</td>\n",
       "      <td>NaN</td>\n",
       "    </tr>\n",
       "    <tr>\n",
       "      <th>1</th>\n",
       "      <td>14143227</td>\n",
       "      <td>286874</td>\n",
       "      <td>2011-03-31</td>\n",
       "      <td>108</td>\n",
       "      <td>118</td>\n",
       "      <td>1</td>\n",
       "      <td>1</td>\n",
       "      <td>1</td>\n",
       "      <td>2</td>\n",
       "      <td>2</td>\n",
       "      <td>...</td>\n",
       "      <td>NaN</td>\n",
       "      <td>NaN</td>\n",
       "      <td>NaN</td>\n",
       "      <td>NaN</td>\n",
       "      <td>NaN</td>\n",
       "      <td>NaN</td>\n",
       "      <td>NaN</td>\n",
       "      <td>NaN</td>\n",
       "      <td>NaN</td>\n",
       "      <td>NaN</td>\n",
       "    </tr>\n",
       "    <tr>\n",
       "      <th>2</th>\n",
       "      <td>14143228</td>\n",
       "      <td>286874</td>\n",
       "      <td>2011-03-31</td>\n",
       "      <td>108</td>\n",
       "      <td>118</td>\n",
       "      <td>1</td>\n",
       "      <td>1</td>\n",
       "      <td>1</td>\n",
       "      <td>3</td>\n",
       "      <td>3</td>\n",
       "      <td>...</td>\n",
       "      <td>NaN</td>\n",
       "      <td>NaN</td>\n",
       "      <td>NaN</td>\n",
       "      <td>NaN</td>\n",
       "      <td>NaN</td>\n",
       "      <td>NaN</td>\n",
       "      <td>NaN</td>\n",
       "      <td>NaN</td>\n",
       "      <td>NaN</td>\n",
       "      <td>NaN</td>\n",
       "    </tr>\n",
       "    <tr>\n",
       "      <th>3</th>\n",
       "      <td>14143229</td>\n",
       "      <td>286874</td>\n",
       "      <td>2011-03-31</td>\n",
       "      <td>108</td>\n",
       "      <td>118</td>\n",
       "      <td>1</td>\n",
       "      <td>1</td>\n",
       "      <td>1</td>\n",
       "      <td>4</td>\n",
       "      <td>4</td>\n",
       "      <td>...</td>\n",
       "      <td>NaN</td>\n",
       "      <td>NaN</td>\n",
       "      <td>NaN</td>\n",
       "      <td>NaN</td>\n",
       "      <td>NaN</td>\n",
       "      <td>NaN</td>\n",
       "      <td>NaN</td>\n",
       "      <td>NaN</td>\n",
       "      <td>NaN</td>\n",
       "      <td>NaN</td>\n",
       "    </tr>\n",
       "    <tr>\n",
       "      <th>4</th>\n",
       "      <td>14143230</td>\n",
       "      <td>286874</td>\n",
       "      <td>2011-03-31</td>\n",
       "      <td>108</td>\n",
       "      <td>118</td>\n",
       "      <td>1</td>\n",
       "      <td>1</td>\n",
       "      <td>2</td>\n",
       "      <td>1</td>\n",
       "      <td>5</td>\n",
       "      <td>...</td>\n",
       "      <td>NaN</td>\n",
       "      <td>NaN</td>\n",
       "      <td>NaN</td>\n",
       "      <td>NaN</td>\n",
       "      <td>NaN</td>\n",
       "      <td>NaN</td>\n",
       "      <td>NaN</td>\n",
       "      <td>NaN</td>\n",
       "      <td>NaN</td>\n",
       "      <td>NaN</td>\n",
       "    </tr>\n",
       "  </tbody>\n",
       "</table>\n",
       "<p>5 rows × 66 columns</p>\n",
       "</div>"
      ],
      "text/plain": [
       "        uid  game_pk        date  team_id_b  team_id_p  inning  top  \\\n",
       "0  14143226   286874  2011-03-31        108        118       1    1   \n",
       "1  14143227   286874  2011-03-31        108        118       1    1   \n",
       "2  14143228   286874  2011-03-31        108        118       1    1   \n",
       "3  14143229   286874  2011-03-31        108        118       1    1   \n",
       "4  14143230   286874  2011-03-31        108        118       1    1   \n",
       "\n",
       "   at_bat_num  pcount_at_bat  pcount_pitcher  ...  break_angle  pitch_type  \\\n",
       "0           1              1               1  ...          NaN         NaN   \n",
       "1           1              2               2  ...          NaN         NaN   \n",
       "2           1              3               3  ...          NaN         NaN   \n",
       "3           1              4               4  ...          NaN         NaN   \n",
       "4           2              1               5  ...          NaN         NaN   \n",
       "\n",
       "   type_confidence  zone  nasty  spin_dir  spin_rate  on_1b  on_2b on_3b  \n",
       "0              NaN   NaN    NaN       NaN        NaN    NaN    NaN   NaN  \n",
       "1              NaN   NaN    NaN       NaN        NaN    NaN    NaN   NaN  \n",
       "2              NaN   NaN    NaN       NaN        NaN    NaN    NaN   NaN  \n",
       "3              NaN   NaN    NaN       NaN        NaN    NaN    NaN   NaN  \n",
       "4              NaN   NaN    NaN       NaN        NaN    NaN    NaN   NaN  \n",
       "\n",
       "[5 rows x 66 columns]"
      ]
     },
     "execution_count": 102,
     "metadata": {},
     "output_type": "execute_result"
    }
   ],
   "source": [
    "data_df.head()"
   ]
  },
  {
   "cell_type": "code",
   "execution_count": 144,
   "metadata": {},
   "outputs": [],
   "source": [
    "#data_df.to_csv('current_data_monday_morning_end.csv')"
   ]
  },
  {
   "cell_type": "code",
   "execution_count": 5,
   "metadata": {},
   "outputs": [
    {
     "name": "stderr",
     "output_type": "stream",
     "text": [
      "C:\\Users\\Joe\\AppData\\Local\\Temp\\ipykernel_17484\\3742532493.py:1: DtypeWarning: Columns (28) have mixed types. Specify dtype option on import or set low_memory=False.\n",
      "  data_df = pd.read_csv('current_data_monday_morning_end.csv')\n"
     ]
    }
   ],
   "source": [
    "#data_df = pd.read_csv('current_data_monday_morning_end.csv')"
   ]
  },
  {
   "cell_type": "code",
   "execution_count": 103,
   "metadata": {},
   "outputs": [],
   "source": [
    "columns = data_df.columns"
   ]
  },
  {
   "cell_type": "code",
   "execution_count": 105,
   "metadata": {},
   "outputs": [
    {
     "data": {
      "text/plain": [
       "Strikeout               168261\n",
       "Groundout               125901\n",
       "Single                   97499\n",
       "Flyout                   90591\n",
       "Walk                     79412\n",
       "Pop Out                  33656\n",
       "Double                   28568\n",
       "Lineout                  22342\n",
       "Home Run                 15797\n",
       "Forceout                 12393\n",
       "Grounded Into DP         11031\n",
       "Field Error               6023\n",
       "Intent Walk               5158\n",
       "Hit By Pitch              4918\n",
       "Sac Fly                   4039\n",
       "Triple                    3131\n",
       "Sac Bunt                  3081\n",
       "Double Play               1870\n",
       "Fielders Choice Out       1226\n",
       "Runner Out                1166\n",
       "Strikeout - DP             915\n",
       "Bunt Groundout             748\n",
       "Fielders Choice            445\n",
       "Bunt Pop Out               371\n",
       "Fan interference           141\n",
       "Catcher Interference       104\n",
       "Batter Interference         88\n",
       "Sac Fly DP                  66\n",
       "Bunt Lineout                13\n",
       "Triple Play                  7\n",
       "Name: event, dtype: int64"
      ]
     },
     "execution_count": 105,
     "metadata": {},
     "output_type": "execute_result"
    }
   ],
   "source": [
    "data_df[columns[25]].value_counts()"
   ]
  },
  {
   "cell_type": "code",
   "execution_count": 106,
   "metadata": {},
   "outputs": [
    {
     "data": {
      "image/png": "[encoded data removed]",
      "text/plain": [
       "<Figure size 640x480 with 1 Axes>"
      ]
     },
     "metadata": {},
     "output_type": "display_data"
    }
   ],
   "source": [
    "sns.boxplot(x=data_df['pitch_type'], y=data_df['start_speed']) ###Intuitive but ultimately not useful since it doesn't inform us about the next pitch\n",
    "plt.title('Pitch Velocity by Type')\n",
    "plt.show;"
   ]
  },
  {
   "cell_type": "code",
   "execution_count": null,
   "metadata": {},
   "outputs": [],
   "source": [
    "sns.lineplot(x=data_df['inning'], y = data_df['start_speed'], errorbar=None) ###makes sense, pitchers get tired\n",
    "plt.title('Pitch Speed by Inning')\n",
    "plt.show;"
   ]
  },
  {
   "cell_type": "code",
   "execution_count": 108,
   "metadata": {},
   "outputs": [
    {
     "data": {
      "image/png": "[encoded data removed]",
      "text/plain": [
       "<Figure size 640x480 with 1 Axes>"
      ]
     },
     "metadata": {},
     "output_type": "display_data"
    }
   ],
   "source": [
    "sns.boxplot(x=data_df['pitch_type'], y=data_df['break_length'])\n",
    "plt.show; ##love a good eephus pitch"
   ]
  },
  {
   "cell_type": "code",
   "execution_count": 109,
   "metadata": {},
   "outputs": [
    {
     "data": {
      "text/plain": [
       "<Axes: xlabel='pitch_type', ylabel='nasty'>"
      ]
     },
     "execution_count": 109,
     "metadata": {},
     "output_type": "execute_result"
    },
    {
     "data": {
      "image/png": "[encoded data removed]",
      "text/plain": [
       "<Figure size 640x480 with 1 Axes>"
      ]
     },
     "metadata": {},
     "output_type": "display_data"
    }
   ],
   "source": [
    "sns.boxplot(x=data_df['pitch_type'], y=data_df['nasty'])\n",
    "plt.show;\n",
    "#nasty doesn't seem very useful, they aren't very different from eachother, but we can include it anyways"
   ]
  },
  {
   "cell_type": "code",
   "execution_count": 110,
   "metadata": {},
   "outputs": [
    {
     "data": {
      "image/png": "[encoded data removed]",
      "text/plain": [
       "<Figure size 640x480 with 1 Axes>"
      ]
     },
     "metadata": {},
     "output_type": "display_data"
    }
   ],
   "source": [
    "#Spin Rate\n",
    "sns.boxplot(x=data_df['pitch_type'], y=data_df['spin_rate'])\n",
    "plt.show; #### I don't think this is very useful for predicting the next pitch, unless you're comparing a pitcher's spin rate average on that day versus previous days\n",
    "#Like does he have it today, or not? Given 4-6 hours, I don't think I can do that, so I'm gonna drop it"
   ]
  },
  {
   "cell_type": "code",
   "execution_count": 111,
   "metadata": {},
   "outputs": [
    {
     "name": "stdout",
     "output_type": "stream",
     "text": [
      "pitch_type\n",
      "AB      2\n",
      "CH    552\n",
      "CU    372\n",
      "EP      9\n",
      "FC    209\n",
      "FF    626\n",
      "FO      3\n",
      "FS     62\n",
      "FT    400\n",
      "IN    432\n",
      "KC     38\n",
      "KN      5\n",
      "PO    242\n",
      "SC      4\n",
      "SI    204\n",
      "SL    535\n",
      "UN     12\n",
      "Name: pitcher_id, dtype: int64\n"
     ]
    }
   ],
   "source": [
    "grouped = data_df.groupby('pitch_type')['pitcher_id'].nunique()\n",
    "\n",
    "print(grouped)"
   ]
  },
  {
   "cell_type": "code",
   "execution_count": 112,
   "metadata": {},
   "outputs": [
    {
     "data": {
      "image/png": "[encoded data removed]",
      "text/plain": [
       "<Figure size 800x400 with 1 Axes>"
      ]
     },
     "metadata": {},
     "output_type": "display_data"
    }
   ],
   "source": [
    "grouped.sort_values(ascending=False, inplace=True)  \n",
    "\n",
    "plt.figure(figsize=(8,4))  \n",
    "\n",
    "grouped.plot(kind='bar', color='green')  \n",
    "\n",
    "plt.title('Number of Pitchers by Pitch Type')  \n",
    "plt.xlabel('Pitch Type')  \n",
    "plt.ylabel('Number of Pitchers') \n",
    "\n",
    "plt.show;"
   ]
  },
  {
   "cell_type": "code",
   "execution_count": 113,
   "metadata": {},
   "outputs": [
    {
     "data": {
      "image/png": "[encoded data removed]",
      "text/plain": [
       "<Figure size 1000x600 with 1 Axes>"
      ]
     },
     "metadata": {},
     "output_type": "display_data"
    }
   ],
   "source": [
    "pitch_types_per_pitcher = data_df.groupby('pitcher_id')['pitch_type'].nunique()\n",
    "pitchers_per_pitch_type = pitch_types_per_pitcher.value_counts()\n",
    "pitchers_per_pitch_type.sort_index(inplace=True)\n",
    "plt.figure(figsize=(10,6))\n",
    "pitchers_per_pitch_type.plot(kind='bar')\n",
    "\n",
    "plt.title('Number of Pitchers by Unique Pitch Types')\n",
    "plt.xlabel('Number of Unique Pitch Types')\n",
    "plt.ylabel('Number of Pitchers')\n",
    "\n",
    "plt.show()"
   ]
  },
  {
   "cell_type": "code",
   "execution_count": 114,
   "metadata": {},
   "outputs": [
    {
     "data": {
      "image/png": "[encoded data removed]",
      "text/plain": [
       "<Figure size 1000x700 with 1 Axes>"
      ]
     },
     "metadata": {},
     "output_type": "display_data"
    }
   ],
   "source": [
    "# Calculate frequency of each pitch type at each pitch count\n",
    "pitch_counts = pd.crosstab(data_df['pcount_at_bat'], data_df['pitch_type'])\n",
    "\n",
    "# Normalize each row to get frequencies\n",
    "pitch_freqs = pitch_counts.div(pitch_counts.sum(axis=1), axis=0)\n",
    "\n",
    "#print(pitch_freqs)\n",
    "\n",
    "pitch_freqs.plot(kind='bar', stacked=True, figsize=(10,7))\n",
    "plt.ylabel('Frequency')\n",
    "plt.xlabel('Pitch Count in At Bat')\n",
    "plt.title('Average Frequency of Each Pitch Type by Pitch Count in At Bat')\n",
    "plt.show()\n"
   ]
  },
  {
   "cell_type": "code",
   "execution_count": 115,
   "metadata": {},
   "outputs": [
    {
     "data": {
      "text/html": [
       "<div>\n",
       "<style scoped>\n",
       "    .dataframe tbody tr th:only-of-type {\n",
       "        vertical-align: middle;\n",
       "    }\n",
       "\n",
       "    .dataframe tbody tr th {\n",
       "        vertical-align: top;\n",
       "    }\n",
       "\n",
       "    .dataframe thead th {\n",
       "        text-align: right;\n",
       "    }\n",
       "</style>\n",
       "<table border=\"1\" class=\"dataframe\">\n",
       "  <thead>\n",
       "    <tr style=\"text-align: right;\">\n",
       "      <th>pitch_type</th>\n",
       "      <th>AB</th>\n",
       "      <th>CH</th>\n",
       "      <th>CU</th>\n",
       "      <th>EP</th>\n",
       "      <th>FC</th>\n",
       "      <th>FF</th>\n",
       "      <th>FO</th>\n",
       "      <th>FS</th>\n",
       "      <th>FT</th>\n",
       "      <th>IN</th>\n",
       "      <th>KC</th>\n",
       "      <th>KN</th>\n",
       "      <th>PO</th>\n",
       "      <th>SC</th>\n",
       "      <th>SI</th>\n",
       "      <th>SL</th>\n",
       "      <th>UN</th>\n",
       "    </tr>\n",
       "    <tr>\n",
       "      <th>pcount_at_bat</th>\n",
       "      <th></th>\n",
       "      <th></th>\n",
       "      <th></th>\n",
       "      <th></th>\n",
       "      <th></th>\n",
       "      <th></th>\n",
       "      <th></th>\n",
       "      <th></th>\n",
       "      <th></th>\n",
       "      <th></th>\n",
       "      <th></th>\n",
       "      <th></th>\n",
       "      <th></th>\n",
       "      <th></th>\n",
       "      <th></th>\n",
       "      <th></th>\n",
       "      <th></th>\n",
       "    </tr>\n",
       "  </thead>\n",
       "  <tbody>\n",
       "    <tr>\n",
       "      <th>1</th>\n",
       "      <td>0.000000</td>\n",
       "      <td>0.076762</td>\n",
       "      <td>0.077448</td>\n",
       "      <td>0.000117</td>\n",
       "      <td>0.054141</td>\n",
       "      <td>0.359928</td>\n",
       "      <td>0.000181</td>\n",
       "      <td>0.009709</td>\n",
       "      <td>0.129435</td>\n",
       "      <td>0.004533</td>\n",
       "      <td>0.013130</td>\n",
       "      <td>0.006767</td>\n",
       "      <td>0.001224</td>\n",
       "      <td>0.000101</td>\n",
       "      <td>0.140538</td>\n",
       "      <td>0.125977</td>\n",
       "      <td>0.000011</td>\n",
       "    </tr>\n",
       "    <tr>\n",
       "      <th>2</th>\n",
       "      <td>0.000000</td>\n",
       "      <td>0.118955</td>\n",
       "      <td>0.077040</td>\n",
       "      <td>0.000150</td>\n",
       "      <td>0.059280</td>\n",
       "      <td>0.308856</td>\n",
       "      <td>0.000497</td>\n",
       "      <td>0.015813</td>\n",
       "      <td>0.118068</td>\n",
       "      <td>0.005621</td>\n",
       "      <td>0.012116</td>\n",
       "      <td>0.006999</td>\n",
       "      <td>0.000905</td>\n",
       "      <td>0.000234</td>\n",
       "      <td>0.125294</td>\n",
       "      <td>0.150150</td>\n",
       "      <td>0.000024</td>\n",
       "    </tr>\n",
       "    <tr>\n",
       "      <th>3</th>\n",
       "      <td>0.000007</td>\n",
       "      <td>0.111238</td>\n",
       "      <td>0.082499</td>\n",
       "      <td>0.000235</td>\n",
       "      <td>0.059618</td>\n",
       "      <td>0.320051</td>\n",
       "      <td>0.000809</td>\n",
       "      <td>0.017209</td>\n",
       "      <td>0.105219</td>\n",
       "      <td>0.007659</td>\n",
       "      <td>0.012346</td>\n",
       "      <td>0.006416</td>\n",
       "      <td>0.000773</td>\n",
       "      <td>0.000162</td>\n",
       "      <td>0.113541</td>\n",
       "      <td>0.162181</td>\n",
       "      <td>0.000037</td>\n",
       "    </tr>\n",
       "    <tr>\n",
       "      <th>4</th>\n",
       "      <td>0.000000</td>\n",
       "      <td>0.099983</td>\n",
       "      <td>0.083630</td>\n",
       "      <td>0.000275</td>\n",
       "      <td>0.057417</td>\n",
       "      <td>0.330632</td>\n",
       "      <td>0.000589</td>\n",
       "      <td>0.016559</td>\n",
       "      <td>0.100956</td>\n",
       "      <td>0.011295</td>\n",
       "      <td>0.010705</td>\n",
       "      <td>0.005343</td>\n",
       "      <td>0.000521</td>\n",
       "      <td>0.000196</td>\n",
       "      <td>0.110600</td>\n",
       "      <td>0.171248</td>\n",
       "      <td>0.000049</td>\n",
       "    </tr>\n",
       "    <tr>\n",
       "      <th>5</th>\n",
       "      <td>0.000000</td>\n",
       "      <td>0.101542</td>\n",
       "      <td>0.081215</td>\n",
       "      <td>0.000229</td>\n",
       "      <td>0.060218</td>\n",
       "      <td>0.334948</td>\n",
       "      <td>0.000472</td>\n",
       "      <td>0.017401</td>\n",
       "      <td>0.100902</td>\n",
       "      <td>0.001143</td>\n",
       "      <td>0.010819</td>\n",
       "      <td>0.004922</td>\n",
       "      <td>0.000229</td>\n",
       "      <td>0.000122</td>\n",
       "      <td>0.111919</td>\n",
       "      <td>0.173904</td>\n",
       "      <td>0.000015</td>\n",
       "    </tr>\n",
       "    <tr>\n",
       "      <th>6</th>\n",
       "      <td>0.000029</td>\n",
       "      <td>0.109484</td>\n",
       "      <td>0.069731</td>\n",
       "      <td>0.000258</td>\n",
       "      <td>0.063426</td>\n",
       "      <td>0.338397</td>\n",
       "      <td>0.000258</td>\n",
       "      <td>0.015993</td>\n",
       "      <td>0.098020</td>\n",
       "      <td>0.000057</td>\n",
       "      <td>0.009171</td>\n",
       "      <td>0.004758</td>\n",
       "      <td>0.000115</td>\n",
       "      <td>0.000201</td>\n",
       "      <td>0.109627</td>\n",
       "      <td>0.180476</td>\n",
       "      <td>0.000000</td>\n",
       "    </tr>\n",
       "    <tr>\n",
       "      <th>7</th>\n",
       "      <td>0.000000</td>\n",
       "      <td>0.108439</td>\n",
       "      <td>0.063861</td>\n",
       "      <td>0.000069</td>\n",
       "      <td>0.063722</td>\n",
       "      <td>0.356832</td>\n",
       "      <td>0.000069</td>\n",
       "      <td>0.014445</td>\n",
       "      <td>0.104499</td>\n",
       "      <td>0.000000</td>\n",
       "      <td>0.008985</td>\n",
       "      <td>0.004492</td>\n",
       "      <td>0.000000</td>\n",
       "      <td>0.000207</td>\n",
       "      <td>0.110374</td>\n",
       "      <td>0.164006</td>\n",
       "      <td>0.000000</td>\n",
       "    </tr>\n",
       "    <tr>\n",
       "      <th>8</th>\n",
       "      <td>0.000000</td>\n",
       "      <td>0.111983</td>\n",
       "      <td>0.062620</td>\n",
       "      <td>0.000174</td>\n",
       "      <td>0.064539</td>\n",
       "      <td>0.371184</td>\n",
       "      <td>0.000000</td>\n",
       "      <td>0.010989</td>\n",
       "      <td>0.097157</td>\n",
       "      <td>0.000000</td>\n",
       "      <td>0.008373</td>\n",
       "      <td>0.005058</td>\n",
       "      <td>0.000174</td>\n",
       "      <td>0.000349</td>\n",
       "      <td>0.105355</td>\n",
       "      <td>0.162044</td>\n",
       "      <td>0.000000</td>\n",
       "    </tr>\n",
       "    <tr>\n",
       "      <th>9</th>\n",
       "      <td>0.000000</td>\n",
       "      <td>0.108789</td>\n",
       "      <td>0.060333</td>\n",
       "      <td>0.000000</td>\n",
       "      <td>0.067933</td>\n",
       "      <td>0.383373</td>\n",
       "      <td>0.000475</td>\n",
       "      <td>0.011876</td>\n",
       "      <td>0.097862</td>\n",
       "      <td>0.000000</td>\n",
       "      <td>0.007126</td>\n",
       "      <td>0.003800</td>\n",
       "      <td>0.000000</td>\n",
       "      <td>0.000000</td>\n",
       "      <td>0.102138</td>\n",
       "      <td>0.156295</td>\n",
       "      <td>0.000000</td>\n",
       "    </tr>\n",
       "    <tr>\n",
       "      <th>10</th>\n",
       "      <td>0.000000</td>\n",
       "      <td>0.107407</td>\n",
       "      <td>0.055556</td>\n",
       "      <td>0.000000</td>\n",
       "      <td>0.070370</td>\n",
       "      <td>0.386420</td>\n",
       "      <td>0.000000</td>\n",
       "      <td>0.012346</td>\n",
       "      <td>0.091358</td>\n",
       "      <td>0.000000</td>\n",
       "      <td>0.007407</td>\n",
       "      <td>0.002469</td>\n",
       "      <td>0.000000</td>\n",
       "      <td>0.000000</td>\n",
       "      <td>0.101235</td>\n",
       "      <td>0.165432</td>\n",
       "      <td>0.000000</td>\n",
       "    </tr>\n",
       "    <tr>\n",
       "      <th>11</th>\n",
       "      <td>0.000000</td>\n",
       "      <td>0.098639</td>\n",
       "      <td>0.034014</td>\n",
       "      <td>0.003401</td>\n",
       "      <td>0.054422</td>\n",
       "      <td>0.387755</td>\n",
       "      <td>0.000000</td>\n",
       "      <td>0.013605</td>\n",
       "      <td>0.132653</td>\n",
       "      <td>0.000000</td>\n",
       "      <td>0.006803</td>\n",
       "      <td>0.003401</td>\n",
       "      <td>0.000000</td>\n",
       "      <td>0.000000</td>\n",
       "      <td>0.125850</td>\n",
       "      <td>0.139456</td>\n",
       "      <td>0.000000</td>\n",
       "    </tr>\n",
       "    <tr>\n",
       "      <th>12</th>\n",
       "      <td>0.000000</td>\n",
       "      <td>0.123810</td>\n",
       "      <td>0.047619</td>\n",
       "      <td>0.000000</td>\n",
       "      <td>0.085714</td>\n",
       "      <td>0.409524</td>\n",
       "      <td>0.000000</td>\n",
       "      <td>0.019048</td>\n",
       "      <td>0.076190</td>\n",
       "      <td>0.000000</td>\n",
       "      <td>0.000000</td>\n",
       "      <td>0.000000</td>\n",
       "      <td>0.000000</td>\n",
       "      <td>0.000000</td>\n",
       "      <td>0.076190</td>\n",
       "      <td>0.161905</td>\n",
       "      <td>0.000000</td>\n",
       "    </tr>\n",
       "    <tr>\n",
       "      <th>13</th>\n",
       "      <td>0.000000</td>\n",
       "      <td>0.093750</td>\n",
       "      <td>0.062500</td>\n",
       "      <td>0.000000</td>\n",
       "      <td>0.031250</td>\n",
       "      <td>0.437500</td>\n",
       "      <td>0.000000</td>\n",
       "      <td>0.031250</td>\n",
       "      <td>0.125000</td>\n",
       "      <td>0.000000</td>\n",
       "      <td>0.031250</td>\n",
       "      <td>0.000000</td>\n",
       "      <td>0.000000</td>\n",
       "      <td>0.000000</td>\n",
       "      <td>0.093750</td>\n",
       "      <td>0.093750</td>\n",
       "      <td>0.000000</td>\n",
       "    </tr>\n",
       "    <tr>\n",
       "      <th>14</th>\n",
       "      <td>0.000000</td>\n",
       "      <td>0.142857</td>\n",
       "      <td>0.071429</td>\n",
       "      <td>0.000000</td>\n",
       "      <td>0.000000</td>\n",
       "      <td>0.428571</td>\n",
       "      <td>0.000000</td>\n",
       "      <td>0.000000</td>\n",
       "      <td>0.000000</td>\n",
       "      <td>0.000000</td>\n",
       "      <td>0.000000</td>\n",
       "      <td>0.000000</td>\n",
       "      <td>0.000000</td>\n",
       "      <td>0.000000</td>\n",
       "      <td>0.214286</td>\n",
       "      <td>0.142857</td>\n",
       "      <td>0.000000</td>\n",
       "    </tr>\n",
       "    <tr>\n",
       "      <th>15</th>\n",
       "      <td>0.000000</td>\n",
       "      <td>0.333333</td>\n",
       "      <td>0.000000</td>\n",
       "      <td>0.000000</td>\n",
       "      <td>0.000000</td>\n",
       "      <td>0.500000</td>\n",
       "      <td>0.000000</td>\n",
       "      <td>0.000000</td>\n",
       "      <td>0.000000</td>\n",
       "      <td>0.000000</td>\n",
       "      <td>0.000000</td>\n",
       "      <td>0.000000</td>\n",
       "      <td>0.000000</td>\n",
       "      <td>0.000000</td>\n",
       "      <td>0.000000</td>\n",
       "      <td>0.166667</td>\n",
       "      <td>0.000000</td>\n",
       "    </tr>\n",
       "    <tr>\n",
       "      <th>16</th>\n",
       "      <td>0.000000</td>\n",
       "      <td>0.333333</td>\n",
       "      <td>0.000000</td>\n",
       "      <td>0.000000</td>\n",
       "      <td>0.000000</td>\n",
       "      <td>0.333333</td>\n",
       "      <td>0.000000</td>\n",
       "      <td>0.000000</td>\n",
       "      <td>0.000000</td>\n",
       "      <td>0.000000</td>\n",
       "      <td>0.000000</td>\n",
       "      <td>0.000000</td>\n",
       "      <td>0.000000</td>\n",
       "      <td>0.000000</td>\n",
       "      <td>0.333333</td>\n",
       "      <td>0.000000</td>\n",
       "      <td>0.000000</td>\n",
       "    </tr>\n",
       "  </tbody>\n",
       "</table>\n",
       "</div>"
      ],
      "text/plain": [
       "pitch_type           AB        CH        CU        EP        FC        FF  \\\n",
       "pcount_at_bat                                                               \n",
       "1              0.000000  0.076762  0.077448  0.000117  0.054141  0.359928   \n",
       "2              0.000000  0.118955  0.077040  0.000150  0.059280  0.308856   \n",
       "3              0.000007  0.111238  0.082499  0.000235  0.059618  0.320051   \n",
       "4              0.000000  0.099983  0.083630  0.000275  0.057417  0.330632   \n",
       "5              0.000000  0.101542  0.081215  0.000229  0.060218  0.334948   \n",
       "6              0.000029  0.109484  0.069731  0.000258  0.063426  0.338397   \n",
       "7              0.000000  0.108439  0.063861  0.000069  0.063722  0.356832   \n",
       "8              0.000000  0.111983  0.062620  0.000174  0.064539  0.371184   \n",
       "9              0.000000  0.108789  0.060333  0.000000  0.067933  0.383373   \n",
       "10             0.000000  0.107407  0.055556  0.000000  0.070370  0.386420   \n",
       "11             0.000000  0.098639  0.034014  0.003401  0.054422  0.387755   \n",
       "12             0.000000  0.123810  0.047619  0.000000  0.085714  0.409524   \n",
       "13             0.000000  0.093750  0.062500  0.000000  0.031250  0.437500   \n",
       "14             0.000000  0.142857  0.071429  0.000000  0.000000  0.428571   \n",
       "15             0.000000  0.333333  0.000000  0.000000  0.000000  0.500000   \n",
       "16             0.000000  0.333333  0.000000  0.000000  0.000000  0.333333   \n",
       "\n",
       "pitch_type           FO        FS        FT        IN        KC        KN  \\\n",
       "pcount_at_bat                                                               \n",
       "1              0.000181  0.009709  0.129435  0.004533  0.013130  0.006767   \n",
       "2              0.000497  0.015813  0.118068  0.005621  0.012116  0.006999   \n",
       "3              0.000809  0.017209  0.105219  0.007659  0.012346  0.006416   \n",
       "4              0.000589  0.016559  0.100956  0.011295  0.010705  0.005343   \n",
       "5              0.000472  0.017401  0.100902  0.001143  0.010819  0.004922   \n",
       "6              0.000258  0.015993  0.098020  0.000057  0.009171  0.004758   \n",
       "7              0.000069  0.014445  0.104499  0.000000  0.008985  0.004492   \n",
       "8              0.000000  0.010989  0.097157  0.000000  0.008373  0.005058   \n",
       "9              0.000475  0.011876  0.097862  0.000000  0.007126  0.003800   \n",
       "10             0.000000  0.012346  0.091358  0.000000  0.007407  0.002469   \n",
       "11             0.000000  0.013605  0.132653  0.000000  0.006803  0.003401   \n",
       "12             0.000000  0.019048  0.076190  0.000000  0.000000  0.000000   \n",
       "13             0.000000  0.031250  0.125000  0.000000  0.031250  0.000000   \n",
       "14             0.000000  0.000000  0.000000  0.000000  0.000000  0.000000   \n",
       "15             0.000000  0.000000  0.000000  0.000000  0.000000  0.000000   \n",
       "16             0.000000  0.000000  0.000000  0.000000  0.000000  0.000000   \n",
       "\n",
       "pitch_type           PO        SC        SI        SL        UN  \n",
       "pcount_at_bat                                                    \n",
       "1              0.001224  0.000101  0.140538  0.125977  0.000011  \n",
       "2              0.000905  0.000234  0.125294  0.150150  0.000024  \n",
       "3              0.000773  0.000162  0.113541  0.162181  0.000037  \n",
       "4              0.000521  0.000196  0.110600  0.171248  0.000049  \n",
       "5              0.000229  0.000122  0.111919  0.173904  0.000015  \n",
       "6              0.000115  0.000201  0.109627  0.180476  0.000000  \n",
       "7              0.000000  0.000207  0.110374  0.164006  0.000000  \n",
       "8              0.000174  0.000349  0.105355  0.162044  0.000000  \n",
       "9              0.000000  0.000000  0.102138  0.156295  0.000000  \n",
       "10             0.000000  0.000000  0.101235  0.165432  0.000000  \n",
       "11             0.000000  0.000000  0.125850  0.139456  0.000000  \n",
       "12             0.000000  0.000000  0.076190  0.161905  0.000000  \n",
       "13             0.000000  0.000000  0.093750  0.093750  0.000000  \n",
       "14             0.000000  0.000000  0.214286  0.142857  0.000000  \n",
       "15             0.000000  0.000000  0.000000  0.166667  0.000000  \n",
       "16             0.000000  0.000000  0.333333  0.000000  0.000000  "
      ]
     },
     "execution_count": 115,
     "metadata": {},
     "output_type": "execute_result"
    }
   ],
   "source": [
    "##There are too many pitch types here for this to be a good chart. I think in a non-assignment setting I would try to bin these to make it more readable -- and also I think it would be better for prediction too\n",
    "pitch_freqs\n"
   ]
  },
  {
   "cell_type": "code",
   "execution_count": 116,
   "metadata": {},
   "outputs": [
    {
     "data": {
      "image/png": "[encoded data removed]",
      "text/plain": [
       "<Figure size 1000x700 with 1 Axes>"
      ]
     },
     "metadata": {},
     "output_type": "display_data"
    }
   ],
   "source": [
    "# Isolate each pitcher's first pitch in each game\n",
    "first_pitches = data_df.sort_values(['pitcher_id', 'game_pk', 'pcount_pitcher']).groupby(['pitcher_id', 'game_pk']).first().reset_index()\n",
    "\n",
    "# Calculate frequency of each pitch type\n",
    "first_pitch_freqs = first_pitches['pitch_type'].value_counts(normalize=True)\n",
    "\n",
    "\n",
    "first_pitch_freqs.plot(kind='bar', figsize=(10,7))\n",
    "plt.ylabel('Frequency')\n",
    "plt.xlabel('Pitch Type')\n",
    "plt.title('Frequency of Each Pitch Type for Pitchers\\' First Pitch in a Game')\n",
    "plt.show()\n"
   ]
  },
  {
   "attachments": {},
   "cell_type": "markdown",
   "metadata": {},
   "source": [
    "Feature Engineering"
   ]
  },
  {
   "cell_type": "code",
   "execution_count": 48,
   "metadata": {},
   "outputs": [],
   "source": [
    "### I think at this point, I'll get rid of most of the coordinate based features. They seem like they're more useful in determining what type of pitch the current pitch is, which isn't useful for prediction.\n",
    "## we have the approximate labels already, with a short turn around window, have to assume that pruning to above .75 confidence is good enough to justify their labels\n",
    "##sz_top and sz_bot are interesting from a lag variable perspective, but it seems like it might just complicate things and add data leakage if I mess up -- remove for now and chalk this up as \"nice to add\" later\n",
    "#x, y, sv_id, pfx_x pfx_z, px, pz, z0, x0, y0, vx0, vz0, vy0, ax, az ,ay\n",
    "\n",
    "##I also will get rid of features that will cause data leakage and won't be useful as a lag variable:\n",
    "#is_final_pitch, final_balls, final_strikes, final_outs, start_tfs, start_tfs_zulu\n",
    "\n",
    "#The rest will be lagged and one-hot encoded. Additionally, at the end we will remove all the low-confidence labeled pitches, then split off hte target variables and save the data"
   ]
  },
  {
   "cell_type": "code",
   "execution_count": 117,
   "metadata": {},
   "outputs": [
    {
     "data": {
      "text/plain": [
       "Index(['uid', 'game_pk', 'date', 'team_id_b', 'team_id_p', 'inning', 'top',\n",
       "       'at_bat_num', 'pcount_at_bat', 'pcount_pitcher', 'balls', 'strikes',\n",
       "       'fouls', 'outs', 'is_final_pitch', 'final_balls', 'final_strikes',\n",
       "       'final_outs', 'start_tfs', 'start_tfs_zulu', 'batter_id', 'stand',\n",
       "       'b_height', 'pitcher_id', 'p_throws', 'event', 'event2', 'event3',\n",
       "       'away_team_runs', 'home_team_runs', 'score', 'pitch_des', 'pitch_id',\n",
       "       'type', 'x', 'y', 'sv_id', 'start_speed', 'end_speed', 'sz_top',\n",
       "       'sz_bot', 'pfx_x', 'pfx_z', 'px', 'pz', 'x0', 'z0', 'y0', 'vx0', 'vz0',\n",
       "       'vy0', 'ax', 'az', 'ay', 'break_length', 'break_y', 'break_angle',\n",
       "       'pitch_type', 'type_confidence', 'zone', 'nasty', 'spin_dir',\n",
       "       'spin_rate', 'on_1b', 'on_2b', 'on_3b'],\n",
       "      dtype='object')"
      ]
     },
     "execution_count": 117,
     "metadata": {},
     "output_type": "execute_result"
    }
   ],
   "source": [
    "columns"
   ]
  },
  {
   "cell_type": "code",
   "execution_count": 121,
   "metadata": {},
   "outputs": [],
   "source": [
    "to_drop = ['x', 'y', 'sv_id', 'pfx_x', 'pfx_z', 'px', 'pz', 'z0', 'x0', 'y0', 'vx0', 'vz0', 'vy0','ax','ay','az', 'is_final_pitch', 'final_balls', 'final_strikes', 'final_outs', 'start_tfs', 'start_tfs_zulu', 'sz_top', 'sz_bot']"
   ]
  },
  {
   "cell_type": "code",
   "execution_count": 122,
   "metadata": {},
   "outputs": [],
   "source": [
    "data_df = data_df.drop(to_drop, axis=1)"
   ]
  },
  {
   "cell_type": "code",
   "execution_count": 125,
   "metadata": {},
   "outputs": [
    {
     "name": "stdout",
     "output_type": "stream",
     "text": [
      "Index(['uid', 'game_pk', 'date', 'team_id_b', 'team_id_p', 'inning', 'top',\n",
      "       'at_bat_num', 'pcount_at_bat', 'pcount_pitcher', 'balls', 'strikes',\n",
      "       'fouls', 'outs', 'batter_id', 'stand', 'b_height', 'pitcher_id',\n",
      "       'p_throws', 'event', 'event2', 'event3', 'away_team_runs',\n",
      "       'home_team_runs', 'score', 'pitch_des', 'pitch_id', 'type',\n",
      "       'start_speed', 'end_speed', 'break_length', 'break_y', 'break_angle',\n",
      "       'pitch_type', 'type_confidence', 'zone', 'nasty', 'spin_dir',\n",
      "       'spin_rate', 'on_1b', 'on_2b', 'on_3b'],\n",
      "      dtype='object')\n"
     ]
    }
   ],
   "source": [
    "columns = data_df.columns\n",
    "print(columns)"
   ]
  },
  {
   "cell_type": "code",
   "execution_count": 126,
   "metadata": {},
   "outputs": [
    {
     "data": {
      "text/plain": [
       "Ball                         245007\n",
       "Called Strike                125919\n",
       "Foul                         117833\n",
       "In play, out(s)               89333\n",
       "Swinging Strike               59011\n",
       "In play, no out               30880\n",
       "In play, run(s)               16000\n",
       "Ball In Dirt                  12901\n",
       "Foul Tip                       5118\n",
       "Intent Ball                    4375\n",
       "Swinging Strike (Blocked)      4233\n",
       "Foul (Runner Going)            2972\n",
       "Foul Bunt                      2709\n",
       "Hit By Pitch                   1589\n",
       "Pitchout                        560\n",
       "Missed Bunt                     497\n",
       "Automatic Ball                   21\n",
       "Swinging Pitchout                 3\n",
       "Name: pitch_des, dtype: int64"
      ]
     },
     "execution_count": 126,
     "metadata": {},
     "output_type": "execute_result"
    }
   ],
   "source": [
    "data_df['pitch_des'].value_counts()"
   ]
  },
  {
   "cell_type": "code",
   "execution_count": 129,
   "metadata": {},
   "outputs": [
    {
     "data": {
      "text/plain": [
       "S    318295\n",
       "B    264453\n",
       "X    136213\n",
       "Name: type, dtype: int64"
      ]
     },
     "execution_count": 129,
     "metadata": {},
     "output_type": "execute_result"
    }
   ],
   "source": [
    "data_df['type'].value_counts() ### I think pitch_des is too descriptive and type is too vague, but maybe we can use them to create a new feature that is more useful"
   ]
  },
  {
   "cell_type": "code",
   "execution_count": null,
   "metadata": {},
   "outputs": [],
   "source": [
    "#New Categories:\n",
    "#Ball Unintentional (Ball, Ball in Dirt, Hit by Pitch)\n",
    "#Ball Intentional (Pitchout, Intent Ball, Automatic Ball)\n",
    "#Called Strike (Called Strike)\n",
    "#Strike Swinging (includes fouls) (Swinging Strike, Foul Tip, Swinging Strike(Blocked), Foul (Running Going), Foul,  Swinging Pitchout)\n",
    "#Bunt Shown (Missed Bunt, Foul Bunt)\n",
    "#In Play (outs, no out, runs)\n",
    "#"
   ]
  },
  {
   "cell_type": "code",
   "execution_count": 133,
   "metadata": {},
   "outputs": [],
   "source": [
    "rebucket_dict = {\n",
    "    \"Ball\": \"Ball Unintentional\",\n",
    "    \"Ball In Dirt\": \"Ball Unintentional\",\n",
    "    \"Hit By Pitch\": \"Ball Unintentional\",\n",
    "    \"Pitchout\": \"Ball Intentional\",\n",
    "    \"Intent Ball\": \"Ball Intentional\",\n",
    "    \"Automatic Ball\": \"Ball Intentional\",\n",
    "    \"Called Strike\": \"Called Strike\",\n",
    "    \"Swinging Strike\": \"Strike Swinging\",\n",
    "    \"Foul Tip\": \"Strike Swinging\",\n",
    "    \"Swinging Strike (Blocked)\": \"Strike Swinging\",\n",
    "    \"Foul (Runner Going)\": \"Strike Swinging\",\n",
    "    \"Foul\": \"Strike Swinging\",\n",
    "    \"Swinging Pitchout\": \"Strike Swinging\",\n",
    "    \"Missed Bunt\": \"Bunt Shown\",\n",
    "    \"Foul Bunt\": \"Bunt Shown\",\n",
    "    \"In play, out(s)\": \"In Play\",\n",
    "    \"In play, no out\": \"In Play\",\n",
    "    \"In play, run(s)\": \"In Play\",\n",
    "}\n"
   ]
  },
  {
   "cell_type": "code",
   "execution_count": 134,
   "metadata": {},
   "outputs": [
    {
     "name": "stdout",
     "output_type": "stream",
     "text": [
      "Ball Unintentional    259497\n",
      "Strike Swinging       189170\n",
      "In Play               136213\n",
      "Called Strike         125919\n",
      "Ball Intentional        4956\n",
      "Bunt Shown              3206\n",
      "Name: pitch_des, dtype: int64\n"
     ]
    }
   ],
   "source": [
    "\n",
    "data_df['pitch_des'] = data_df['pitch_des'].replace(rebucket_dict)\n",
    "\n",
    "\n",
    "print(data_df['pitch_des'].value_counts())\n"
   ]
  },
  {
   "cell_type": "code",
   "execution_count": 136,
   "metadata": {},
   "outputs": [],
   "source": [
    "#Want to visualize the data a bit more to see what else is needed to to be done:\n",
    "\n",
    "data_df.head(40).to_csv('tuesday_morning.csv')"
   ]
  },
  {
   "cell_type": "code",
   "execution_count": 137,
   "metadata": {},
   "outputs": [],
   "source": [
    "#Change 'on_1b', 'on_2b', 'on_3b' to 0 if no player on base, 1 otherwise\n",
    "data_df['on_1b'] = data_df['on_1b'].apply(lambda x: 0 if pd.isna(x) else 1)\n",
    "data_df['on_2b'] = data_df['on_2b'].apply(lambda x: 0 if pd.isna(x) else 1)\n",
    "data_df['on_3b'] = data_df['on_3b'].apply(lambda x: 0 if pd.isna(x) else 1)\n"
   ]
  },
  {
   "cell_type": "code",
   "execution_count": 138,
   "metadata": {},
   "outputs": [
    {
     "data": {
      "text/plain": [
       "0    502638\n",
       "1    216323\n",
       "Name: on_1b, dtype: int64"
      ]
     },
     "execution_count": 138,
     "metadata": {},
     "output_type": "execute_result"
    }
   ],
   "source": [
    "data_df['on_1b'].value_counts() #great"
   ]
  },
  {
   "cell_type": "code",
   "execution_count": 140,
   "metadata": {},
   "outputs": [],
   "source": [
    "###One thing I think i would do if this were me, would be to bucket all the pitch types such that its just fastball, breaking ball, changeup, and other because I think that is what is most important to know as a hitter for whats coming\n",
    "### but the assignment asks for probabilities of each pitch type, so we can stick without this for now, but I'm going to add some one-hots for previous pitch types in the pitcher's repertoire"
   ]
  },
  {
   "cell_type": "code",
   "execution_count": 141,
   "metadata": {},
   "outputs": [
    {
     "data": {
      "text/plain": [
       "Index(['uid', 'game_pk', 'date', 'team_id_b', 'team_id_p', 'inning', 'top',\n",
       "       'at_bat_num', 'pcount_at_bat', 'pcount_pitcher', 'balls', 'strikes',\n",
       "       'fouls', 'outs', 'batter_id', 'stand', 'b_height', 'pitcher_id',\n",
       "       'p_throws', 'event', 'event2', 'event3', 'away_team_runs',\n",
       "       'home_team_runs', 'score', 'pitch_des', 'pitch_id', 'type',\n",
       "       'start_speed', 'end_speed', 'break_length', 'break_y', 'break_angle',\n",
       "       'pitch_type', 'type_confidence', 'zone', 'nasty', 'spin_dir',\n",
       "       'spin_rate', 'on_1b', 'on_2b', 'on_3b'],\n",
       "      dtype='object')"
      ]
     },
     "execution_count": 141,
     "metadata": {},
     "output_type": "execute_result"
    }
   ],
   "source": [
    "columns"
   ]
  },
  {
   "cell_type": "code",
   "execution_count": 142,
   "metadata": {},
   "outputs": [],
   "source": [
    "data_df = data_df.drop(['spin_rate', 'spin_dir'], axis=1)"
   ]
  },
  {
   "cell_type": "code",
   "execution_count": 143,
   "metadata": {},
   "outputs": [],
   "source": [
    "columns = data_df.columns"
   ]
  },
  {
   "cell_type": "code",
   "execution_count": 144,
   "metadata": {},
   "outputs": [
    {
     "data": {
      "text/plain": [
       "Index(['uid', 'game_pk', 'date', 'team_id_b', 'team_id_p', 'inning', 'top',\n",
       "       'at_bat_num', 'pcount_at_bat', 'pcount_pitcher', 'balls', 'strikes',\n",
       "       'fouls', 'outs', 'batter_id', 'stand', 'b_height', 'pitcher_id',\n",
       "       'p_throws', 'event', 'event2', 'event3', 'away_team_runs',\n",
       "       'home_team_runs', 'score', 'pitch_des', 'pitch_id', 'type',\n",
       "       'start_speed', 'end_speed', 'break_length', 'break_y', 'break_angle',\n",
       "       'pitch_type', 'type_confidence', 'zone', 'nasty', 'on_1b', 'on_2b',\n",
       "       'on_3b'],\n",
       "      dtype='object')"
      ]
     },
     "execution_count": 144,
     "metadata": {},
     "output_type": "execute_result"
    }
   ],
   "source": [
    "columns"
   ]
  },
  {
   "cell_type": "code",
   "execution_count": 146,
   "metadata": {},
   "outputs": [
    {
     "data": {
      "text/plain": [
       "Index(['uid', 'game_pk', 'date', 'team_id_b', 'team_id_p', 'inning', 'top',\n",
       "       'at_bat_num', 'pcount_at_bat', 'pcount_pitcher', 'balls', 'strikes',\n",
       "       'fouls', 'outs', 'batter_id', 'stand', 'b_height', 'pitcher_id',\n",
       "       'p_throws', 'event', 'event2', 'event3', 'away_team_runs',\n",
       "       'home_team_runs', 'score', 'pitch_des', 'pitch_id', 'pitch_type',\n",
       "       'type_confidence', 'zone', 'nasty', 'on_1b', 'on_2b', 'on_3b'],\n",
       "      dtype='object')"
      ]
     },
     "execution_count": 146,
     "metadata": {},
     "output_type": "execute_result"
    }
   ],
   "source": [
    "data_df = data_df.drop(['start_speed','end_speed', 'break_length', 'break_y','break_angle','type'], axis=1)\n",
    "columns = data_df.columns\n",
    "columns"
   ]
  },
  {
   "cell_type": "code",
   "execution_count": 150,
   "metadata": {},
   "outputs": [],
   "source": [
    "### Adding lagged pitch_types for each batter, so it's what hte pitcher last threw to the batter\n",
    "data_df['lagged_pitch_type'] = data_df.groupby(['game_pk', 'team_id_b', 'batter_id'])['pitch_type'].shift(1)\n",
    "data_df['lagged_pitch_type_2'] = data_df.groupby(['game_pk', 'team_id_b', 'batter_id'])['pitch_type'].shift(2)\n",
    "data_df['lagged_pitch_type_3'] = data_df.groupby(['game_pk', 'team_id_b', 'batter_id'])['pitch_type'].shift(3)\n"
   ]
  },
  {
   "cell_type": "code",
   "execution_count": 151,
   "metadata": {},
   "outputs": [],
   "source": [
    "##Now adding a lag for each event so we can see what happened on the last at-bat\n",
    "\n",
    "data_df['lagged_event'] = data_df.groupby(['game_pk', 'team_id_b'])['event'].shift(1)\n",
    "data_df['lagged_event2'] = data_df.groupby(['game_pk', 'team_id_b'])['event2'].shift(1)\n",
    "data_df['lagged_event3'] = data_df.groupby(['game_pk', 'team_id_b'])['event3'].shift(1)\n"
   ]
  },
  {
   "cell_type": "code",
   "execution_count": 152,
   "metadata": {},
   "outputs": [],
   "source": [
    "##Adding additional lagged variables\n",
    "\n",
    "data_df['lagged_pitch_des'] = data_df.groupby(['game_pk', 'team_id_b', 'batter_id'])['pitch_des'].shift(1)\n",
    "data_df['lagged_zone'] = data_df.groupby(['game_pk', 'team_id_b', 'batter_id'])['zone'].shift(1)\n",
    "data_df['lagged_nasty'] = data_df.groupby(['game_pk', 'team_id_b', 'batter_id'])['nasty'].shift(1)\n"
   ]
  },
  {
   "cell_type": "code",
   "execution_count": 316,
   "metadata": {},
   "outputs": [],
   "source": [
    "data_df['lagged_type_confidence'] = data_df.groupby(['game_pk', 'team_id_b', 'batter_id'])['type_confidence'].shift(1)"
   ]
  },
  {
   "cell_type": "code",
   "execution_count": 153,
   "metadata": {},
   "outputs": [],
   "source": [
    "##Pitcher is home team indicator\n",
    "data_df['pitcher_is_home'] = (data_df['top'] == 1).astype(int)\n"
   ]
  },
  {
   "cell_type": "code",
   "execution_count": 199,
   "metadata": {},
   "outputs": [],
   "source": [
    "###differential for if pitcher is winning\n",
    "\n",
    "data_df['pitcher_team_winning_by'] = data_df.apply(lambda row: row['home_team_runs'] - row['away_team_runs'] if row['pitcher_is_home'] else row['away_team_runs'] - row['home_team_runs'], axis=1)\n"
   ]
  },
  {
   "cell_type": "code",
   "execution_count": 296,
   "metadata": {},
   "outputs": [
    {
     "data": {
      "text/plain": [
       "Index(['uid', 'game_pk', 'date', 'team_id_b', 'team_id_p', 'inning', 'top',\n",
       "       'at_bat_num', 'pcount_at_bat', 'pcount_pitcher', 'balls', 'strikes',\n",
       "       'fouls', 'outs', 'batter_id', 'stand', 'b_height', 'pitcher_id',\n",
       "       'p_throws', 'event', 'event2', 'event3', 'away_team_runs',\n",
       "       'home_team_runs', 'score', 'pitch_des', 'pitch_id', 'pitch_type',\n",
       "       'type_confidence', 'zone', 'nasty', 'on_1b', 'on_2b', 'on_3b',\n",
       "       'lagged_pitch_type', 'lagged_pitch_type_2', 'lagged_pitch_type_3',\n",
       "       'lagged_event', 'lagged_event2', 'lagged_event3', 'lagged_pitch_des',\n",
       "       'lagged_zone', 'lagged_nasty', 'pitcher_is_home',\n",
       "       'pitcher_team_winning_by'],\n",
       "      dtype='object')"
      ]
     },
     "execution_count": 296,
     "metadata": {},
     "output_type": "execute_result"
    }
   ],
   "source": [
    "df = data_df.copy()\n",
    "\n",
    "# Define the pitch types\n",
    "pitch_types = df['pitch_type'].unique().tolist()\n",
    "\n",
    "df.columns\n"
   ]
  },
  {
   "cell_type": "code",
   "execution_count": 297,
   "metadata": {},
   "outputs": [],
   "source": [
    "df['pitch_type'] = df['pitch_type'].fillna('UN')"
   ]
  },
  {
   "cell_type": "code",
   "execution_count": 298,
   "metadata": {},
   "outputs": [],
   "source": [
    "df.pitch_type.value_counts()\n",
    "\n",
    "pitch_types = df['pitch_type'].unique().tolist()"
   ]
  },
  {
   "cell_type": "code",
   "execution_count": 300,
   "metadata": {},
   "outputs": [],
   "source": [
    "##creating a frequency column for each pitch type for each pitcher\n",
    "\n",
    "###Create dummy columns for each pitch type\n",
    "df['pitch_type_original'] = df['pitch_type']\n",
    "df = pd.get_dummies(df, columns=['pitch_type'], prefix='', prefix_sep='',)\n",
    "\n",
    "###Create a column to track the total number of pitches thrown by each pitcher\n",
    "df['total_pitches'] = df.groupby('pitcher_id').cumcount() + 1\n",
    "\n",
    "\n",
    "###Loop through each pitch type\n",
    "for pitch_type in pitch_types:\n",
    "    ###Create a column to track the cumulative count of the pitch type for each pitcher\n",
    "    df[f'cum_count_{pitch_type}'] = df.groupby('pitcher_id')[pitch_type].cumsum()\n",
    "    \n",
    "    ##Calculate the pitch frequencies by dividing the cumulative count by the total pitches at that time point\n",
    "    df[f'pitch_type_{pitch_type}'] = df[f'cum_count_{pitch_type}'] / df['total_pitches']\n",
    "    \n",
    "    ##Shift the pitch frequencies by one pitch\n",
    "    df[f'pitch_type_{pitch_type}'] = df.groupby('pitcher_id')[f'pitch_type_{pitch_type}'].shift(fill_value=0)\n",
    "\n",
    "##Drop the intermediate columns\n",
    "df = df.drop(columns=[f'cum_count_{pitch_type}' for pitch_type in pitch_types])\n",
    "df = df.drop(columns=['total_pitches'])\n",
    "\n",
    "####Lag the pitch frequencies by one pitch\n",
    "df[[f'lagged_{pitch_type}' for pitch_type in pitch_types]] = df.groupby('pitcher_id')[[f'pitch_type_{pitch_type}' for pitch_type in pitch_types]].shift(fill_value=0)\n",
    "\n"
   ]
  },
  {
   "cell_type": "code",
   "execution_count": 274,
   "metadata": {},
   "outputs": [],
   "source": [
    "#df[df.pitcher_id == 460024].to_csv('checking_one_pitcher_again.csv')"
   ]
  },
  {
   "cell_type": "code",
   "execution_count": 301,
   "metadata": {},
   "outputs": [],
   "source": [
    "def convert_height(height):\n",
    "    #split the height string on '-'\n",
    "    feet, inches = height.split('-')\n",
    "    ##convert feet and inches to integers\n",
    "    feet = int(feet)\n",
    "    inches = int(inches)\n",
    "\n",
    "    total_inches = feet * 12 + inches\n",
    "    \n",
    "    return total_inches\n",
    "\n",
    "\n",
    "#converting the height variable to something that can be used in a model\n",
    "df['height_in_inches'] = df['b_height'].apply(convert_height)\n",
    "df = df.drop('b_height',axis=1)\n"
   ]
  },
  {
   "cell_type": "code",
   "execution_count": 302,
   "metadata": {},
   "outputs": [],
   "source": [
    "\n",
    "#one hot encode righty/lefty\n",
    "df['stand'] = df['stand'].replace({'R': 1, 'L': 0})\n",
    "df['p_throws'] = df['p_throws'].replace({'R': 1, 'L': 0})\n"
   ]
  },
  {
   "cell_type": "code",
   "execution_count": 303,
   "metadata": {},
   "outputs": [
    {
     "data": {
      "text/plain": [
       "Index(['uid', 'game_pk', 'date', 'team_id_b', 'team_id_p', 'inning', 'top',\n",
       "       'at_bat_num', 'pcount_at_bat', 'pcount_pitcher', 'balls', 'strikes',\n",
       "       'fouls', 'outs', 'batter_id', 'stand', 'pitcher_id', 'p_throws',\n",
       "       'event', 'event2', 'event3', 'away_team_runs', 'home_team_runs',\n",
       "       'score', 'pitch_des', 'pitch_id', 'type_confidence', 'zone', 'nasty',\n",
       "       'on_1b', 'on_2b', 'on_3b', 'lagged_pitch_type', 'lagged_pitch_type_2',\n",
       "       'lagged_pitch_type_3', 'lagged_event', 'lagged_event2', 'lagged_event3',\n",
       "       'lagged_pitch_des', 'lagged_zone', 'lagged_nasty', 'pitcher_is_home',\n",
       "       'pitcher_team_winning_by', 'pitch_type_original', 'AB', 'CH', 'CU',\n",
       "       'EP', 'FC', 'FF', 'FO', 'FS', 'FT', 'IN', 'KC', 'KN', 'PO', 'SC', 'SI',\n",
       "       'SL', 'UN', 'pitch_type_UN', 'pitch_type_FF', 'pitch_type_SL',\n",
       "       'pitch_type_CU', 'pitch_type_SI', 'pitch_type_FC', 'pitch_type_FT',\n",
       "       'pitch_type_KC', 'pitch_type_CH', 'pitch_type_IN', 'pitch_type_KN',\n",
       "       'pitch_type_FS', 'pitch_type_PO', 'pitch_type_FO', 'pitch_type_EP',\n",
       "       'pitch_type_SC', 'pitch_type_AB', 'lagged_UN', 'lagged_FF', 'lagged_SL',\n",
       "       'lagged_CU', 'lagged_SI', 'lagged_FC', 'lagged_FT', 'lagged_KC',\n",
       "       'lagged_CH', 'lagged_IN', 'lagged_KN', 'lagged_FS', 'lagged_PO',\n",
       "       'lagged_FO', 'lagged_EP', 'lagged_SC', 'lagged_AB', 'height_in_inches'],\n",
       "      dtype='object')"
      ]
     },
     "execution_count": 303,
     "metadata": {},
     "output_type": "execute_result"
    }
   ],
   "source": [
    "df.columns"
   ]
  },
  {
   "cell_type": "code",
   "execution_count": 304,
   "metadata": {},
   "outputs": [],
   "source": [
    "#lagged score variable\n",
    "df['lagged_score'] = df.groupby(['game_pk', 'team_id_b'])['score'].shift(1)\n"
   ]
  },
  {
   "cell_type": "code",
   "execution_count": 305,
   "metadata": {},
   "outputs": [],
   "source": [
    "##replcae it with something useable in a model\n",
    "df['lagged_score'] = df['lagged_score'].replace({'T': 1, np.nan: 0})\n",
    "\n"
   ]
  },
  {
   "cell_type": "code",
   "execution_count": 306,
   "metadata": {},
   "outputs": [
    {
     "data": {
      "text/plain": [
       "0.0    663124\n",
       "1.0     55837\n",
       "Name: lagged_score, dtype: int64"
      ]
     },
     "execution_count": 306,
     "metadata": {},
     "output_type": "execute_result"
    }
   ],
   "source": [
    "df.lagged_score.value_counts()"
   ]
  },
  {
   "cell_type": "code",
   "execution_count": 307,
   "metadata": {},
   "outputs": [
    {
     "data": {
      "text/plain": [
       "Index(['uid', 'game_pk', 'date', 'team_id_b', 'team_id_p', 'inning', 'top',\n",
       "       'at_bat_num', 'pcount_at_bat', 'pcount_pitcher', 'balls', 'strikes',\n",
       "       'fouls', 'outs', 'batter_id', 'stand', 'pitcher_id', 'p_throws',\n",
       "       'event', 'event2', 'event3', 'away_team_runs', 'home_team_runs',\n",
       "       'score', 'pitch_des', 'pitch_id', 'type_confidence', 'zone', 'nasty',\n",
       "       'on_1b', 'on_2b', 'on_3b', 'lagged_pitch_type', 'lagged_pitch_type_2',\n",
       "       'lagged_pitch_type_3', 'lagged_event', 'lagged_event2', 'lagged_event3',\n",
       "       'lagged_pitch_des', 'lagged_zone', 'lagged_nasty', 'pitcher_is_home',\n",
       "       'pitcher_team_winning_by', 'pitch_type_original', 'AB', 'CH', 'CU',\n",
       "       'EP', 'FC', 'FF', 'FO', 'FS', 'FT', 'IN', 'KC', 'KN', 'PO', 'SC', 'SI',\n",
       "       'SL', 'UN', 'pitch_type_UN', 'pitch_type_FF', 'pitch_type_SL',\n",
       "       'pitch_type_CU', 'pitch_type_SI', 'pitch_type_FC', 'pitch_type_FT',\n",
       "       'pitch_type_KC', 'pitch_type_CH', 'pitch_type_IN', 'pitch_type_KN',\n",
       "       'pitch_type_FS', 'pitch_type_PO', 'pitch_type_FO', 'pitch_type_EP',\n",
       "       'pitch_type_SC', 'pitch_type_AB', 'lagged_UN', 'lagged_FF', 'lagged_SL',\n",
       "       'lagged_CU', 'lagged_SI', 'lagged_FC', 'lagged_FT', 'lagged_KC',\n",
       "       'lagged_CH', 'lagged_IN', 'lagged_KN', 'lagged_FS', 'lagged_PO',\n",
       "       'lagged_FO', 'lagged_EP', 'lagged_SC', 'lagged_AB', 'height_in_inches',\n",
       "       'lagged_score'],\n",
       "      dtype='object')"
      ]
     },
     "execution_count": 307,
     "metadata": {},
     "output_type": "execute_result"
    }
   ],
   "source": [
    "df.columns"
   ]
  },
  {
   "cell_type": "code",
   "execution_count": 308,
   "metadata": {},
   "outputs": [],
   "source": [
    "### Now I'd like to create a column for each pitch type, where the value is the frequency of that pitcher using that pitch given the count\n",
    "\n",
    "##Create a count feature by concatenating 'balls' and 'strikes' with a dash\n",
    "df['count'] = df['balls'].astype(str) + '-' + df['strikes'].astype(str)\n",
    "\n",
    "##Create a column to track the total number of pitches thrown by each pitcher at each count\n",
    "df['total_pitches'] = df.groupby(['pitcher_id', 'count']).cumcount() + 1\n",
    "\n",
    "##Loop through each pitch type and count\n",
    "for pitch_type in pitch_types:\n",
    "    ##create a column to track the cumulative count of the pitch type for each pitcher at each count\n",
    "    df[f'cum_count_{pitch_type}'] = df.groupby(['pitcher_id', 'count'])[pitch_type].cumsum()\n",
    "    #divide by total\n",
    "    df[f'pitch_type_{pitch_type}'] = df[f'cum_count_{pitch_type}'] / df['total_pitches']\n",
    "\n",
    "#drop the intermediate columns\n",
    "df = df.drop(columns=[f'cum_count_{pitch_type}' for pitch_type in pitch_types])\n",
    "df = df.drop(columns=['total_pitches'])\n",
    "\n",
    "##lag the pitch frequencies by one pitch within each pitcher and count group\n",
    "for pitch_type in pitch_types:\n",
    "    df[f'lagged_count_{pitch_type}'] = df.groupby(['pitcher_id', 'count'])[f'pitch_type_{pitch_type}'].shift(fill_value=0)\n",
    "\n",
    "\n",
    "df = df.drop(columns=['count'])\n",
    "\n"
   ]
  },
  {
   "cell_type": "code",
   "execution_count": 309,
   "metadata": {},
   "outputs": [],
   "source": [
    "#df[df['pitcher_id'] == 460024].to_csv('checking_count_freq_lags.csv')"
   ]
  },
  {
   "cell_type": "code",
   "execution_count": 310,
   "metadata": {},
   "outputs": [
    {
     "data": {
      "text/plain": [
       "Index(['uid', 'game_pk', 'date', 'team_id_b', 'team_id_p', 'inning', 'top',\n",
       "       'at_bat_num', 'pcount_at_bat', 'pcount_pitcher',\n",
       "       ...\n",
       "       'lagged_count_KC', 'lagged_count_CH', 'lagged_count_IN',\n",
       "       'lagged_count_KN', 'lagged_count_FS', 'lagged_count_PO',\n",
       "       'lagged_count_FO', 'lagged_count_EP', 'lagged_count_SC',\n",
       "       'lagged_count_AB'],\n",
       "      dtype='object', length=114)"
      ]
     },
     "execution_count": 310,
     "metadata": {},
     "output_type": "execute_result"
    }
   ],
   "source": [
    "df.columns"
   ]
  },
  {
   "cell_type": "code",
   "execution_count": 313,
   "metadata": {},
   "outputs": [
    {
     "data": {
      "text/plain": [
       "Index(['uid', 'game_pk', 'date', 'team_id_b', 'team_id_p', 'inning', 'top',\n",
       "       'at_bat_num', 'pcount_at_bat', 'pcount_pitcher', 'balls', 'strikes',\n",
       "       'fouls', 'outs', 'batter_id', 'stand', 'pitcher_id', 'p_throws',\n",
       "       'event', 'event2', 'event3', 'away_team_runs', 'home_team_runs',\n",
       "       'score', 'pitch_des', 'pitch_id', 'type_confidence', 'zone', 'nasty',\n",
       "       'on_1b', 'on_2b', 'on_3b', 'lagged_pitch_type', 'lagged_pitch_type_2',\n",
       "       'lagged_pitch_type_3', 'lagged_event', 'lagged_event2', 'lagged_event3',\n",
       "       'lagged_pitch_des', 'lagged_zone', 'lagged_nasty', 'pitcher_is_home',\n",
       "       'pitcher_team_winning_by', 'pitch_type_original', 'lagged_UN',\n",
       "       'lagged_FF', 'lagged_SL', 'lagged_CU', 'lagged_SI', 'lagged_FC',\n",
       "       'lagged_FT', 'lagged_KC', 'lagged_CH', 'lagged_IN', 'lagged_KN',\n",
       "       'lagged_FS', 'lagged_PO', 'lagged_FO', 'lagged_EP', 'lagged_SC',\n",
       "       'lagged_AB', 'height_in_inches', 'lagged_score', 'lagged_count_UN',\n",
       "       'lagged_count_FF', 'lagged_count_SL', 'lagged_count_CU',\n",
       "       'lagged_count_SI', 'lagged_count_FC', 'lagged_count_FT',\n",
       "       'lagged_count_KC', 'lagged_count_CH', 'lagged_count_IN',\n",
       "       'lagged_count_KN', 'lagged_count_FS', 'lagged_count_PO',\n",
       "       'lagged_count_FO', 'lagged_count_EP', 'lagged_count_SC',\n",
       "       'lagged_count_AB'],\n",
       "      dtype='object')"
      ]
     },
     "execution_count": 313,
     "metadata": {},
     "output_type": "execute_result"
    }
   ],
   "source": [
    "list(df.columns)[44:78]\n",
    "olds_to_drop = list(df.columns)[44:78]\n",
    "df = df.drop(olds_to_drop, axis=1)\n",
    "df.columns"
   ]
  },
  {
   "cell_type": "code",
   "execution_count": 294,
   "metadata": {},
   "outputs": [],
   "source": [
    "#df.dtypes.to_csv('dtypes.csv') ##exported this just to evaluate what needs to be done to prepare the data for going into a model"
   ]
  },
  {
   "cell_type": "code",
   "execution_count": 317,
   "metadata": {},
   "outputs": [],
   "source": [
    "##lagging the type confidence by one pitch\n",
    "df['lagged_type_confidence'] = df.groupby(['game_pk', 'team_id_b', 'batter_id'])['type_confidence'].shift(1)"
   ]
  },
  {
   "cell_type": "code",
   "execution_count": 318,
   "metadata": {},
   "outputs": [
    {
     "data": {
      "text/plain": [
       "numpy.float64"
      ]
     },
     "execution_count": 318,
     "metadata": {},
     "output_type": "execute_result"
    }
   ],
   "source": [
    "#type(df.lagged_type_confidence[0])"
   ]
  },
  {
   "cell_type": "code",
   "execution_count": 319,
   "metadata": {},
   "outputs": [],
   "source": [
    "##Dropping all the current pitch/batter stuff thats left to prevent data leakage\n",
    "df = df.drop(['event','event2','event3','score','pitch_des','pitch_id','zone','nasty'],axis=1)"
   ]
  },
  {
   "cell_type": "code",
   "execution_count": 320,
   "metadata": {},
   "outputs": [],
   "source": [
    "df_spare = df.copy() ##doing one-hots now so just want to be careful\n",
    "\n",
    "lagged_categorical_columns = ['lagged_pitch_type', 'lagged_pitch_type_2', 'lagged_pitch_type_3', 'lagged_event', 'lagged_event2', 'lagged_event3', 'lagged_pitch_des']\n",
    "\n",
    "for col in lagged_categorical_columns:\n",
    "    df = pd.get_dummies(df, columns=[col], prefix= f'{col}_')"
   ]
  },
  {
   "cell_type": "code",
   "execution_count": 321,
   "metadata": {},
   "outputs": [
    {
     "data": {
      "text/plain": [
       "Index(['uid', 'game_pk', 'date', 'team_id_b', 'team_id_p', 'inning', 'top',\n",
       "       'at_bat_num', 'pcount_at_bat', 'pcount_pitcher',\n",
       "       ...\n",
       "       'lagged_event3__Passed Ball', 'lagged_event3__Runner Out',\n",
       "       'lagged_event3__Stolen Base 2B', 'lagged_event3__Wild Pitch',\n",
       "       'lagged_pitch_des__Ball Intentional',\n",
       "       'lagged_pitch_des__Ball Unintentional', 'lagged_pitch_des__Bunt Shown',\n",
       "       'lagged_pitch_des__Called Strike', 'lagged_pitch_des__In Play',\n",
       "       'lagged_pitch_des__Strike Swinging'],\n",
       "      dtype='object', length=172)"
      ]
     },
     "execution_count": 321,
     "metadata": {},
     "output_type": "execute_result"
    }
   ],
   "source": [
    "df.columns"
   ]
  },
  {
   "cell_type": "code",
   "execution_count": 322,
   "metadata": {},
   "outputs": [],
   "source": [
    "#df.to_csv('Tuesday_evening.csv')"
   ]
  },
  {
   "cell_type": "code",
   "execution_count": 323,
   "metadata": {},
   "outputs": [
    {
     "data": {
      "text/plain": [
       "str"
      ]
     },
     "execution_count": 323,
     "metadata": {},
     "output_type": "execute_result"
    }
   ],
   "source": [
    "type(df['date'][0])"
   ]
  },
  {
   "cell_type": "code",
   "execution_count": 325,
   "metadata": {},
   "outputs": [],
   "source": [
    "df['date'] = pd.to_datetime(df['date'])"
   ]
  },
  {
   "cell_type": "code",
   "execution_count": 326,
   "metadata": {},
   "outputs": [
    {
     "data": {
      "text/plain": [
       "Index(['uid', 'game_pk', 'date', 'team_id_b', 'team_id_p', 'inning', 'top',\n",
       "       'at_bat_num', 'pcount_at_bat', 'pcount_pitcher',\n",
       "       ...\n",
       "       'lagged_event3__Passed Ball', 'lagged_event3__Runner Out',\n",
       "       'lagged_event3__Stolen Base 2B', 'lagged_event3__Wild Pitch',\n",
       "       'lagged_pitch_des__Ball Intentional',\n",
       "       'lagged_pitch_des__Ball Unintentional', 'lagged_pitch_des__Bunt Shown',\n",
       "       'lagged_pitch_des__Called Strike', 'lagged_pitch_des__In Play',\n",
       "       'lagged_pitch_des__Strike Swinging'],\n",
       "      dtype='object', length=172)"
      ]
     },
     "execution_count": 326,
     "metadata": {},
     "output_type": "execute_result"
    }
   ],
   "source": [
    "df.columns"
   ]
  },
  {
   "cell_type": "code",
   "execution_count": 327,
   "metadata": {},
   "outputs": [],
   "source": [
    "#df.loc[200:300].to_csv('wednesday_morning_samples.csv')"
   ]
  },
  {
   "cell_type": "code",
   "execution_count": 328,
   "metadata": {},
   "outputs": [
    {
     "data": {
      "text/html": [
       "<div>\n",
       "<style scoped>\n",
       "    .dataframe tbody tr th:only-of-type {\n",
       "        vertical-align: middle;\n",
       "    }\n",
       "\n",
       "    .dataframe tbody tr th {\n",
       "        vertical-align: top;\n",
       "    }\n",
       "\n",
       "    .dataframe thead th {\n",
       "        text-align: right;\n",
       "    }\n",
       "</style>\n",
       "<table border=\"1\" class=\"dataframe\">\n",
       "  <thead>\n",
       "    <tr style=\"text-align: right;\">\n",
       "      <th></th>\n",
       "      <th>uid</th>\n",
       "      <th>game_pk</th>\n",
       "      <th>date</th>\n",
       "      <th>team_id_b</th>\n",
       "      <th>team_id_p</th>\n",
       "      <th>inning</th>\n",
       "      <th>top</th>\n",
       "      <th>at_bat_num</th>\n",
       "      <th>pcount_at_bat</th>\n",
       "      <th>pcount_pitcher</th>\n",
       "      <th>...</th>\n",
       "      <th>lagged_event3__Passed Ball</th>\n",
       "      <th>lagged_event3__Runner Out</th>\n",
       "      <th>lagged_event3__Stolen Base 2B</th>\n",
       "      <th>lagged_event3__Wild Pitch</th>\n",
       "      <th>lagged_pitch_des__Ball Intentional</th>\n",
       "      <th>lagged_pitch_des__Ball Unintentional</th>\n",
       "      <th>lagged_pitch_des__Bunt Shown</th>\n",
       "      <th>lagged_pitch_des__Called Strike</th>\n",
       "      <th>lagged_pitch_des__In Play</th>\n",
       "      <th>lagged_pitch_des__Strike Swinging</th>\n",
       "    </tr>\n",
       "  </thead>\n",
       "  <tbody>\n",
       "    <tr>\n",
       "      <th>0</th>\n",
       "      <td>14143226</td>\n",
       "      <td>286874</td>\n",
       "      <td>2011-03-31</td>\n",
       "      <td>108</td>\n",
       "      <td>118</td>\n",
       "      <td>1</td>\n",
       "      <td>1</td>\n",
       "      <td>1</td>\n",
       "      <td>1</td>\n",
       "      <td>1</td>\n",
       "      <td>...</td>\n",
       "      <td>0</td>\n",
       "      <td>0</td>\n",
       "      <td>0</td>\n",
       "      <td>0</td>\n",
       "      <td>0</td>\n",
       "      <td>0</td>\n",
       "      <td>0</td>\n",
       "      <td>0</td>\n",
       "      <td>0</td>\n",
       "      <td>0</td>\n",
       "    </tr>\n",
       "    <tr>\n",
       "      <th>1</th>\n",
       "      <td>14143227</td>\n",
       "      <td>286874</td>\n",
       "      <td>2011-03-31</td>\n",
       "      <td>108</td>\n",
       "      <td>118</td>\n",
       "      <td>1</td>\n",
       "      <td>1</td>\n",
       "      <td>1</td>\n",
       "      <td>2</td>\n",
       "      <td>2</td>\n",
       "      <td>...</td>\n",
       "      <td>0</td>\n",
       "      <td>0</td>\n",
       "      <td>0</td>\n",
       "      <td>0</td>\n",
       "      <td>0</td>\n",
       "      <td>1</td>\n",
       "      <td>0</td>\n",
       "      <td>0</td>\n",
       "      <td>0</td>\n",
       "      <td>0</td>\n",
       "    </tr>\n",
       "    <tr>\n",
       "      <th>2</th>\n",
       "      <td>14143228</td>\n",
       "      <td>286874</td>\n",
       "      <td>2011-03-31</td>\n",
       "      <td>108</td>\n",
       "      <td>118</td>\n",
       "      <td>1</td>\n",
       "      <td>1</td>\n",
       "      <td>1</td>\n",
       "      <td>3</td>\n",
       "      <td>3</td>\n",
       "      <td>...</td>\n",
       "      <td>0</td>\n",
       "      <td>0</td>\n",
       "      <td>0</td>\n",
       "      <td>0</td>\n",
       "      <td>0</td>\n",
       "      <td>1</td>\n",
       "      <td>0</td>\n",
       "      <td>0</td>\n",
       "      <td>0</td>\n",
       "      <td>0</td>\n",
       "    </tr>\n",
       "    <tr>\n",
       "      <th>3</th>\n",
       "      <td>14143229</td>\n",
       "      <td>286874</td>\n",
       "      <td>2011-03-31</td>\n",
       "      <td>108</td>\n",
       "      <td>118</td>\n",
       "      <td>1</td>\n",
       "      <td>1</td>\n",
       "      <td>1</td>\n",
       "      <td>4</td>\n",
       "      <td>4</td>\n",
       "      <td>...</td>\n",
       "      <td>0</td>\n",
       "      <td>0</td>\n",
       "      <td>0</td>\n",
       "      <td>0</td>\n",
       "      <td>0</td>\n",
       "      <td>0</td>\n",
       "      <td>0</td>\n",
       "      <td>1</td>\n",
       "      <td>0</td>\n",
       "      <td>0</td>\n",
       "    </tr>\n",
       "    <tr>\n",
       "      <th>4</th>\n",
       "      <td>14143230</td>\n",
       "      <td>286874</td>\n",
       "      <td>2011-03-31</td>\n",
       "      <td>108</td>\n",
       "      <td>118</td>\n",
       "      <td>1</td>\n",
       "      <td>1</td>\n",
       "      <td>2</td>\n",
       "      <td>1</td>\n",
       "      <td>5</td>\n",
       "      <td>...</td>\n",
       "      <td>0</td>\n",
       "      <td>0</td>\n",
       "      <td>0</td>\n",
       "      <td>0</td>\n",
       "      <td>0</td>\n",
       "      <td>0</td>\n",
       "      <td>0</td>\n",
       "      <td>0</td>\n",
       "      <td>0</td>\n",
       "      <td>0</td>\n",
       "    </tr>\n",
       "  </tbody>\n",
       "</table>\n",
       "<p>5 rows × 172 columns</p>\n",
       "</div>"
      ],
      "text/plain": [
       "        uid  game_pk       date  team_id_b  team_id_p  inning  top  \\\n",
       "0  14143226   286874 2011-03-31        108        118       1    1   \n",
       "1  14143227   286874 2011-03-31        108        118       1    1   \n",
       "2  14143228   286874 2011-03-31        108        118       1    1   \n",
       "3  14143229   286874 2011-03-31        108        118       1    1   \n",
       "4  14143230   286874 2011-03-31        108        118       1    1   \n",
       "\n",
       "   at_bat_num  pcount_at_bat  pcount_pitcher  ...  lagged_event3__Passed Ball  \\\n",
       "0           1              1               1  ...                           0   \n",
       "1           1              2               2  ...                           0   \n",
       "2           1              3               3  ...                           0   \n",
       "3           1              4               4  ...                           0   \n",
       "4           2              1               5  ...                           0   \n",
       "\n",
       "   lagged_event3__Runner Out  lagged_event3__Stolen Base 2B  \\\n",
       "0                          0                              0   \n",
       "1                          0                              0   \n",
       "2                          0                              0   \n",
       "3                          0                              0   \n",
       "4                          0                              0   \n",
       "\n",
       "   lagged_event3__Wild Pitch  lagged_pitch_des__Ball Intentional  \\\n",
       "0                          0                                   0   \n",
       "1                          0                                   0   \n",
       "2                          0                                   0   \n",
       "3                          0                                   0   \n",
       "4                          0                                   0   \n",
       "\n",
       "   lagged_pitch_des__Ball Unintentional  lagged_pitch_des__Bunt Shown  \\\n",
       "0                                     0                             0   \n",
       "1                                     1                             0   \n",
       "2                                     1                             0   \n",
       "3                                     0                             0   \n",
       "4                                     0                             0   \n",
       "\n",
       "   lagged_pitch_des__Called Strike  lagged_pitch_des__In Play  \\\n",
       "0                                0                          0   \n",
       "1                                0                          0   \n",
       "2                                0                          0   \n",
       "3                                1                          0   \n",
       "4                                0                          0   \n",
       "\n",
       "   lagged_pitch_des__Strike Swinging  \n",
       "0                                  0  \n",
       "1                                  0  \n",
       "2                                  0  \n",
       "3                                  0  \n",
       "4                                  0  \n",
       "\n",
       "[5 rows x 172 columns]"
      ]
     },
     "execution_count": 328,
     "metadata": {},
     "output_type": "execute_result"
    }
   ],
   "source": [
    "### This is the final version with all the features. Now we just remove non-features, scale the data, transform the target variables, and save the data"
   ]
  },
  {
   "cell_type": "code",
   "execution_count": 329,
   "metadata": {},
   "outputs": [],
   "source": [
    "#getting rid of the data I don't trust\n",
    "train_data_df = df[df['type_confidence'] >= 0.75]"
   ]
  },
  {
   "cell_type": "code",
   "execution_count": 345,
   "metadata": {},
   "outputs": [
    {
     "data": {
      "text/plain": [
       "10153"
      ]
     },
     "execution_count": 345,
     "metadata": {},
     "output_type": "execute_result"
    }
   ],
   "source": [
    "#len(train_data_df[train_data_df['date'] >= pd.to_datetime('2011-09-30')])"
   ]
  },
  {
   "cell_type": "code",
   "execution_count": 347,
   "metadata": {},
   "outputs": [],
   "source": [
    "train_size = int(0.80*len(train_data_df))\n",
    "val_size = int(0.15*len(train_data_df))\n",
    "test_size = len(train_data_df) - train_size - val_size"
   ]
  },
  {
   "cell_type": "code",
   "execution_count": 348,
   "metadata": {},
   "outputs": [
    {
     "data": {
      "text/plain": [
       "Timestamp('2011-09-05 00:00:00')"
      ]
     },
     "execution_count": 348,
     "metadata": {},
     "output_type": "execute_result"
    }
   ],
   "source": [
    "train_data_df['date'][(train_size+val_size)]"
   ]
  },
  {
   "cell_type": "code",
   "execution_count": null,
   "metadata": {},
   "outputs": [],
   "source": [
    "###Now removing the excess columns"
   ]
  },
  {
   "cell_type": "code",
   "execution_count": 349,
   "metadata": {},
   "outputs": [],
   "source": [
    "train_data_df = train_data_df.drop(['uid','game_pk'], axis = 1)"
   ]
  },
  {
   "cell_type": "code",
   "execution_count": 350,
   "metadata": {},
   "outputs": [],
   "source": [
    "train_data_df = train_data_df.drop(['type_confidence'], axis=1)"
   ]
  },
  {
   "cell_type": "code",
   "execution_count": 351,
   "metadata": {},
   "outputs": [],
   "source": [
    "#for the embedding models\n",
    "\n",
    "pitcher_id_mapping = {id: i for i, id in enumerate(train_data_df['pitcher_id'].unique())}\n",
    "train_data_df['pitcher_id'] = train_data_df['pitcher_id'].map(pitcher_id_mapping)\n",
    "\n",
    "batter_id_mapping = {id: i for i, id in enumerate(train_data_df['batter_id'].unique())}\n",
    "train_data_df['batter_id'] = train_data_df['batter_id'].map(batter_id_mapping)\n",
    "\n",
    "team_id_p_mapping = {id: i for i, id in enumerate(train_data_df['team_id_p'].unique())}\n",
    "train_data_df['team_id_p'] = train_data_df['team_id_p'].map(team_id_p_mapping)\n",
    "\n",
    "team_id_b_mapping = {id: i for i, id in enumerate(train_data_df['team_id_b'].unique())}\n",
    "train_data_df['team_id_b'] = train_data_df['team_id_b'].map(team_id_b_mapping)\n"
   ]
  },
  {
   "cell_type": "code",
   "execution_count": 352,
   "metadata": {},
   "outputs": [],
   "source": [
    "##one hot encode the labels \n",
    "train_data_df = pd.get_dummies(train_data_df, columns=['pitch_type_original'], prefix = 'pitch_type_')\n"
   ]
  },
  {
   "cell_type": "code",
   "execution_count": 353,
   "metadata": {},
   "outputs": [],
   "source": [
    "#train_data_df.dtypes.to_csv('dtypes_wednesday_morning.csv')"
   ]
  },
  {
   "cell_type": "code",
   "execution_count": 357,
   "metadata": {},
   "outputs": [],
   "source": [
    "#train_data_df.isna().sum().to_csv('missing_values_wednesday_morning.csv')"
   ]
  },
  {
   "cell_type": "code",
   "execution_count": 358,
   "metadata": {},
   "outputs": [],
   "source": [
    "# fill missing values in 'lagged_zone' with its mode\n",
    "mode_lagged_zone = train_data_df['lagged_zone'].mode()[0]\n",
    "train_data_df['lagged_zone'].fillna(mode_lagged_zone, inplace=True)\n",
    "\n",
    "# fill missing values in 'lagged_nasty' with its mean\n",
    "mean_lagged_nasty = train_data_df['lagged_nasty'].mean()\n",
    "train_data_df['lagged_nasty'].fillna(mean_lagged_nasty, inplace=True)\n",
    "\n",
    "# fill missing values in 'lagged_type_confidence' with its mean\n",
    "mean_lagged_type_confidence = train_data_df['lagged_type_confidence'].mean()\n",
    "train_data_df['lagged_type_confidence'].fillna(mean_lagged_type_confidence, inplace=True)\n"
   ]
  },
  {
   "cell_type": "code",
   "execution_count": 360,
   "metadata": {},
   "outputs": [],
   "source": [
    "training_columns = train_data_df.columns.to_list()"
   ]
  },
  {
   "cell_type": "code",
   "execution_count": 364,
   "metadata": {},
   "outputs": [],
   "source": [
    "label_columns = training_columns[-13:]"
   ]
  },
  {
   "cell_type": "code",
   "execution_count": 368,
   "metadata": {},
   "outputs": [],
   "source": [
    "train_data_df['date'] = train_data_df['date'].apply(lambda x: x.toordinal())\n"
   ]
  },
  {
   "cell_type": "code",
   "execution_count": 369,
   "metadata": {},
   "outputs": [],
   "source": [
    "train_data = train_data_df[:train_size]\n",
    "val_data = train_data_df[train_size:train_size+val_size]\n",
    "test_data = train_data_df[train_size+val_size:]"
   ]
  },
  {
   "cell_type": "code",
   "execution_count": 370,
   "metadata": {},
   "outputs": [],
   "source": [
    "from sklearn.preprocessing import StandardScaler, MinMaxScaler\n"
   ]
  },
  {
   "cell_type": "code",
   "execution_count": 371,
   "metadata": {},
   "outputs": [],
   "source": [
    "scaler = StandardScaler()\n",
    "normalizer = MinMaxScaler()\n"
   ]
  },
  {
   "cell_type": "code",
   "execution_count": 372,
   "metadata": {},
   "outputs": [],
   "source": [
    "cols_to_normalize = ['date', 'inning', 'at_bat_num', 'pcount_at_bat', 'pcount_pitcher', 'balls', 'strikes',\n",
    "                 'fouls', 'outs', 'away_team_runs', 'home_team_runs', 'lagged_zone', 'lagged_nasty',\n",
    "                 'height_in_inches']\n",
    "\n",
    "col_to_scale = ['pitcher_team_winning_by']\n"
   ]
  },
  {
   "cell_type": "code",
   "execution_count": 373,
   "metadata": {},
   "outputs": [
    {
     "name": "stderr",
     "output_type": "stream",
     "text": [
      "C:\\Users\\Joe\\AppData\\Local\\Temp\\ipykernel_17484\\527061540.py:1: SettingWithCopyWarning: \n",
      "A value is trying to be set on a copy of a slice from a DataFrame.\n",
      "Try using .loc[row_indexer,col_indexer] = value instead\n",
      "\n",
      "See the caveats in the documentation: https://pandas.pydata.org/pandas-docs/stable/user_guide/indexing.html#returning-a-view-versus-a-copy\n",
      "  train_data[cols_to_normalize] = normalizer.fit_transform(train_data[cols_to_normalize])\n",
      "C:\\Users\\Joe\\AppData\\Local\\Temp\\ipykernel_17484\\527061540.py:2: SettingWithCopyWarning: \n",
      "A value is trying to be set on a copy of a slice from a DataFrame.\n",
      "Try using .loc[row_indexer,col_indexer] = value instead\n",
      "\n",
      "See the caveats in the documentation: https://pandas.pydata.org/pandas-docs/stable/user_guide/indexing.html#returning-a-view-versus-a-copy\n",
      "  train_data[col_to_scale] = scaler.fit_transform(train_data[col_to_scale])\n"
     ]
    }
   ],
   "source": [
    "train_data[cols_to_normalize] = normalizer.fit_transform(train_data[cols_to_normalize])\n",
    "train_data[col_to_scale] = scaler.fit_transform(train_data[col_to_scale])"
   ]
  },
  {
   "cell_type": "code",
   "execution_count": 374,
   "metadata": {},
   "outputs": [
    {
     "name": "stderr",
     "output_type": "stream",
     "text": [
      "C:\\Users\\Joe\\AppData\\Local\\Temp\\ipykernel_17484\\1044644193.py:1: SettingWithCopyWarning: \n",
      "A value is trying to be set on a copy of a slice from a DataFrame.\n",
      "Try using .loc[row_indexer,col_indexer] = value instead\n",
      "\n",
      "See the caveats in the documentation: https://pandas.pydata.org/pandas-docs/stable/user_guide/indexing.html#returning-a-view-versus-a-copy\n",
      "  val_data[cols_to_normalize] = normalizer.transform(val_data[cols_to_normalize])\n",
      "C:\\Users\\Joe\\AppData\\Local\\Temp\\ipykernel_17484\\1044644193.py:2: SettingWithCopyWarning: \n",
      "A value is trying to be set on a copy of a slice from a DataFrame.\n",
      "Try using .loc[row_indexer,col_indexer] = value instead\n",
      "\n",
      "See the caveats in the documentation: https://pandas.pydata.org/pandas-docs/stable/user_guide/indexing.html#returning-a-view-versus-a-copy\n",
      "  val_data[col_to_scale] = scaler.transform(val_data[col_to_scale])\n",
      "C:\\Users\\Joe\\AppData\\Local\\Temp\\ipykernel_17484\\1044644193.py:4: SettingWithCopyWarning: \n",
      "A value is trying to be set on a copy of a slice from a DataFrame.\n",
      "Try using .loc[row_indexer,col_indexer] = value instead\n",
      "\n",
      "See the caveats in the documentation: https://pandas.pydata.org/pandas-docs/stable/user_guide/indexing.html#returning-a-view-versus-a-copy\n",
      "  test_data[cols_to_normalize] = normalizer.transform(test_data[cols_to_normalize])\n",
      "C:\\Users\\Joe\\AppData\\Local\\Temp\\ipykernel_17484\\1044644193.py:5: SettingWithCopyWarning: \n",
      "A value is trying to be set on a copy of a slice from a DataFrame.\n",
      "Try using .loc[row_indexer,col_indexer] = value instead\n",
      "\n",
      "See the caveats in the documentation: https://pandas.pydata.org/pandas-docs/stable/user_guide/indexing.html#returning-a-view-versus-a-copy\n",
      "  test_data[col_to_scale] = scaler.transform(test_data[col_to_scale])\n"
     ]
    }
   ],
   "source": [
    "val_data[cols_to_normalize] = normalizer.transform(val_data[cols_to_normalize])\n",
    "val_data[col_to_scale] = scaler.transform(val_data[col_to_scale])\n",
    "\n",
    "test_data[cols_to_normalize] = normalizer.transform(test_data[cols_to_normalize])\n",
    "test_data[col_to_scale] = scaler.transform(test_data[col_to_scale])"
   ]
  },
  {
   "cell_type": "code",
   "execution_count": 376,
   "metadata": {},
   "outputs": [],
   "source": [
    "#test_data.to_csv('test_data.csv') ## Looks good "
   ]
  },
  {
   "cell_type": "code",
   "execution_count": 386,
   "metadata": {},
   "outputs": [],
   "source": [
    "embed_feats = ['pitcher_id', 'batter_id', 'team_id_p', 'team_id_b']\n",
    "reg_feats = train_data.columns.difference(embed_feats + label_columns)\n",
    "\n",
    "##values for the dataframes\n",
    "X_train_embed = train_data[embed_feats].values\n",
    "X_train_reg = train_data[reg_feats].values\n",
    "y_train = train_data[label_columns].values\n",
    "\n",
    "X_val_embed = val_data[embed_feats].values\n",
    "X_val_reg = val_data[reg_feats].values\n",
    "y_val = val_data[label_columns].values\n",
    "\n",
    "X_test_embed = test_data[embed_feats].values\n",
    "X_test_reg = test_data[reg_feats].values\n",
    "y_test = test_data[label_columns].values\n",
    "\n",
    "\n",
    "\n",
    "##Convert them to tensors\n",
    "X_train_embed = torch.tensor(X_train_embed, dtype=torch.long)\n",
    "X_train_reg = torch.tensor(X_train_reg, dtype=torch.float32)\n",
    "y_train = torch.tensor(y_train, dtype=torch.long)\n",
    "\n",
    "X_val_embed = torch.tensor(X_val_embed, dtype=torch.long)\n",
    "X_val_reg = torch.tensor(X_val_reg, dtype=torch.float32)\n",
    "y_val = torch.tensor(y_val, dtype=torch.long)\n",
    "\n",
    "X_test_embed = torch.tensor(X_test_embed, dtype=torch.long)\n",
    "X_test_reg = torch.tensor(X_test_reg, dtype=torch.float32)\n",
    "y_test = torch.tensor(y_test, dtype=torch.long)\n"
   ]
  },
  {
   "cell_type": "code",
   "execution_count": 387,
   "metadata": {},
   "outputs": [],
   "source": [
    "from torch.utils.data import TensorDataset\n",
    "#create TensorDatasets\n",
    "train_dataset = TensorDataset(X_train_embed, X_train_reg, y_train)\n",
    "val_dataset = TensorDataset(X_val_embed, X_val_reg, y_val)\n",
    "test_dataset = TensorDataset(X_test_embed, X_test_reg, y_test)\n"
   ]
  },
  {
   "cell_type": "code",
   "execution_count": 472,
   "metadata": {},
   "outputs": [],
   "source": [
    "from torch.utils.data import DataLoader\n",
    "\n",
    "batch_size = 256\n",
    "\n",
    "##create DataLoaders\n",
    "train_loader = DataLoader(train_dataset, batch_size=batch_size, shuffle=True)\n",
    "val_loader = DataLoader(val_dataset, batch_size=batch_size, shuffle=False)\n",
    "test_loader = DataLoader(test_dataset, batch_size=batch_size, shuffle=False)\n",
    "\n"
   ]
  },
  {
   "cell_type": "code",
   "execution_count": 473,
   "metadata": {},
   "outputs": [],
   "source": [
    "### next create three models, one with no embeddings,  one with embeddings, and then one with embeddings and self-attention"
   ]
  },
  {
   "cell_type": "code",
   "execution_count": 526,
   "metadata": {},
   "outputs": [],
   "source": [
    "class SimpleModel(torch.nn.Module):\n",
    "    def __init__(self, n_reg_feats, hidden_dims,n_labels):\n",
    "        super().__init__()\n",
    "        self.hidden_dims = hidden_dims\n",
    "        self.smaller_hiddem_dims = int(hidden_dims/2)\n",
    "        self.fc1 = torch.nn.Linear(n_reg_feats, hidden_dims)\n",
    "        self.fc2 = torch.nn.Linear(hidden_dims, self.smaller_hiddem_dims)\n",
    "        self.fc3 = torch.nn.Linear(self.smaller_hiddem_dims, n_labels)\n",
    "        self.dropout = torch.nn.Dropout(0.25)\n",
    "        self.bn1 = torch.nn.BatchNorm1d(hidden_dims)\n",
    "        self.bn2 = torch.nn.BatchNorm1d(self.smaller_hiddem_dims)\n",
    "        self.relu = torch.nn.ReLU()\n",
    "        self.softmax = torch.nn.Softmax(dim=1)\n",
    "\n",
    "    def forward(self, x):\n",
    "        x = self.fc1(x)\n",
    "        x = self.bn1(x)\n",
    "        x = self.relu(x)\n",
    "        x = self.dropout(x)\n",
    "        x = self.fc2(x)\n",
    "        x = self.bn2(x)\n",
    "        x = self.relu(x)\n",
    "        x = self.dropout(x)\n",
    "        x = self.fc3(x)\n",
    "        #x = self.softmax(x)\n",
    "        return x\n",
    "    \n",
    "\n",
    "class EmbeddingModel(torch.nn.Module):\n",
    "    def __init__(self, unique_embed_vals, embed_dim, n_reg_feats, hidden_dims, n_labels):\n",
    "        super().__init__()\n",
    "        self.embeddings = torch.nn.ModuleList([torch.nn.Embedding(n_c, embed_dim) for n_c in unique_embed_vals])\n",
    "        self.concat_embed_dim = embed_dim * len(unique_embed_vals) + n_reg_feats\n",
    "        self.fc1 = torch.nn.Linear(self.concat_embed_dim, hidden_dims)\n",
    "        self.fc2 = torch.nn.Linear(hidden_dims, int(hidden_dims/2))\n",
    "        self.fc3 = torch.nn.Linear(int(hidden_dims/2), n_labels)\n",
    "        self.dropout = torch.nn.Dropout(0.25)\n",
    "        self.bn1 = torch.nn.BatchNorm1d(hidden_dims)\n",
    "        self.bn2 = torch.nn.BatchNorm1d(int(hidden_dims/2))\n",
    "        self.relu = torch.nn.ReLU()\n",
    "        self.softmax = torch.nn.Softmax(dim=1)\n",
    "\n",
    "    def forward(self, x_embed, x_reg):\n",
    "        x = [embedding(x_embed[:, i]) for i, embedding in enumerate(self.embeddings)]\n",
    "        x = torch.cat(x, 1)\n",
    "        x = torch.cat([x, x_reg], 1)\n",
    "        x = self.fc1(x)\n",
    "        x = self.bn1(x)\n",
    "        x = self.relu(x)\n",
    "        x = self.dropout(x)\n",
    "        x = self.fc2(x)\n",
    "        x = self.bn2(x)\n",
    "        x = self.relu(x)\n",
    "        x = self.dropout(x)\n",
    "        x = self.fc3(x)\n",
    "        #x = self.softmax(x)\n",
    "        return x"
   ]
  },
  {
   "cell_type": "code",
   "execution_count": 475,
   "metadata": {},
   "outputs": [],
   "source": [
    "weight_totals = y_train.sum(axis=0)"
   ]
  },
  {
   "cell_type": "code",
   "execution_count": 476,
   "metadata": {},
   "outputs": [],
   "source": [
    "loss_weights = weight_totals/weight_totals.sum()\n"
   ]
  },
  {
   "cell_type": "code",
   "execution_count": 546,
   "metadata": {},
   "outputs": [],
   "source": [
    "device = torch.device('cuda' if torch.cuda.is_available() else 'cpu')\n",
    "#device = 'cpu'\n",
    "simple_model = SimpleModel(n_reg_feats=len(reg_feats), hidden_dims=64, n_labels=len(label_columns))\n",
    "simple_model = simple_model.to(device)"
   ]
  },
  {
   "cell_type": "code",
   "execution_count": 549,
   "metadata": {},
   "outputs": [],
   "source": [
    "optimizer = torch.optim.Adam(simple_model.parameters(), lr=0.005)\n",
    "scheduler = torch.optim.lr_scheduler.ExponentialLR(optimizer, gamma=0.95)\n",
    "loss_weights = loss_weights.to(device)\n",
    "loss = torch.nn.BCEWithLogitsLoss(pos_weight=loss_weights)\n"
   ]
  },
  {
   "cell_type": "code",
   "execution_count": null,
   "metadata": {},
   "outputs": [],
   "source": [
    "epochs = 30"
   ]
  },
  {
   "cell_type": "code",
   "execution_count": 550,
   "metadata": {},
   "outputs": [],
   "source": [
    "from sklearn.metrics import accuracy_score, precision_score, recall_score, f1_score, confusion_matrix, cohen_kappa_score"
   ]
  },
  {
   "cell_type": "code",
   "execution_count": 551,
   "metadata": {},
   "outputs": [
    {
     "name": "stderr",
     "output_type": "stream",
     "text": [
      "Epoch 1/20: 100%|██████████| 2014/2014 [00:29<00:00, 68.80it/s]\n"
     ]
    },
    {
     "name": "stdout",
     "output_type": "stream",
     "text": [
      "Epoch 1, train_loss: 0.05377163935005073 train_acc: 0.42555322659859246\n"
     ]
    },
    {
     "name": "stderr",
     "output_type": "stream",
     "text": [
      "Epoch 2/20: 100%|██████████| 2014/2014 [00:26<00:00, 76.06it/s]\n"
     ]
    },
    {
     "name": "stdout",
     "output_type": "stream",
     "text": [
      "Epoch 2, train_loss: 0.046622349496823555 train_acc: 0.44339631074327535\n"
     ]
    },
    {
     "name": "stderr",
     "output_type": "stream",
     "text": [
      "Epoch 3/20: 100%|██████████| 2014/2014 [00:26<00:00, 75.35it/s]\n"
     ]
    },
    {
     "name": "stdout",
     "output_type": "stream",
     "text": [
      "Epoch 3, train_loss: 0.04617237857549406 train_acc: 0.44335895335909503\n"
     ]
    },
    {
     "name": "stderr",
     "output_type": "stream",
     "text": [
      "Epoch 4/20: 100%|██████████| 2014/2014 [00:25<00:00, 78.37it/s] \n"
     ]
    },
    {
     "name": "stdout",
     "output_type": "stream",
     "text": [
      "Epoch 4, train_loss: 0.04584244575421765 train_acc: 0.44524157999978414\n"
     ]
    },
    {
     "name": "stderr",
     "output_type": "stream",
     "text": [
      "Epoch 5/20: 100%|██████████| 2014/2014 [00:23<00:00, 85.22it/s] \n"
     ]
    },
    {
     "name": "stdout",
     "output_type": "stream",
     "text": [
      "Epoch 5, train_loss: 0.04566629872636087 train_acc: 0.44571845586330466\n"
     ]
    },
    {
     "name": "stderr",
     "output_type": "stream",
     "text": [
      "100%|██████████| 378/378 [00:02<00:00, 168.72it/s]\n"
     ]
    },
    {
     "name": "stdout",
     "output_type": "stream",
     "text": [
      "Epoch 5, val_loss: 0.00025095962337218225, val_acc: 0.45479411831782524\n"
     ]
    },
    {
     "name": "stderr",
     "output_type": "stream",
     "text": [
      "Epoch 6/20: 100%|██████████| 2014/2014 [00:20<00:00, 96.70it/s] \n"
     ]
    },
    {
     "name": "stdout",
     "output_type": "stream",
     "text": [
      "Epoch 6, train_loss: 0.045534135472277304 train_acc: 0.4457851594544709\n"
     ]
    },
    {
     "name": "stderr",
     "output_type": "stream",
     "text": [
      "Epoch 7/20: 100%|██████████| 2014/2014 [00:23<00:00, 86.75it/s] \n"
     ]
    },
    {
     "name": "stdout",
     "output_type": "stream",
     "text": [
      "Epoch 7, train_loss: 0.04543840387038879 train_acc: 0.44594513001381636\n"
     ]
    },
    {
     "name": "stderr",
     "output_type": "stream",
     "text": [
      "Epoch 8/20: 100%|██████████| 2014/2014 [00:22<00:00, 90.90it/s]\n"
     ]
    },
    {
     "name": "stdout",
     "output_type": "stream",
     "text": [
      "Epoch 8, train_loss: 0.04538692399311918 train_acc: 0.44618445339147705\n"
     ]
    },
    {
     "name": "stderr",
     "output_type": "stream",
     "text": [
      "Epoch 9/20: 100%|██████████| 2014/2014 [00:21<00:00, 91.56it/s] \n"
     ]
    },
    {
     "name": "stdout",
     "output_type": "stream",
     "text": [
      "Epoch 9, train_loss: 0.045330809109290285 train_acc: 0.44557779645740686\n"
     ]
    },
    {
     "name": "stderr",
     "output_type": "stream",
     "text": [
      "Epoch 10/20: 100%|██████████| 2014/2014 [00:20<00:00, 98.23it/s] \n"
     ]
    },
    {
     "name": "stdout",
     "output_type": "stream",
     "text": [
      "Epoch 10, train_loss: 0.045287723733480306 train_acc: 0.44670787841090626\n"
     ]
    },
    {
     "name": "stderr",
     "output_type": "stream",
     "text": [
      "100%|██████████| 378/378 [00:01<00:00, 205.01it/s]\n"
     ]
    },
    {
     "name": "stdout",
     "output_type": "stream",
     "text": [
      "Epoch 10, val_loss: 0.0002494685468263924, val_acc: 0.45205560971994163\n"
     ]
    },
    {
     "name": "stderr",
     "output_type": "stream",
     "text": [
      "Epoch 11/20: 100%|██████████| 2014/2014 [00:20<00:00, 96.94it/s] \n"
     ]
    },
    {
     "name": "stdout",
     "output_type": "stream",
     "text": [
      "Epoch 11, train_loss: 0.045266902325776626 train_acc: 0.4463764686596002\n"
     ]
    },
    {
     "name": "stderr",
     "output_type": "stream",
     "text": [
      "Epoch 12/20: 100%|██████████| 2014/2014 [00:20<00:00, 96.16it/s] \n"
     ]
    },
    {
     "name": "stdout",
     "output_type": "stream",
     "text": [
      "Epoch 12, train_loss: 0.04526092028643015 train_acc: 0.4467059388627434\n"
     ]
    },
    {
     "name": "stderr",
     "output_type": "stream",
     "text": [
      "Epoch 13/20: 100%|██████████| 2014/2014 [00:20<00:00, 99.15it/s] \n"
     ]
    },
    {
     "name": "stdout",
     "output_type": "stream",
     "text": [
      "Epoch 13, train_loss: 0.045223211396074936 train_acc: 0.44684701990954623\n"
     ]
    },
    {
     "name": "stderr",
     "output_type": "stream",
     "text": [
      "Epoch 14/20: 100%|██████████| 2014/2014 [00:21<00:00, 94.50it/s] \n"
     ]
    },
    {
     "name": "stdout",
     "output_type": "stream",
     "text": [
      "Epoch 14, train_loss: 0.045198154399891007 train_acc: 0.44721873853136734\n"
     ]
    },
    {
     "name": "stderr",
     "output_type": "stream",
     "text": [
      "Epoch 15/20: 100%|██████████| 2014/2014 [00:20<00:00, 98.73it/s] \n"
     ]
    },
    {
     "name": "stdout",
     "output_type": "stream",
     "text": [
      "Epoch 15, train_loss: 0.045186290232596 train_acc: 0.44800568911640254\n"
     ]
    },
    {
     "name": "stderr",
     "output_type": "stream",
     "text": [
      "100%|██████████| 378/378 [00:01<00:00, 194.95it/s]\n"
     ]
    },
    {
     "name": "stdout",
     "output_type": "stream",
     "text": [
      "Epoch 15, val_loss: 0.0002488418249413371, val_acc: 0.45845235244480936\n"
     ]
    },
    {
     "name": "stderr",
     "output_type": "stream",
     "text": [
      "Epoch 16/20: 100%|██████████| 2014/2014 [00:20<00:00, 96.55it/s] \n"
     ]
    },
    {
     "name": "stdout",
     "output_type": "stream",
     "text": [
      "Epoch 16, train_loss: 0.04516734658391793 train_acc: 0.44806218899766853\n"
     ]
    },
    {
     "name": "stderr",
     "output_type": "stream",
     "text": [
      "Epoch 17/20: 100%|██████████| 2014/2014 [00:20<00:00, 97.86it/s] \n"
     ]
    },
    {
     "name": "stdout",
     "output_type": "stream",
     "text": [
      "Epoch 17, train_loss: 0.0451561517869201 train_acc: 0.44832571456327447\n"
     ]
    },
    {
     "name": "stderr",
     "output_type": "stream",
     "text": [
      "Epoch 18/20: 100%|██████████| 2014/2014 [00:22<00:00, 90.53it/s] \n"
     ]
    },
    {
     "name": "stdout",
     "output_type": "stream",
     "text": [
      "Epoch 18, train_loss: 0.045144805266654126 train_acc: 0.44788805130391607\n"
     ]
    },
    {
     "name": "stderr",
     "output_type": "stream",
     "text": [
      "Epoch 19/20: 100%|██████████| 2014/2014 [00:21<00:00, 92.63it/s] \n"
     ]
    },
    {
     "name": "stdout",
     "output_type": "stream",
     "text": [
      "Epoch 19, train_loss: 0.0451290355949055 train_acc: 0.4485434499266007\n"
     ]
    },
    {
     "name": "stderr",
     "output_type": "stream",
     "text": [
      "Epoch 20/20: 100%|██████████| 2014/2014 [00:20<00:00, 99.32it/s] \n"
     ]
    },
    {
     "name": "stdout",
     "output_type": "stream",
     "text": [
      "Epoch 20, train_loss: 0.04511889840116449 train_acc: 0.44807256136393075\n"
     ]
    },
    {
     "name": "stderr",
     "output_type": "stream",
     "text": [
      "100%|██████████| 378/378 [00:01<00:00, 197.33it/s]"
     ]
    },
    {
     "name": "stdout",
     "output_type": "stream",
     "text": [
      "Epoch 20, val_loss: 0.00024871257483027875, val_acc: 0.4560031956987776\n"
     ]
    },
    {
     "name": "stderr",
     "output_type": "stream",
     "text": [
      "\n"
     ]
    }
   ],
   "source": [
    "for epoch in range(epochs):\n",
    "    simple_model.train()\n",
    "    loss_train = 0\n",
    "    loss_acc = 0\n",
    "    for x_embed, x_reg, y in tqdm(train_loader, desc=f'Epoch {epoch+1}/{epochs}'):\n",
    "        x_reg = x_reg.to(device)\n",
    "        y = y.to(device)\n",
    "        y_train_labels = y.argmax(dim=1).to(device)\n",
    "        optimizer.zero_grad()\n",
    "        y_pred = simple_model(x_reg).to(device)\n",
    "        _, predicted_labels = torch.max(y_pred, 1)\n",
    "        loss_value = loss(y_pred, y.float().to(device))\n",
    "        loss_value.backward()\n",
    "        optimizer.step()\n",
    "        loss_train += loss_value.item()\n",
    "        loss_acc += accuracy_score(y_train_labels.cpu(), predicted_labels.cpu())\n",
    "    scheduler.step()\n",
    "    loss_train /= len(train_loader)\n",
    "    loss_acc /= len(train_loader)\n",
    "    print(f'Epoch {epoch+1}, train_loss: {loss_train}', f'train_acc: {loss_acc}')\n",
    "\n",
    "    if (epoch+1) % 5 == 0:    \n",
    "        simple_model.eval()\n",
    "        val_loss = 0\n",
    "        val_acc = 0\n",
    "        with torch.no_grad():\n",
    "            for x_embed, x_reg, y in tqdm(val_loader):\n",
    "                x_reg = x_reg.to(device)\n",
    "                y = y.to(device)\n",
    "                y_val_labels = y.argmax(dim=1).to(device)\n",
    "        \n",
    "                y_pred = simple_model(x_reg)\n",
    "                y_pred = y_pred.to(device)\n",
    "                _, predicted_labels = torch.max(y_pred, 1)\n",
    "\n",
    "                val_loss = loss(y_pred, y.float().to(device))\n",
    "                val_loss += val_loss.item()\n",
    "                val_acc += accuracy_score(y_val_labels.cpu(), predicted_labels.cpu())\n",
    "        \n",
    "        val_loss /= len(val_loader)\n",
    "        val_acc /= len(val_loader)\n",
    "\n",
    "        print(f'Epoch {epoch+1}, val_loss: {val_loss}, val_acc: {val_acc}')"
   ]
  },
  {
   "cell_type": "code",
   "execution_count": 507,
   "metadata": {},
   "outputs": [],
   "source": [
    "unique_embed_vals = [len(train_data_df[col].unique()) for col in embed_feats]"
   ]
  },
  {
   "cell_type": "code",
   "execution_count": 552,
   "metadata": {},
   "outputs": [],
   "source": [
    "embed_model = EmbeddingModel(unique_embed_vals=unique_embed_vals, embed_dim=16, n_reg_feats=len(reg_feats), hidden_dims=64, n_labels=len(label_columns))\n",
    "embed_model = embed_model.to(device)"
   ]
  },
  {
   "cell_type": "code",
   "execution_count": 553,
   "metadata": {},
   "outputs": [],
   "source": [
    "optimizer = torch.optim.Adam(embed_model.parameters(), lr=0.005)\n",
    "scheduler = torch.optim.lr_scheduler.ExponentialLR(optimizer, gamma=0.95)\n",
    "loss = torch.nn.BCEWithLogitsLoss(pos_weight=loss_weights)"
   ]
  },
  {
   "cell_type": "code",
   "execution_count": 554,
   "metadata": {},
   "outputs": [],
   "source": [
    "epochs = 30"
   ]
  },
  {
   "cell_type": "code",
   "execution_count": 555,
   "metadata": {},
   "outputs": [
    {
     "name": "stderr",
     "output_type": "stream",
     "text": [
      "Epoch 1/30: 100%|██████████| 2014/2014 [00:22<00:00, 90.31it/s]\n"
     ]
    },
    {
     "name": "stdout",
     "output_type": "stream",
     "text": [
      "Epoch 1, train_loss: 0.05476392292470302 train_acc: 0.42038964341997326\n"
     ]
    },
    {
     "name": "stderr",
     "output_type": "stream",
     "text": [
      "Epoch 2/30: 100%|██████████| 2014/2014 [00:22<00:00, 90.00it/s]\n"
     ]
    },
    {
     "name": "stdout",
     "output_type": "stream",
     "text": [
      "Epoch 2, train_loss: 0.04633491874747385 train_acc: 0.450866522656621\n"
     ]
    },
    {
     "name": "stderr",
     "output_type": "stream",
     "text": [
      "Epoch 3/30: 100%|██████████| 2014/2014 [00:22<00:00, 90.34it/s]\n"
     ]
    },
    {
     "name": "stdout",
     "output_type": "stream",
     "text": [
      "Epoch 3, train_loss: 0.04558907838421758 train_acc: 0.4536213556733302\n"
     ]
    },
    {
     "name": "stderr",
     "output_type": "stream",
     "text": [
      "Epoch 4/30: 100%|██████████| 2014/2014 [00:23<00:00, 84.10it/s]\n"
     ]
    },
    {
     "name": "stdout",
     "output_type": "stream",
     "text": [
      "Epoch 4, train_loss: 0.045088829224801584 train_acc: 0.4563648887137861\n"
     ]
    },
    {
     "name": "stderr",
     "output_type": "stream",
     "text": [
      "Epoch 5/30: 100%|██████████| 2014/2014 [00:23<00:00, 87.01it/s]\n"
     ]
    },
    {
     "name": "stdout",
     "output_type": "stream",
     "text": [
      "Epoch 5, train_loss: 0.04478862224463022 train_acc: 0.4576951657689651\n"
     ]
    },
    {
     "name": "stderr",
     "output_type": "stream",
     "text": [
      "100%|██████████| 378/378 [00:01<00:00, 204.96it/s]\n"
     ]
    },
    {
     "name": "stdout",
     "output_type": "stream",
     "text": [
      "Epoch 5, val_loss: 0.00024724347167648375, val_acc: 0.45462877440248134\n"
     ]
    },
    {
     "name": "stderr",
     "output_type": "stream",
     "text": [
      "Epoch 6/30: 100%|██████████| 2014/2014 [00:23<00:00, 86.68it/s]\n"
     ]
    },
    {
     "name": "stdout",
     "output_type": "stream",
     "text": [
      "Epoch 6, train_loss: 0.04457617879594568 train_acc: 0.4589503064148785\n"
     ]
    },
    {
     "name": "stderr",
     "output_type": "stream",
     "text": [
      "Epoch 7/30: 100%|██████████| 2014/2014 [00:22<00:00, 90.86it/s]\n"
     ]
    },
    {
     "name": "stdout",
     "output_type": "stream",
     "text": [
      "Epoch 7, train_loss: 0.04443641385764564 train_acc: 0.45990481709554853\n"
     ]
    },
    {
     "name": "stderr",
     "output_type": "stream",
     "text": [
      "Epoch 8/30: 100%|██████████| 2014/2014 [00:22<00:00, 90.80it/s]\n"
     ]
    },
    {
     "name": "stdout",
     "output_type": "stream",
     "text": [
      "Epoch 8, train_loss: 0.044277931031768226 train_acc: 0.46196048516363714\n"
     ]
    },
    {
     "name": "stderr",
     "output_type": "stream",
     "text": [
      "Epoch 9/30: 100%|██████████| 2014/2014 [00:22<00:00, 89.88it/s]\n"
     ]
    },
    {
     "name": "stdout",
     "output_type": "stream",
     "text": [
      "Epoch 9, train_loss: 0.044177972575669966 train_acc: 0.4626529038577782\n"
     ]
    },
    {
     "name": "stderr",
     "output_type": "stream",
     "text": [
      "Epoch 10/30: 100%|██████████| 2014/2014 [00:22<00:00, 90.12it/s]\n"
     ]
    },
    {
     "name": "stdout",
     "output_type": "stream",
     "text": [
      "Epoch 10, train_loss: 0.04408459545528403 train_acc: 0.46397837420664045\n"
     ]
    },
    {
     "name": "stderr",
     "output_type": "stream",
     "text": [
      "100%|██████████| 378/378 [00:01<00:00, 208.14it/s]\n"
     ]
    },
    {
     "name": "stdout",
     "output_type": "stream",
     "text": [
      "Epoch 10, val_loss: 0.0002485878940206021, val_acc: 0.45909306011676704\n"
     ]
    },
    {
     "name": "stderr",
     "output_type": "stream",
     "text": [
      "Epoch 11/30: 100%|██████████| 2014/2014 [00:23<00:00, 86.40it/s]\n"
     ]
    },
    {
     "name": "stdout",
     "output_type": "stream",
     "text": [
      "Epoch 11, train_loss: 0.044018706147741185 train_acc: 0.464413760605112\n"
     ]
    },
    {
     "name": "stderr",
     "output_type": "stream",
     "text": [
      "Epoch 12/30: 100%|██████████| 2014/2014 [00:21<00:00, 95.74it/s] \n"
     ]
    },
    {
     "name": "stdout",
     "output_type": "stream",
     "text": [
      "Epoch 12, train_loss: 0.04394066906621996 train_acc: 0.4654126279089849\n"
     ]
    },
    {
     "name": "stderr",
     "output_type": "stream",
     "text": [
      "Epoch 13/30: 100%|██████████| 2014/2014 [00:21<00:00, 92.69it/s] \n"
     ]
    },
    {
     "name": "stdout",
     "output_type": "stream",
     "text": [
      "Epoch 13, train_loss: 0.043908915557374195 train_acc: 0.465937992476577\n"
     ]
    },
    {
     "name": "stderr",
     "output_type": "stream",
     "text": [
      "Epoch 14/30: 100%|██████████| 2014/2014 [00:26<00:00, 76.11it/s]\n"
     ]
    },
    {
     "name": "stdout",
     "output_type": "stream",
     "text": [
      "Epoch 14, train_loss: 0.04383932820927303 train_acc: 0.4661956993976944\n"
     ]
    },
    {
     "name": "stderr",
     "output_type": "stream",
     "text": [
      "Epoch 15/30: 100%|██████████| 2014/2014 [00:26<00:00, 76.99it/s]\n"
     ]
    },
    {
     "name": "stdout",
     "output_type": "stream",
     "text": [
      "Epoch 15, train_loss: 0.043804986191526896 train_acc: 0.46663648279974956\n"
     ]
    },
    {
     "name": "stderr",
     "output_type": "stream",
     "text": [
      "100%|██████████| 378/378 [00:02<00:00, 163.59it/s]\n"
     ]
    },
    {
     "name": "stdout",
     "output_type": "stream",
     "text": [
      "Epoch 15, val_loss: 0.0002474130888003856, val_acc: 0.4595994258575078\n"
     ]
    },
    {
     "name": "stderr",
     "output_type": "stream",
     "text": [
      "Epoch 16/30: 100%|██████████| 2014/2014 [00:28<00:00, 71.17it/s]\n"
     ]
    },
    {
     "name": "stdout",
     "output_type": "stream",
     "text": [
      "Epoch 16, train_loss: 0.04376756042323437 train_acc: 0.4677536625415569\n"
     ]
    },
    {
     "name": "stderr",
     "output_type": "stream",
     "text": [
      "Epoch 17/30: 100%|██████████| 2014/2014 [00:39<00:00, 50.72it/s]\n"
     ]
    },
    {
     "name": "stdout",
     "output_type": "stream",
     "text": [
      "Epoch 17, train_loss: 0.04374570106345765 train_acc: 0.4674164341457623\n"
     ]
    },
    {
     "name": "stderr",
     "output_type": "stream",
     "text": [
      "Epoch 18/30: 100%|██████████| 2014/2014 [00:43<00:00, 46.78it/s]\n"
     ]
    },
    {
     "name": "stdout",
     "output_type": "stream",
     "text": [
      "Epoch 18, train_loss: 0.04367257490598753 train_acc: 0.46885431395988947\n"
     ]
    },
    {
     "name": "stderr",
     "output_type": "stream",
     "text": [
      "Epoch 19/30: 100%|██████████| 2014/2014 [00:33<00:00, 60.56it/s]\n"
     ]
    },
    {
     "name": "stdout",
     "output_type": "stream",
     "text": [
      "Epoch 19, train_loss: 0.043652937620833825 train_acc: 0.46916202749233626\n"
     ]
    },
    {
     "name": "stderr",
     "output_type": "stream",
     "text": [
      "Epoch 20/30: 100%|██████████| 2014/2014 [00:43<00:00, 46.00it/s]\n"
     ]
    },
    {
     "name": "stdout",
     "output_type": "stream",
     "text": [
      "Epoch 20, train_loss: 0.0436024994597712 train_acc: 0.47027094307240624\n"
     ]
    },
    {
     "name": "stderr",
     "output_type": "stream",
     "text": [
      "100%|██████████| 378/378 [00:04<00:00, 76.87it/s]\n"
     ]
    },
    {
     "name": "stdout",
     "output_type": "stream",
     "text": [
      "Epoch 20, val_loss: 0.00025046386872418225, val_acc: 0.46786662162470355\n"
     ]
    },
    {
     "name": "stderr",
     "output_type": "stream",
     "text": [
      "Epoch 21/30: 100%|██████████| 2014/2014 [00:34<00:00, 58.50it/s]\n"
     ]
    },
    {
     "name": "stdout",
     "output_type": "stream",
     "text": [
      "Epoch 21, train_loss: 0.04357461124111074 train_acc: 0.47044187629528084\n"
     ]
    },
    {
     "name": "stderr",
     "output_type": "stream",
     "text": [
      "Epoch 22/30: 100%|██████████| 2014/2014 [00:26<00:00, 77.30it/s]\n"
     ]
    },
    {
     "name": "stdout",
     "output_type": "stream",
     "text": [
      "Epoch 22, train_loss: 0.0435568929872778 train_acc: 0.4701102135594318\n"
     ]
    },
    {
     "name": "stderr",
     "output_type": "stream",
     "text": [
      "Epoch 23/30: 100%|██████████| 2014/2014 [00:24<00:00, 82.03it/s]\n"
     ]
    },
    {
     "name": "stdout",
     "output_type": "stream",
     "text": [
      "Epoch 23, train_loss: 0.04355445733920938 train_acc: 0.4705386007188809\n"
     ]
    },
    {
     "name": "stderr",
     "output_type": "stream",
     "text": [
      "Epoch 24/30: 100%|██████████| 2014/2014 [00:23<00:00, 84.08it/s]\n"
     ]
    },
    {
     "name": "stdout",
     "output_type": "stream",
     "text": [
      "Epoch 24, train_loss: 0.043522499801356127 train_acc: 0.47138938773692846\n"
     ]
    },
    {
     "name": "stderr",
     "output_type": "stream",
     "text": [
      "Epoch 25/30: 100%|██████████| 2014/2014 [00:25<00:00, 78.60it/s]\n"
     ]
    },
    {
     "name": "stdout",
     "output_type": "stream",
     "text": [
      "Epoch 25, train_loss: 0.043472749324443324 train_acc: 0.47258532999978414\n"
     ]
    },
    {
     "name": "stderr",
     "output_type": "stream",
     "text": [
      "100%|██████████| 378/378 [00:01<00:00, 199.42it/s]\n"
     ]
    },
    {
     "name": "stdout",
     "output_type": "stream",
     "text": [
      "Epoch 25, val_loss: 0.0002469921892043203, val_acc: 0.4631543200374019\n"
     ]
    },
    {
     "name": "stderr",
     "output_type": "stream",
     "text": [
      "Epoch 26/30: 100%|██████████| 2014/2014 [00:22<00:00, 91.06it/s] \n"
     ]
    },
    {
     "name": "stdout",
     "output_type": "stream",
     "text": [
      "Epoch 26, train_loss: 0.04344351943341836 train_acc: 0.47153510683368594\n"
     ]
    },
    {
     "name": "stderr",
     "output_type": "stream",
     "text": [
      "Epoch 27/30: 100%|██████████| 2014/2014 [00:19<00:00, 101.68it/s]\n"
     ]
    },
    {
     "name": "stdout",
     "output_type": "stream",
     "text": [
      "Epoch 27, train_loss: 0.04342427075486316 train_acc: 0.4730663379441734\n"
     ]
    },
    {
     "name": "stderr",
     "output_type": "stream",
     "text": [
      "Epoch 28/30: 100%|██████████| 2014/2014 [00:24<00:00, 81.50it/s]\n"
     ]
    },
    {
     "name": "stdout",
     "output_type": "stream",
     "text": [
      "Epoch 28, train_loss: 0.043415629511186715 train_acc: 0.4723315021749924\n"
     ]
    },
    {
     "name": "stderr",
     "output_type": "stream",
     "text": [
      "Epoch 29/30: 100%|██████████| 2014/2014 [00:25<00:00, 79.52it/s]\n"
     ]
    },
    {
     "name": "stdout",
     "output_type": "stream",
     "text": [
      "Epoch 29, train_loss: 0.04338328571215109 train_acc: 0.47285079511355294\n"
     ]
    },
    {
     "name": "stderr",
     "output_type": "stream",
     "text": [
      "Epoch 30/30: 100%|██████████| 2014/2014 [00:26<00:00, 76.84it/s] \n"
     ]
    },
    {
     "name": "stdout",
     "output_type": "stream",
     "text": [
      "Epoch 30, train_loss: 0.043374886863902874 train_acc: 0.4731838914284789\n"
     ]
    },
    {
     "name": "stderr",
     "output_type": "stream",
     "text": [
      "100%|██████████| 378/378 [00:02<00:00, 158.02it/s]"
     ]
    },
    {
     "name": "stdout",
     "output_type": "stream",
     "text": [
      "Epoch 30, val_loss: 0.0002496272209100425, val_acc: 0.4673602558839628\n"
     ]
    },
    {
     "name": "stderr",
     "output_type": "stream",
     "text": [
      "\n"
     ]
    }
   ],
   "source": [
    "for epoch in range(epochs):\n",
    "    embed_model.train()\n",
    "    loss_train = 0\n",
    "    loss_acc = 0\n",
    "    for x_embed, x_reg, y in tqdm(train_loader, desc=f'Epoch {epoch+1}/{epochs}'):\n",
    "        x_embed = x_embed.to(device)\n",
    "        x_reg = x_reg.to(device)\n",
    "        y = y.to(device)\n",
    "        y_train_labels = y.argmax(dim=1).to(device)\n",
    "        optimizer.zero_grad()\n",
    "        y_pred = embed_model(x_embed, x_reg).to(device)\n",
    "        _, predicted_labels = torch.max(y_pred, 1)\n",
    "        loss_value = loss(y_pred, y.float().to(device))\n",
    "        loss_value.backward()\n",
    "        optimizer.step()\n",
    "        loss_train += loss_value.item()\n",
    "        loss_acc += accuracy_score(y_train_labels.cpu(), predicted_labels.cpu())\n",
    "    scheduler.step()\n",
    "    loss_train /= len(train_loader)\n",
    "    loss_acc /= len(train_loader)\n",
    "    print(f'Epoch {epoch+1}, train_loss: {loss_train}', f'train_acc: {loss_acc}')\n",
    "\n",
    "    if (epoch+1) % 5 == 0:    \n",
    "        embed_model.eval()\n",
    "        val_loss = 0\n",
    "        val_acc = 0\n",
    "        with torch.no_grad():\n",
    "            for x_embed, x_reg, y in tqdm(val_loader):\n",
    "                x_embed = x_embed.to(device)\n",
    "                x_reg = x_reg.to(device)\n",
    "                y = y.to(device)\n",
    "                y_val_labels = y.argmax(dim=1).to(device)\n",
    "        \n",
    "                y_pred = embed_model(x_embed, x_reg)\n",
    "                y_pred = y_pred.to(device)\n",
    "                _, predicted_labels = torch.max(y_pred, 1)\n",
    "\n",
    "                val_loss = loss(y_pred, y.float().to(device))\n",
    "                val_loss += val_loss.item()\n",
    "                val_acc += accuracy_score(y_val_labels.cpu(), predicted_labels.cpu())\n",
    "        \n",
    "        val_loss /= len(val_loader)\n",
    "        val_acc /= len(val_loader)\n",
    "\n",
    "        print(f'Epoch {epoch+1}, val_loss: {val_loss}, val_acc: {val_acc}')"
   ]
  },
  {
   "cell_type": "code",
   "execution_count": 556,
   "metadata": {},
   "outputs": [],
   "source": [
    "class AttentionModel(torch.nn.Module):\n",
    "    def __init__(self, unique_embed_vals, embed_dim, n_reg_feats, hidden_dims, n_labels):\n",
    "        super().__init__()\n",
    "        self.embeddings = torch.nn.ModuleList([torch.nn.Embedding(n_c, embed_dim) for n_c in unique_embed_vals])\n",
    "        self.concat_embed_dim = embed_dim * len(unique_embed_vals) + n_reg_feats\n",
    "        self.fc1 = torch.nn.Linear(self.concat_embed_dim, hidden_dims)\n",
    "        self.fc2 = torch.nn.Linear(hidden_dims, int(hidden_dims/2))\n",
    "        self.fc3 = torch.nn.Linear(int(hidden_dims/2), n_labels)\n",
    "        self.dropout = torch.nn.Dropout(0.25)\n",
    "        self.bn1 = torch.nn.BatchNorm1d(hidden_dims)\n",
    "        self.bn2 = torch.nn.BatchNorm1d(int(hidden_dims/2))\n",
    "        self.relu = torch.nn.ReLU()\n",
    "        self.softmax = torch.nn.Softmax(dim=1)\n",
    "        self.attention = torch.nn.MultiheadAttention(embed_dim=self.concat_embed_dim, num_heads=4)\n",
    "\n",
    "    def forward(self, x_embed, x_reg):\n",
    "        x = [embedding(x_embed[:, i]) for i, embedding in enumerate(self.embeddings)]\n",
    "        x = torch.cat(x, 1)\n",
    "        x = torch.cat([x, x_reg], 1)\n",
    "\n",
    "        x = x.unsqueeze(0)\n",
    "        attn_output, attn_output_weights = self.attention(x, x, x)\n",
    "        attn_output = attn_output.squeeze(0)\n",
    "\n",
    "\n",
    "        x = self.relu(self.bn1(self.fc1(attn_output)))\n",
    "        x = self.dropout(x)\n",
    "        x = self.relu(self.bn2(self.fc2(x)))\n",
    "        x = self.dropout(x)\n",
    "        x = self.fc3(x)\n",
    "        return x"
   ]
  },
  {
   "cell_type": "code",
   "execution_count": 557,
   "metadata": {},
   "outputs": [],
   "source": [
    "attn_model = AttentionModel(unique_embed_vals=unique_embed_vals, embed_dim=16, n_reg_feats=len(reg_feats), hidden_dims=64, n_labels=len(label_columns))\n",
    "attn_model = attn_model.to(device)"
   ]
  },
  {
   "cell_type": "code",
   "execution_count": 558,
   "metadata": {},
   "outputs": [],
   "source": [
    "optimizer = torch.optim.Adam(attn_model.parameters(), lr=0.005)\n",
    "scheduler = torch.optim.lr_scheduler.ExponentialLR(optimizer, gamma=0.95)\n",
    "loss = torch.nn.BCEWithLogitsLoss(pos_weight=loss_weights)"
   ]
  },
  {
   "cell_type": "code",
   "execution_count": 559,
   "metadata": {},
   "outputs": [],
   "source": [
    "epochs = 30"
   ]
  },
  {
   "cell_type": "code",
   "execution_count": 560,
   "metadata": {},
   "outputs": [
    {
     "name": "stderr",
     "output_type": "stream",
     "text": [
      "Epoch 1/30: 100%|██████████| 2014/2014 [00:37<00:00, 54.17it/s]\n"
     ]
    },
    {
     "name": "stdout",
     "output_type": "stream",
     "text": [
      "Epoch 1, train_loss: 0.05461705419444872 train_acc: 0.4118003965448383\n"
     ]
    },
    {
     "name": "stderr",
     "output_type": "stream",
     "text": [
      "Epoch 2/30: 100%|██████████| 2014/2014 [00:28<00:00, 69.75it/s]\n"
     ]
    },
    {
     "name": "stdout",
     "output_type": "stream",
     "text": [
      "Epoch 2, train_loss: 0.046546161746330625 train_acc: 0.44698590842364316\n"
     ]
    },
    {
     "name": "stderr",
     "output_type": "stream",
     "text": [
      "Epoch 3/30: 100%|██████████| 2014/2014 [00:31<00:00, 63.75it/s]\n"
     ]
    },
    {
     "name": "stdout",
     "output_type": "stream",
     "text": [
      "Epoch 3, train_loss: 0.04582700438708688 train_acc: 0.4488689567052373\n"
     ]
    },
    {
     "name": "stderr",
     "output_type": "stream",
     "text": [
      "Epoch 4/30: 100%|██████████| 2014/2014 [00:30<00:00, 66.23it/s]\n"
     ]
    },
    {
     "name": "stdout",
     "output_type": "stream",
     "text": [
      "Epoch 4, train_loss: 0.04536181038695035 train_acc: 0.4512638770454644\n"
     ]
    },
    {
     "name": "stderr",
     "output_type": "stream",
     "text": [
      "Epoch 5/30: 100%|██████████| 2014/2014 [00:29<00:00, 69.25it/s]\n"
     ]
    },
    {
     "name": "stdout",
     "output_type": "stream",
     "text": [
      "Epoch 5, train_loss: 0.04507209578493856 train_acc: 0.45261768166314065\n"
     ]
    },
    {
     "name": "stderr",
     "output_type": "stream",
     "text": [
      "100%|██████████| 378/378 [00:02<00:00, 179.43it/s]\n"
     ]
    },
    {
     "name": "stdout",
     "output_type": "stream",
     "text": [
      "Epoch 5, val_loss: 0.0002473828790243715, val_acc: 0.453973456600073\n"
     ]
    },
    {
     "name": "stderr",
     "output_type": "stream",
     "text": [
      "Epoch 6/30: 100%|██████████| 2014/2014 [00:33<00:00, 60.68it/s]\n"
     ]
    },
    {
     "name": "stdout",
     "output_type": "stream",
     "text": [
      "Epoch 6, train_loss: 0.04487259553184931 train_acc: 0.4535071753162644\n"
     ]
    },
    {
     "name": "stderr",
     "output_type": "stream",
     "text": [
      "Epoch 7/30: 100%|██████████| 2014/2014 [00:31<00:00, 63.56it/s]\n"
     ]
    },
    {
     "name": "stdout",
     "output_type": "stream",
     "text": [
      "Epoch 7, train_loss: 0.04474976775167064 train_acc: 0.4540080847113682\n"
     ]
    },
    {
     "name": "stderr",
     "output_type": "stream",
     "text": [
      "Epoch 8/30: 100%|██████████| 2014/2014 [00:32<00:00, 62.19it/s]\n"
     ]
    },
    {
     "name": "stdout",
     "output_type": "stream",
     "text": [
      "Epoch 8, train_loss: 0.04462626490597692 train_acc: 0.45557886573874184\n"
     ]
    },
    {
     "name": "stderr",
     "output_type": "stream",
     "text": [
      "Epoch 9/30: 100%|██████████| 2014/2014 [00:36<00:00, 54.60it/s]\n"
     ]
    },
    {
     "name": "stdout",
     "output_type": "stream",
     "text": [
      "Epoch 9, train_loss: 0.044563469838613666 train_acc: 0.4561127474526143\n"
     ]
    },
    {
     "name": "stderr",
     "output_type": "stream",
     "text": [
      "Epoch 10/30: 100%|██████████| 2014/2014 [00:33<00:00, 60.89it/s]\n"
     ]
    },
    {
     "name": "stdout",
     "output_type": "stream",
     "text": [
      "Epoch 10, train_loss: 0.044497928943747676 train_acc: 0.45642965275678943\n"
     ]
    },
    {
     "name": "stderr",
     "output_type": "stream",
     "text": [
      "100%|██████████| 378/378 [00:02<00:00, 168.21it/s]\n"
     ]
    },
    {
     "name": "stdout",
     "output_type": "stream",
     "text": [
      "Epoch 10, val_loss: 0.0002467685844749212, val_acc: 0.4566129013866083\n"
     ]
    },
    {
     "name": "stderr",
     "output_type": "stream",
     "text": [
      "Epoch 11/30: 100%|██████████| 2014/2014 [00:34<00:00, 58.80it/s]\n"
     ]
    },
    {
     "name": "stdout",
     "output_type": "stream",
     "text": [
      "Epoch 11, train_loss: 0.044455518311605435 train_acc: 0.4563224716387462\n"
     ]
    },
    {
     "name": "stderr",
     "output_type": "stream",
     "text": [
      "Epoch 12/30: 100%|██████████| 2014/2014 [00:32<00:00, 62.18it/s]\n"
     ]
    },
    {
     "name": "stdout",
     "output_type": "stream",
     "text": [
      "Epoch 12, train_loss: 0.04440744716559408 train_acc: 0.4582765242487371\n"
     ]
    },
    {
     "name": "stderr",
     "output_type": "stream",
     "text": [
      "Epoch 13/30: 100%|██████████| 2014/2014 [00:34<00:00, 58.60it/s]\n"
     ]
    },
    {
     "name": "stdout",
     "output_type": "stream",
     "text": [
      "Epoch 13, train_loss: 0.04436957894231617 train_acc: 0.4578827959716765\n"
     ]
    },
    {
     "name": "stderr",
     "output_type": "stream",
     "text": [
      "Epoch 14/30: 100%|██████████| 2014/2014 [00:34<00:00, 58.25it/s]\n"
     ]
    },
    {
     "name": "stdout",
     "output_type": "stream",
     "text": [
      "Epoch 14, train_loss: 0.04433048096815607 train_acc: 0.4582571287671085\n"
     ]
    },
    {
     "name": "stderr",
     "output_type": "stream",
     "text": [
      "Epoch 15/30: 100%|██████████| 2014/2014 [00:29<00:00, 69.07it/s]\n"
     ]
    },
    {
     "name": "stdout",
     "output_type": "stream",
     "text": [
      "Epoch 15, train_loss: 0.04430647963489653 train_acc: 0.4590763770454644\n"
     ]
    },
    {
     "name": "stderr",
     "output_type": "stream",
     "text": [
      "100%|██████████| 378/378 [00:02<00:00, 178.20it/s]\n"
     ]
    },
    {
     "name": "stdout",
     "output_type": "stream",
     "text": [
      "Epoch 15, val_loss: 0.00024835459771566093, val_acc: 0.45591018974639663\n"
     ]
    },
    {
     "name": "stderr",
     "output_type": "stream",
     "text": [
      "Epoch 16/30: 100%|██████████| 2014/2014 [00:36<00:00, 55.39it/s]\n"
     ]
    },
    {
     "name": "stdout",
     "output_type": "stream",
     "text": [
      "Epoch 16, train_loss: 0.044273019863557084 train_acc: 0.45877085604572343\n"
     ]
    },
    {
     "name": "stderr",
     "output_type": "stream",
     "text": [
      "Epoch 17/30: 100%|██████████| 2014/2014 [00:29<00:00, 69.21it/s]\n"
     ]
    },
    {
     "name": "stdout",
     "output_type": "stream",
     "text": [
      "Epoch 17, train_loss: 0.04424085814872056 train_acc: 0.45951564254026167\n"
     ]
    },
    {
     "name": "stderr",
     "output_type": "stream",
     "text": [
      "Epoch 18/30: 100%|██████████| 2014/2014 [00:30<00:00, 65.76it/s]\n"
     ]
    },
    {
     "name": "stdout",
     "output_type": "stream",
     "text": [
      "Epoch 18, train_loss: 0.04421195217483152 train_acc: 0.4593845122188161\n"
     ]
    },
    {
     "name": "stderr",
     "output_type": "stream",
     "text": [
      "Epoch 19/30: 100%|██████████| 2014/2014 [00:31<00:00, 64.71it/s]\n"
     ]
    },
    {
     "name": "stdout",
     "output_type": "stream",
     "text": [
      "Epoch 19, train_loss: 0.04418945294003027 train_acc: 0.4601149629225854\n"
     ]
    },
    {
     "name": "stderr",
     "output_type": "stream",
     "text": [
      "Epoch 20/30: 100%|██████████| 2014/2014 [00:33<00:00, 60.04it/s]\n"
     ]
    },
    {
     "name": "stdout",
     "output_type": "stream",
     "text": [
      "Epoch 20, train_loss: 0.04418506829369565 train_acc: 0.4601039159308752\n"
     ]
    },
    {
     "name": "stderr",
     "output_type": "stream",
     "text": [
      "100%|██████████| 378/378 [00:02<00:00, 138.27it/s]\n"
     ]
    },
    {
     "name": "stdout",
     "output_type": "stream",
     "text": [
      "Epoch 20, val_loss: 0.00024756722268648446, val_acc: 0.4574189529739099\n"
     ]
    },
    {
     "name": "stderr",
     "output_type": "stream",
     "text": [
      "Epoch 21/30: 100%|██████████| 2014/2014 [00:34<00:00, 58.11it/s]\n"
     ]
    },
    {
     "name": "stdout",
     "output_type": "stream",
     "text": [
      "Epoch 21, train_loss: 0.04416974238466838 train_acc: 0.46049688525430676\n"
     ]
    },
    {
     "name": "stderr",
     "output_type": "stream",
     "text": [
      "Epoch 22/30: 100%|██████████| 2014/2014 [00:37<00:00, 53.98it/s]\n"
     ]
    },
    {
     "name": "stdout",
     "output_type": "stream",
     "text": [
      "Epoch 22, train_loss: 0.04412968772858411 train_acc: 0.46090781648029017\n"
     ]
    },
    {
     "name": "stderr",
     "output_type": "stream",
     "text": [
      "Epoch 23/30: 100%|██████████| 2014/2014 [00:27<00:00, 74.20it/s]\n"
     ]
    },
    {
     "name": "stdout",
     "output_type": "stream",
     "text": [
      "Epoch 23, train_loss: 0.04411257924410295 train_acc: 0.46070559750226675\n"
     ]
    },
    {
     "name": "stderr",
     "output_type": "stream",
     "text": [
      "Epoch 24/30: 100%|██████████| 2014/2014 [00:26<00:00, 76.22it/s]\n"
     ]
    },
    {
     "name": "stdout",
     "output_type": "stream",
     "text": [
      "Epoch 24, train_loss: 0.04411198348065888 train_acc: 0.4611007593584042\n"
     ]
    },
    {
     "name": "stderr",
     "output_type": "stream",
     "text": [
      "Epoch 25/30: 100%|██████████| 2014/2014 [00:37<00:00, 53.24it/s]\n"
     ]
    },
    {
     "name": "stdout",
     "output_type": "stream",
     "text": [
      "Epoch 25, train_loss: 0.044078486691328 train_acc: 0.4610721721050473\n"
     ]
    },
    {
     "name": "stderr",
     "output_type": "stream",
     "text": [
      "100%|██████████| 378/378 [00:02<00:00, 170.04it/s]\n"
     ]
    },
    {
     "name": "stdout",
     "output_type": "stream",
     "text": [
      "Epoch 25, val_loss: 0.00024467488401569426, val_acc: 0.4562120136608283\n"
     ]
    },
    {
     "name": "stderr",
     "output_type": "stream",
     "text": [
      "Epoch 26/30: 100%|██████████| 2014/2014 [00:32<00:00, 61.48it/s]\n"
     ]
    },
    {
     "name": "stdout",
     "output_type": "stream",
     "text": [
      "Epoch 26, train_loss: 0.04406580180595624 train_acc: 0.46172748639955097\n"
     ]
    },
    {
     "name": "stderr",
     "output_type": "stream",
     "text": [
      "Epoch 27/30: 100%|██████████| 2014/2014 [00:32<00:00, 61.34it/s]\n"
     ]
    },
    {
     "name": "stdout",
     "output_type": "stream",
     "text": [
      "Epoch 27, train_loss: 0.04407682576121498 train_acc: 0.46139894380639873\n"
     ]
    },
    {
     "name": "stderr",
     "output_type": "stream",
     "text": [
      "Epoch 28/30: 100%|██████████| 2014/2014 [00:34<00:00, 58.50it/s]\n"
     ]
    },
    {
     "name": "stdout",
     "output_type": "stream",
     "text": [
      "Epoch 28, train_loss: 0.04402307044925555 train_acc: 0.46180430937243644\n"
     ]
    },
    {
     "name": "stderr",
     "output_type": "stream",
     "text": [
      "Epoch 29/30: 100%|██████████| 2014/2014 [00:33<00:00, 59.26it/s]\n"
     ]
    },
    {
     "name": "stdout",
     "output_type": "stream",
     "text": [
      "Epoch 29, train_loss: 0.04403034626120607 train_acc: 0.4617796855435862\n"
     ]
    },
    {
     "name": "stderr",
     "output_type": "stream",
     "text": [
      "Epoch 30/30: 100%|██████████| 2014/2014 [00:32<00:00, 61.33it/s]\n"
     ]
    },
    {
     "name": "stdout",
     "output_type": "stream",
     "text": [
      "Epoch 30, train_loss: 0.044012967682080094 train_acc: 0.46149356002547387\n"
     ]
    },
    {
     "name": "stderr",
     "output_type": "stream",
     "text": [
      "100%|██████████| 378/378 [00:02<00:00, 147.20it/s]"
     ]
    },
    {
     "name": "stdout",
     "output_type": "stream",
     "text": [
      "Epoch 30, val_loss: 0.00024675021995790303, val_acc: 0.45743962096332785\n"
     ]
    },
    {
     "name": "stderr",
     "output_type": "stream",
     "text": [
      "\n"
     ]
    }
   ],
   "source": [
    "for epoch in range(epochs):\n",
    "    attn_model.train()\n",
    "    loss_train = 0\n",
    "    loss_acc = 0\n",
    "    for x_embed, x_reg, y in tqdm(train_loader, desc=f'Epoch {epoch+1}/{epochs}'):\n",
    "        x_embed = x_embed.to(device)\n",
    "        x_reg = x_reg.to(device)\n",
    "        y = y.to(device)\n",
    "        y_train_labels = y.argmax(dim=1).to(device)\n",
    "        optimizer.zero_grad()\n",
    "        y_pred = attn_model(x_embed, x_reg).to(device)\n",
    "        _, predicted_labels = torch.max(y_pred, 1)\n",
    "        loss_value = loss(y_pred, y.float().to(device))\n",
    "        loss_value.backward()\n",
    "        optimizer.step()\n",
    "        loss_train += loss_value.item()\n",
    "        loss_acc += accuracy_score(y_train_labels.cpu(), predicted_labels.cpu())\n",
    "    scheduler.step()\n",
    "    loss_train /= len(train_loader)\n",
    "    loss_acc /= len(train_loader)\n",
    "    print(f'Epoch {epoch+1}, train_loss: {loss_train}', f'train_acc: {loss_acc}')\n",
    "\n",
    "    if (epoch+1) % 5 == 0:    \n",
    "        attn_model.eval()\n",
    "        val_loss = 0\n",
    "        val_acc = 0\n",
    "        with torch.no_grad():\n",
    "            for x_embed, x_reg, y in tqdm(val_loader):\n",
    "                x_embed = x_embed.to(device)\n",
    "                x_reg = x_reg.to(device)\n",
    "                y = y.to(device)\n",
    "                y_val_labels = y.argmax(dim=1).to(device)\n",
    "        \n",
    "                y_pred = attn_model(x_embed, x_reg)\n",
    "                y_pred = y_pred.to(device)\n",
    "                _, predicted_labels = torch.max(y_pred, 1)\n",
    "\n",
    "                val_loss = loss(y_pred, y.float().to(device))\n",
    "                val_loss += val_loss.item()\n",
    "                val_acc += accuracy_score(y_val_labels.cpu(), predicted_labels.cpu())\n",
    "        \n",
    "        val_loss /= len(val_loader)\n",
    "        val_acc /= len(val_loader)\n",
    "\n",
    "        print(f'Epoch {epoch+1}, val_loss: {val_loss}, val_acc: {val_acc}')"
   ]
  },
  {
   "cell_type": "code",
   "execution_count": 575,
   "metadata": {},
   "outputs": [],
   "source": [
    "#### TO get probabilities from these models, you would just take the raw outputs and apply a softmax to them."
   ]
  },
  {
   "cell_type": "code",
   "execution_count": 561,
   "metadata": {},
   "outputs": [
    {
     "name": "stdout",
     "output_type": "stream",
     "text": [
      "Model 1:\n",
      "Confusion matrix:\n",
      "[[  211    10     0   126  2583     0     0   208     0     0     0   140\n",
      "    165]\n",
      " [   85   106     0   117  2332     0     0   170     0     2     0    69\n",
      "    106]\n",
      " [    0     0     0     0     4     0     0     0     0     1     0     0\n",
      "      0]\n",
      " [   35    19     0   436  1536     0     0    78     0     0     0    77\n",
      "     19]\n",
      " [   37    11     0    31 10884     0     0   160     0     5     0    65\n",
      "    295]\n",
      " [    0     0     0     0    10     0     0     0     0     0     0     0\n",
      "      0]\n",
      " [    2     6     0     2   387     0     0    39     0     0     0    21\n",
      "     68]\n",
      " [   14    13     0     3  3017     0     0   679     0     0     0     8\n",
      "    137]\n",
      " [   12     0     0     0   368     0     0    12     0     0     0    65\n",
      "      9]\n",
      " [    0     0     0     0    71     0     0     0     0    74     0     0\n",
      "      0]\n",
      " [    0     1     0     0     0     0     0     1     0     0     0     0\n",
      "      1]\n",
      " [   78    20     0   129   662     0     0     7     0     0     0   889\n",
      "    325]\n",
      " [   25     6     0    12  3579     0     0    65     0     0     0   143\n",
      "   1127]]\n",
      "Cohen's Kappa score:\n",
      "0.20500950548923258\n",
      "\n",
      "\n",
      "Model 2:\n",
      "Confusion matrix:\n",
      "[[  292     8     0   127  2482     0     0   207     0     0     0   131\n",
      "    196]\n",
      " [   94    84     0   111  2313     0     0   160     0     2     0    78\n",
      "    145]\n",
      " [    0     0     0     0     5     0     0     0     0     0     0     0\n",
      "      0]\n",
      " [   35     5     0   450  1508     0     0    91     0     0     0    84\n",
      "     27]\n",
      " [   43     9     0    35 10688     0     0   185     0     4     0    50\n",
      "    474]\n",
      " [    0     0     0     0    10     0     0     0     0     0     0     0\n",
      "      0]\n",
      " [    4     6     0     2   372     0     0    42     0     0     0    26\n",
      "     73]\n",
      " [   23     9     0     5  2757     0     0   802     0     0     0    19\n",
      "    256]\n",
      " [   11     0     0     0   353     0     0    24     0     0     0    70\n",
      "      8]\n",
      " [    0     0     0     0    84     0     0     0     0    61     0     0\n",
      "      0]\n",
      " [    0     1     0     0     0     0     0     1     0     0     0     0\n",
      "      1]\n",
      " [   78     2     0    99   641     0     0     4     0     0     0   944\n",
      "    342]\n",
      " [   33     3     0     9  3290     0     0    74     0     0     0   142\n",
      "   1406]]\n",
      "Cohen's Kappa score:\n",
      "0.22617949993697273\n",
      "\n",
      "\n",
      "Model 3:\n",
      "Confusion matrix:\n",
      "[[  234     8     0   119  2638     0     0   149     0     0     0   167\n",
      "    128]\n",
      " [   67    77     0   104  2362     0     0   149     0     2     0   120\n",
      "    106]\n",
      " [    0     0     0     0     4     0     0     0     0     1     0     0\n",
      "      0]\n",
      " [   24     8     0   411  1560     0     0    62     0     0     0   113\n",
      "     22]\n",
      " [   22     6     0    25 10870     0     0   167     0     6     0    53\n",
      "    339]\n",
      " [    0     0     0     0    10     0     0     0     0     0     0     0\n",
      "      0]\n",
      " [    4     5     0     2   385     0     0    35     0     0     0    25\n",
      "     69]\n",
      " [    6     2     0     5  3066     0     0   618     0     0     0    10\n",
      "    164]\n",
      " [   17     0     0     0   363     0     0    15     0     0     0    68\n",
      "      3]\n",
      " [    0     0     0     0    75     0     0     0     0    70     0     0\n",
      "      0]\n",
      " [    0     1     0     0     0     0     0     2     0     0     0     0\n",
      "      0]\n",
      " [   92     4     0    71   704     0     0     4     0     0     0   974\n",
      "    261]\n",
      " [   34     3     0     8  3537     0     0    78     0     0     0   165\n",
      "   1132]]\n",
      "Cohen's Kappa score:\n",
      "0.20309471252502032\n",
      "\n",
      "\n"
     ]
    }
   ],
   "source": [
    "test_labels = []\n",
    "test_preds_model1 = []\n",
    "test_preds_model2 = []\n",
    "test_preds_model3 = []\n",
    "\n",
    "models = [simple_model, embed_model, attn_model]\n",
    "preds = [test_preds_model1, test_preds_model2, test_preds_model3]\n",
    "\n",
    "for x_embed, x_reg, y in test_loader:\n",
    "    x_embed = x_embed.to(device)\n",
    "    x_reg = x_reg.to(device)\n",
    "    y = y.to(device)\n",
    "    test_labels.extend(y.argmax(dim=1).cpu().numpy())  \n",
    "\n",
    "    for i, model in enumerate(models):\n",
    "        model.eval()\n",
    "        with torch.no_grad():\n",
    "            if i == 0:\n",
    "                y_pred = model(x_reg)\n",
    "            else:\n",
    "                y_pred = model(x_embed, x_reg)\n",
    "            _, predicted_labels = torch.max(y_pred, 1)\n",
    "            preds[i].extend(predicted_labels.cpu().numpy())\n"
   ]
  },
  {
   "cell_type": "code",
   "execution_count": 565,
   "metadata": {},
   "outputs": [
    {
     "name": "stdout",
     "output_type": "stream",
     "text": [
      "Model 1:\n",
      "Cohen's Kappa score:\n",
      "0.20500950548923258\n",
      "Accuracy score:\n",
      "0.4472524060850667\n",
      "\n",
      "\n",
      "Model 2:\n",
      "Cohen's Kappa score:\n",
      "0.22617949993697273\n",
      "Accuracy score:\n",
      "0.4572182552002484\n",
      "\n",
      "\n",
      "Model 3:\n",
      "Cohen's Kappa score:\n",
      "0.20309471252502032\n",
      "Accuracy score:\n",
      "0.44663148090655075\n",
      "\n",
      "\n"
     ]
    }
   ],
   "source": [
    "\n",
    "# Compute confusion matrix and Cohen's Kappa for each model\n",
    "for i, model in enumerate(models):\n",
    "    print(f'Model {i+1}:')\n",
    "    #print('Confusion matrix:')\n",
    "    #print(confusion_matrix(test_labels, preds[i]))\n",
    "    print(\"Cohen's Kappa score:\")\n",
    "    print(cohen_kappa_score(test_labels, preds[i]))\n",
    "    print('Accuracy score:')\n",
    "    print(accuracy_score(test_labels, preds[i]))\n",
    "    print('\\n')\n"
   ]
  },
  {
   "cell_type": "code",
   "execution_count": 574,
   "metadata": {},
   "outputs": [
    {
     "data": {
      "image/png": "[encoded data removed]",
      "text/plain": [
       "<Figure size 1000x1000 with 2 Axes>"
      ]
     },
     "metadata": {},
     "output_type": "display_data"
    }
   ],
   "source": [
    "### Just looking at the best model in terms of accuracy (I know these are all bad, but with limited time just showing hte steps)\n",
    "\n",
    "\n",
    "plt.figure(figsize=(10,10))\n",
    "cm = confusion_matrix(test_labels, preds[1])\n",
    "row_totals = cm.sum(axis=1, keepdims=True)\n",
    "col_totals = cm.sum(axis=0, keepdims=True)\n",
    "\n",
    "total = cm.sum()\n",
    "col_totals = np.append(col_totals, total)\n",
    "\n",
    "cm_with_totals = np.append(cm, row_totals, axis=1)\n",
    "cm_with_totals = np.append(cm_with_totals, col_totals.reshape(1,-1), axis=0)\n",
    "\n",
    "class_labels_with_totals = label_columns + ['Total']\n",
    "\n",
    "sns.heatmap(cm_with_totals, annot=True, fmt='d', xticklabels=class_labels_with_totals, yticklabels=class_labels_with_totals, cmap='Blues')\n",
    "plt.title(f'Confusion matrix for Embedding Model with Totals')\n",
    "plt.xlabel('Predicted label')\n",
    "plt.ylabel('True label')\n",
    "plt.show();"
   ]
  },
  {
   "cell_type": "code",
   "execution_count": 583,
   "metadata": {},
   "outputs": [],
   "source": [
    "###It's not as bad as I thought initially when looking at the results. FF only makes up around 35% of all pitches, so accuracy above that is pretty good. \n",
    "##The model predicts the more common pitch types more often, but it's good to see that it's not just predicting FF all the time etc.\n",
    "## It does still seem to favor FF, so some things in the future I could try is undersampling those pitches to balance the classes a bit more, or adjust the weightings in the loss function\n",
    "### Changeups and Curveballs despite being the third and fourth most common pitches are not predicted well by this model, but sliders and sinkers do OK\n",
    "### I think finding a way to tip the model away from FF would be the most impactful"
   ]
  },
  {
   "cell_type": "code",
   "execution_count": 582,
   "metadata": {},
   "outputs": [
    {
     "data": {
      "image/png": "[encoded data removed]",
      "text/plain": [
       "<Figure size 2000x600 with 1 Axes>"
      ]
     },
     "metadata": {},
     "output_type": "display_data"
    }
   ],
   "source": [
    "plt.figure(figsize=(20,6))\n",
    "sns.barplot(x=label_columns, y=loss_weights.cpu().numpy())\n",
    "plt.show;"
   ]
  },
  {
   "cell_type": "code",
   "execution_count": null,
   "metadata": {},
   "outputs": [],
   "source": []
  }
 ],
 "metadata": {
  "kernelspec": {
   "display_name": "ptorch",
   "language": "python",
   "name": "python3"
  },
  "language_info": {
   "codemirror_mode": {
    "name": "ipython",
    "version": 3
   },
   "file_extension": ".py",
   "mimetype": "text/x-python",
   "name": "python",
   "nbconvert_exporter": "python",
   "pygments_lexer": "ipython3",
   "version": "3.9.0"
  },
  "orig_nbformat": 4
 },
 "nbformat": 4,
 "nbformat_minor": 2
}
